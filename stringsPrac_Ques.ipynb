{
 "cells": [
  {
   "cell_type": "markdown",
   "metadata": {},
   "source": [
    "https://www.w3resource.com/python-exercises/string/"
   ]
  },
  {
   "cell_type": "markdown",
   "metadata": {},
   "source": [
    "## 2. Count character frequency in a string."
   ]
  },
  {
   "cell_type": "code",
   "execution_count": 34,
   "metadata": {},
   "outputs": [
    {
     "name": "stdout",
     "output_type": "stream",
     "text": [
      "a\n",
      "1\n",
      "b\n",
      "2\n",
      "a\n",
      "3\n"
     ]
    }
   ],
   "source": [
    "a=\"abbaa\"\n",
    "b=list(a)\n",
    "c=0\n",
    "for i in range(0, (len(b))):\n",
    "    if b[i]==b[i-1]:\n",
    "        print(b[i])\n",
    "        c=c+1\n",
    "        print(c)\n",
    "    #print(b.count(b[i]))\n",
    "\n",
    "        "
   ]
  },
  {
   "cell_type": "markdown",
   "metadata": {},
   "source": [
    "## 3. Get string of first and last 2 chars."
   ]
  },
  {
   "cell_type": "code",
   "execution_count": 48,
   "metadata": {},
   "outputs": [
    {
     "name": "stdout",
     "output_type": "stream",
     "text": [
      "Entered string - bitches\n",
      "bies\n"
     ]
    }
   ],
   "source": [
    "a=input(\"Enter a string - \")\n",
    "print(f\"Entered string - {a}\")\n",
    "if len(a)>1:\n",
    "    print(a[0:2]+a[-2:])\n",
    "else:\n",
    "    print(\"Empty string\")"
   ]
  },
  {
   "cell_type": "markdown",
   "metadata": {},
   "source": [
    "## 4. Replace first char occurrences with $."
   ]
  },
  {
   "cell_type": "code",
   "execution_count": 29,
   "metadata": {},
   "outputs": [
    {
     "name": "stdout",
     "output_type": "stream",
     "text": [
      "a$$b$\n"
     ]
    }
   ],
   "source": [
    "a = \"aaaba\"\n",
    "c = a[0]\n",
    "a = a.replace(c, \"$\")\n",
    "a = c + a[1:]\n",
    "print(a)\n"
   ]
  },
  {
   "cell_type": "markdown",
   "metadata": {},
   "source": [
    "## 5. Swap first 2 chars of 2 strings."
   ]
  },
  {
   "cell_type": "code",
   "execution_count": 46,
   "metadata": {},
   "outputs": [
    {
     "name": "stdout",
     "output_type": "stream",
     "text": [
      " Entered string :- \n",
      "tasty\n",
      "pussy\n",
      " Swapped :-\n",
      "tassy\n",
      "pusty\n"
     ]
    }
   ],
   "source": [
    "z=input(\"Enter 2 string seperated by space -\").split()\n",
    "a = z[0]\n",
    "b = z[1]\n",
    "print(f\" Entered string :- \\n{a}\\n{b}\")\n",
    "print(\" Swapped :-\")\n",
    "print(a[:2]+b[2:])\n",
    "print(b[:2]+a[2:])"
   ]
  },
  {
   "cell_type": "markdown",
   "metadata": {},
   "source": [
    "## 6. Add ing or ly to a string."
   ]
  },
  {
   "cell_type": "code",
   "execution_count": 53,
   "metadata": {},
   "outputs": [
    {
     "name": "stdout",
     "output_type": "stream",
     "text": [
      "Entered number - fucking\n",
      "fuckingly\n"
     ]
    }
   ],
   "source": [
    "n=input(\"Enter a word -\")\n",
    "\n",
    "print(f\"Entered number - {n}\")\n",
    "if len(n)>=3:\n",
    "    if n.endswith(\"ing\"):\n",
    "        print(n+\"ly\")\n",
    "    else:\n",
    "        print(n+\"ing\")\n",
    "\n",
    "else:\n",
    "    print(\"Enter word > 3chars  \")"
   ]
  },
  {
   "cell_type": "markdown",
   "metadata": {},
   "source": [
    "## 8. Find longest word in a list."
   ]
  },
  {
   "cell_type": "code",
   "execution_count": 74,
   "metadata": {},
   "outputs": [
    {
     "name": "stdout",
     "output_type": "stream",
     "text": [
      "['hello', '123', 'tummy', 'yumyumyum']\n",
      "Longest word is - yumyumyum\n"
     ]
    }
   ],
   "source": [
    "n=input(\"Enter words space seperated -\").split(\" \")\n",
    "print(n)\n",
    "r=\"\"\n",
    "for i in range(0, len(n)):\n",
    "    if len(n[i]) > len(r):\n",
    "        r=n[i]\n",
    "    \n",
    "print(f\"Longest word is - {r}\")"
   ]
  },
  {
   "cell_type": "markdown",
   "metadata": {},
   "source": [
    "## 25. Implement Caesar cipher encryption."
   ]
  },
  {
   "cell_type": "code",
   "execution_count": 86,
   "metadata": {},
   "outputs": [
    {
     "name": "stdout",
     "output_type": "stream",
     "text": [
      "Entered stuff - vatty daddy\n",
      "Encrypted text: xcvva fcffa\n"
     ]
    }
   ],
   "source": [
    "n = input(\"Type stuff - \")\n",
    "print(f\"Entered stuff - {n}\")\n",
    "result = \"\"\n",
    "\n",
    "for c in n:\n",
    "    if c.isupper():\n",
    "        result += chr((ord(c) - 65 + 2) % 26 + 65)\n",
    "    elif c.islower():\n",
    "        result += chr((ord(c) - 97 + 2) % 26 + 97)\n",
    "    else:\n",
    "        result += c\n",
    "\n",
    "print(f\"Encrypted text: {result}\")\n"
   ]
  },
  {
   "cell_type": "markdown",
   "metadata": {},
   "source": [
    "## 40. Reverse words in a string"
   ]
  },
  {
   "cell_type": "code",
   "execution_count": 5,
   "metadata": {},
   "outputs": [
    {
     "name": "stdout",
     "output_type": "stream",
     "text": [
      "Entered string is ['i', 'want', 'a', 'basket']\n",
      "Reversed -  i tnaw a teksab\n"
     ]
    }
   ],
   "source": [
    "a=input(\"Enter a string -\").split(\" \")\n",
    "print(f\"Entered string is {a}\")\n",
    "c=\"\"\n",
    "for i in range(0, len(a)):\n",
    "    p=(a[i][::-1])\n",
    "    c=c+\" \"+p\n",
    "print(\"Reversed -\", c)"
   ]
  },
  {
   "cell_type": "markdown",
   "metadata": {},
   "source": [
    "## 42. Count repeated characters in string."
   ]
  },
  {
   "cell_type": "code",
   "execution_count": 33,
   "metadata": {},
   "outputs": [
    {
     "name": "stdout",
     "output_type": "stream",
     "text": [
      "a - 1\n",
      "a - 2\n",
      "f - 3\n",
      "a - 4\n",
      "f - 5\n"
     ]
    }
   ],
   "source": [
    "a=\"awafawf\"\n",
    "ct=0\n",
    "for c in a:\n",
    "    if c in \"abcef\":\n",
    "        ct=ct+1\n",
    "        print (f\"{c} - {ct}\")"
   ]
  },
  {
   "cell_type": "markdown",
   "metadata": {},
   "source": [
    "## 45. Check if string has all alphabet letters."
   ]
  },
  {
   "cell_type": "code",
   "execution_count": 40,
   "metadata": {},
   "outputs": [
    {
     "name": "stdout",
     "output_type": "stream",
     "text": [
      "True\n",
      "True\n",
      "True\n",
      "False\n",
      "True\n"
     ]
    }
   ],
   "source": [
    "a=\"abhcf\"\n",
    "c=\"abdefghijklmnopqrstuvwxyx\"\n",
    "\n",
    "for ch in a:\n",
    "    if ch in c:\n",
    "        print (True)\n",
    "    else:\n",
    "        print (False)"
   ]
  },
  {
   "cell_type": "markdown",
   "metadata": {},
   "source": [
    "## 48. Swap commas and dots in a string."
   ]
  },
  {
   "cell_type": "code",
   "execution_count": 74,
   "metadata": {},
   "outputs": [
    {
     "name": "stdout",
     "output_type": "stream",
     "text": [
      "32,054.23\n"
     ]
    }
   ],
   "source": [
    "a = \"32.054,23\"\n",
    "\n",
    "a=a.replace(\",\", \"$\")\n",
    "a=a.replace(\".\", \",\")\n",
    "a=a.replace(\"$\", \".\")\n",
    "\n",
    "print(a)"
   ]
  }
 ],
 "metadata": {
  "kernelspec": {
   "display_name": "Python 3",
   "language": "python",
   "name": "python3"
  },
  "language_info": {
   "codemirror_mode": {
    "name": "ipython",
    "version": 3
   },
   "file_extension": ".py",
   "mimetype": "text/x-python",
   "name": "python",
   "nbconvert_exporter": "python",
   "pygments_lexer": "ipython3",
   "version": "3.12.9"
  }
 },
 "nbformat": 4,
 "nbformat_minor": 2
}
