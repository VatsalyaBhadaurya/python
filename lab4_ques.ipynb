{
 "cells": [
  {
   "cell_type": "markdown",
   "metadata": {
    "vscode": {
     "languageId": "plaintext"
    }
   },
   "source": [
    "## Write a Python code to print the first 40 multiples of 7 using for loop."
   ]
  },
  {
   "cell_type": "code",
   "execution_count": 1,
   "metadata": {},
   "outputs": [
    {
     "name": "stdout",
     "output_type": "stream",
     "text": [
      "7\n",
      "14\n",
      "21\n",
      "28\n",
      "35\n",
      "42\n",
      "49\n",
      "56\n",
      "63\n",
      "70\n",
      "77\n",
      "84\n",
      "91\n",
      "98\n",
      "105\n",
      "112\n",
      "119\n",
      "126\n",
      "133\n",
      "140\n",
      "147\n",
      "154\n",
      "161\n",
      "168\n",
      "175\n",
      "182\n",
      "189\n",
      "196\n",
      "203\n",
      "210\n",
      "217\n",
      "224\n",
      "231\n",
      "238\n",
      "245\n",
      "252\n",
      "259\n",
      "266\n",
      "273\n",
      "280\n"
     ]
    }
   ],
   "source": [
    "for i in range(1,41):\n",
    "    print(i*7)\n",
    "    "
   ]
  },
  {
   "cell_type": "markdown",
   "metadata": {},
   "source": [
    "## sum of 6 digit number"
   ]
  },
  {
   "cell_type": "code",
   "execution_count": null,
   "metadata": {},
   "outputs": [
    {
     "name": "stdout",
     "output_type": "stream",
     "text": [
      "Sum of number 123321 is 12\n"
     ]
    }
   ],
   "source": [
    "n=input(\"Enter a 6 digit number -\")\n",
    "s=0\n",
    "for i in range (1,len(n)+1):\n",
    "    d= int(n[i-1])\n",
    "    s = s+d\n",
    "\n",
    "print(f\"Sum of number {n} is {s}\")"
   ]
  },
  {
   "cell_type": "markdown",
   "metadata": {},
   "source": [
    "## Write a Python code to execute while loop until the user enters a multiple of 3."
   ]
  },
  {
   "cell_type": "code",
   "execution_count": 47,
   "metadata": {},
   "outputs": [
    {
     "name": "stdout",
     "output_type": "stream",
     "text": [
      "6 is a multiple of 3\n"
     ]
    }
   ],
   "source": [
    "a = 1\n",
    "for i in range(a):\n",
    "    n = int(input(\"Enter a number - \"))\n",
    "    if n % 3 == 0:\n",
    "        print(f\"{n} is a multiple of 3\")\n",
    "        break\n",
    "    else:\n",
    "        print(f\"Entered number is - {n}\")\n",
    "        a += 1\n"
   ]
  },
  {
   "cell_type": "code",
   "execution_count": 50,
   "metadata": {},
   "outputs": [
    {
     "name": "stdout",
     "output_type": "stream",
     "text": [
      "Entered number is - 2\n",
      "Entered number is - 2\n",
      "Entered number is - 2\n",
      "Entered number is - 2\n",
      "Entered number is - 4\n",
      "Entered number is - 4\n",
      "6 is a multiple of 3\n"
     ]
    }
   ],
   "source": [
    "a = 1\n",
    "\n",
    "while True:\n",
    "    n = int(input(\"Enter a number - \"))\n",
    "    if n % 3 == 0:\n",
    "        print(f\"{n} is a multiple of 3\")\n",
    "        break\n",
    "    else:\n",
    "        print(f\"Entered number is - {n}\")\n",
    "        a += 1\n"
   ]
  },
  {
   "cell_type": "markdown",
   "metadata": {},
   "source": [
    "## Write a Python code to print the following pattern using for loop:"
   ]
  },
  {
   "cell_type": "code",
   "execution_count": null,
   "metadata": {},
   "outputs": [],
   "source": [
    "for i in range(1, 6):\n",
    "    print(\"*\"*i)"
   ]
  }
 ],
 "metadata": {
  "kernelspec": {
   "display_name": "Python 3",
   "language": "python",
   "name": "python3"
  },
  "language_info": {
   "codemirror_mode": {
    "name": "ipython",
    "version": 3
   },
   "file_extension": ".py",
   "mimetype": "text/x-python",
   "name": "python",
   "nbconvert_exporter": "python",
   "pygments_lexer": "ipython3",
   "version": "3.12.9"
  }
 },
 "nbformat": 4,
 "nbformat_minor": 2
}
