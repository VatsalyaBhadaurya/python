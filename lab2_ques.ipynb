{
 "cells": [
  {
   "cell_type": "code",
   "execution_count": 6,
   "metadata": {},
   "outputs": [
    {
     "name": "stdout",
     "output_type": "stream",
     "text": [
      "Adult\n",
      "45.0\n"
     ]
    }
   ],
   "source": [
    "# age\n",
    "\n",
    "def age(n):\n",
    "    if n>=0 and n<=12:\n",
    "        print(\"Child\")\n",
    "    elif n>=13 and n<=19:\n",
    "        print(\"Teenager\")\n",
    "    elif n>=20 and n<=35:\n",
    "        print(\"Young Adult\")\n",
    "    elif n>=36 and n<=60:\n",
    "        print(\"Adult\")\n",
    "    else:\n",
    "        print(\"Senior Citizen\")\n",
    "    return n\n",
    "    \n",
    "\n",
    "a=float(input(\"Enter ypur age 1\"))\n",
    "print(age(a))"
   ]
  },
  {
   "cell_type": "code",
   "execution_count": 12,
   "metadata": {},
   "outputs": [
    {
     "name": "stdout",
     "output_type": "stream",
     "text": [
      "Divisible by both 5 and 7\n",
      "35.0\n"
     ]
    }
   ],
   "source": [
    "# div by 5 7\n",
    "\n",
    "def div(n):\n",
    "    if n%5==0 and n%7==0:\n",
    "        print(\"Divisible by both 5 and 7\")\n",
    "    elif n%5==0 and n%7!=0:\n",
    "        print(\"Divisible by 5\")\n",
    "    elif n%5!=0 and n%7==0:\n",
    "        print(\"Divisible by 7\")\n",
    "    else:\n",
    "        print(\"Not divisivle by 5 and 7\")\n",
    "\n",
    "    return n\n",
    "\n",
    "a=float(input(\"Enter a number -\"))\n",
    "print(div(a))"
   ]
  },
  {
   "cell_type": "code",
   "execution_count": 2,
   "metadata": {},
   "outputs": [
    {
     "name": "stdout",
     "output_type": "stream",
     "text": [
      "Fail\n",
      "56.0\n"
     ]
    }
   ],
   "source": [
    "# grading \n",
    "\n",
    "def grade(n):\n",
    "    if n>=90 and n<=100:\n",
    "        print(\"A\")\n",
    "    elif n>=80 and n<=89:\n",
    "        print(\"B\")\n",
    "    elif n>=70 and n<=79:\n",
    "        print(\"C\")\n",
    "    elif n>=60 and n<=69:\n",
    "        print(\"D\")\n",
    "    else:\n",
    "        print(\"Fail\")\n",
    "    return n\n",
    "\n",
    "a=float(input(\"Enter your % -\"))\n",
    "print(grade(a))"
   ]
  }
 ],
 "metadata": {
  "kernelspec": {
   "display_name": "Python 3",
   "language": "python",
   "name": "python3"
  },
  "language_info": {
   "codemirror_mode": {
    "name": "ipython",
    "version": 3
   },
   "file_extension": ".py",
   "mimetype": "text/x-python",
   "name": "python",
   "nbconvert_exporter": "python",
   "pygments_lexer": "ipython3",
   "version": "3.12.8"
  }
 },
 "nbformat": 4,
 "nbformat_minor": 2
}
