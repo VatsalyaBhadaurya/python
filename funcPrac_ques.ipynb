{
 "cells": [
  {
   "cell_type": "markdown",
   "metadata": {},
   "source": [
    "https://www.w3resource.com/python-exercises/python-functions-exercises.php"
   ]
  },
  {
   "cell_type": "code",
   "execution_count": 16,
   "metadata": {},
   "outputs": [
    {
     "name": "stdout",
     "output_type": "stream",
     "text": [
      "3456.0 is largest\n"
     ]
    }
   ],
   "source": [
    "# 1. Write a Python function to find the maximum of three numbers.\n",
    "\n",
    "def max(a,b,c):\n",
    "    if a>b and a>c:\n",
    "        return f\"{a} is largest\"\n",
    "    elif b>a and b>c:\n",
    "        return f\"{b} is largest\"\n",
    "    else:\n",
    "        return f\"{c} is largest\"\n",
    "\n",
    "n1=float(input(\"Enter number 1\"))\n",
    "n2=float(input(\"Enter number 2\"))\n",
    "n3=float(input(\"Enter number 3\"))\n",
    "\n",
    "print(max(n1,n2,n3))"
   ]
  },
  {
   "cell_type": "code",
   "execution_count": 18,
   "metadata": {},
   "outputs": [
    {
     "name": "stdout",
     "output_type": "stream",
     "text": [
      "10\n",
      "None\n"
     ]
    }
   ],
   "source": [
    "# 2. Write a Python function to sum all the numbers in a list.\n",
    "\n",
    "def sum(n):\n",
    "    s=0\n",
    "    for i in range(0, len(n)):\n",
    "        s=s+n[i]\n",
    "    print(s)\n",
    "\n",
    "a=[1,2,3,4]\n",
    "print(sum(a))"
   ]
  },
  {
   "cell_type": "code",
   "execution_count": 24,
   "metadata": {},
   "outputs": [
    {
     "name": "stdout",
     "output_type": "stream",
     "text": [
      "30\n",
      "None\n"
     ]
    }
   ],
   "source": [
    "# 3. Write a Python function to multiply all the numbers in a list.\n",
    "\n",
    "def mul(a):\n",
    "    m=1\n",
    "    for i in range(0, len(a)):\n",
    "        m=m*a[i]\n",
    "    print (m)\n",
    "\n",
    "c=[1,2,3,5]\n",
    "print(mul(c))"
   ]
  },
  {
   "cell_type": "code",
   "execution_count": 44,
   "metadata": {},
   "outputs": [
    {
     "name": "stdout",
     "output_type": "stream",
     "text": [
      "0987654321\n",
      "Reversed - None\n"
     ]
    }
   ],
   "source": [
    "# 4. Write a Python program to reverse a string.\n",
    "\n",
    "def rev(n):\n",
    "    print (n[::-1])\n",
    "\n",
    "a=input(\"Enter stufff \")\n",
    "print(\"Reversed -\",rev(a))\n"
   ]
  },
  {
   "cell_type": "code",
   "execution_count": 49,
   "metadata": {},
   "outputs": [
    {
     "name": "stdout",
     "output_type": "stream",
     "text": [
      "120\n",
      "None\n"
     ]
    }
   ],
   "source": [
    "# 5. Write a Python function to calculate the factorial of a number (a non-negative integer).\n",
    "\n",
    "def fact(n):\n",
    "    m=1\n",
    "    for i in range(1,n+1):\n",
    "        m=m*i\n",
    "    print(m)\n",
    "\n",
    "a=int(input(\"Enter a number -\"))\n",
    "print(fact(a))"
   ]
  },
  {
   "cell_type": "code",
   "execution_count": 53,
   "metadata": {},
   "outputs": [
    {
     "name": "stdout",
     "output_type": "stream",
     "text": [
      "5 is in range\n",
      "None\n"
     ]
    }
   ],
   "source": [
    "# 6. Write a Python function to check whether a number falls within a given range.\n",
    "\n",
    "a=int(input(\"Enter lower bound - \"))\n",
    "b= int (input(\"Enter upper bound -\"))\n",
    "\n",
    "def rng(n):\n",
    "    if n>=a and n<=b:\n",
    "        print(n, \"is in range\")\n",
    "    else:\n",
    "        return \"outOfRange\"\n",
    "\n",
    "x=int(input(\"Enter number\"))\n",
    "print(rng(x))"
   ]
  },
  {
   "cell_type": "code",
   "execution_count": null,
   "metadata": {},
   "outputs": [
    {
     "name": "stdout",
     "output_type": "stream",
     "text": [
      "4\n"
     ]
    }
   ],
   "source": [
    "# 7. Write a Python function that accepts a string and counts the number of upper and lower case letters.\n",
    "\n",
    "\n",
    "def cases(a):\n",
    "    t=0\n",
    "    s=0\n",
    "    for c in a:\n",
    "        if c.isupper():\n",
    "            t+=1\n",
    "        else:\n",
    "            s+=1\n",
    "    return t\n",
    "\n",
    "n=input(\"Enter sentence - \")\n",
    "print(cases(n))\n",
    "            "
   ]
  },
  {
   "cell_type": "code",
   "execution_count": 125,
   "metadata": {},
   "outputs": [
    {
     "name": "stdout",
     "output_type": "stream",
     "text": [
      "['1', '2', '3', '4', '5']\n"
     ]
    }
   ],
   "source": [
    "# 8. Write a Python function that takes a list and returns a new list with distinct elements from the first list.\n",
    "\n",
    "def dist(a):\n",
    "    c=[]\n",
    "    p=None\n",
    "    for i in a: \n",
    "        if i != p:\n",
    "            c.append(i)\n",
    "            p=i\n",
    "    return c\n",
    "\n",
    "b=input(\"Enter numbers \").split()\n",
    "print(dist(b))\n"
   ]
  },
  {
   "cell_type": "code",
   "execution_count": 132,
   "metadata": {},
   "outputs": [
    {
     "name": "stdout",
     "output_type": "stream",
     "text": [
      "False\n"
     ]
    }
   ],
   "source": [
    "# 9. Write a Python function that takes a number as a parameter and checks whether the number is prime or not\n",
    "\n",
    "def prime(n):\n",
    "\n",
    "    if n==1:\n",
    "        return False\n",
    "    for i in range(2, n):\n",
    "        if n%i==0:\n",
    "            return False\n",
    "    return True\n",
    "\n",
    "print(prime(8))\n",
    "    "
   ]
  },
  {
   "cell_type": "code",
   "execution_count": 5,
   "metadata": {},
   "outputs": [
    {
     "name": "stdout",
     "output_type": "stream",
     "text": [
      "2\n",
      "4\n",
      "6\n",
      "8\n",
      "12\n",
      "None\n"
     ]
    }
   ],
   "source": [
    "# 10. Write a Python program to print the even numbers from a given list.\n",
    "\n",
    "def even(n):\n",
    "    i=0\n",
    "    for i in range(0, (len(n))):\n",
    "        if n[i]%2==0:\n",
    "            print (n[i])\n",
    "\n",
    "a=[2,4,5,6,8,12,3,7]\n",
    "print(even(a))"
   ]
  },
  {
   "cell_type": "code",
   "execution_count": 32,
   "metadata": {},
   "outputs": [
    {
     "name": "stdout",
     "output_type": "stream",
     "text": [
      "1\n",
      "2\n",
      "4\n",
      "7\n",
      "14\n",
      "('Perfect number -', 28)\n"
     ]
    }
   ],
   "source": [
    "# 11. Write a Python function to check whether a number is \"Perfect\" or not\n",
    "\n",
    "def prft(a):\n",
    "    s=0\n",
    "    for i in range (1,a):\n",
    "        if a%i==0:\n",
    "            s=s+i\n",
    "            print (i)\n",
    "            if s==a:\n",
    "                return \"Perfect number -\",a\n",
    "\n",
    "n=int(input(\"Enter a number -\"))\n",
    "print(prft(n))\n"
   ]
  },
  {
   "cell_type": "code",
   "execution_count": 33,
   "metadata": {},
   "outputs": [
    {
     "name": "stdout",
     "output_type": "stream",
     "text": [
      "('heeh', 'String is palindrome!')\n"
     ]
    }
   ],
   "source": [
    "# 12. Write a Python function that checks whether a passed string is a palindrome or not.\n",
    "\n",
    "def pldrm(n):\n",
    "    if n==n[::-1]:\n",
    "        return (a, \"String is palindrome!\")\n",
    "\n",
    "a=input(\"Enter something -\")\n",
    "print(pldrm(a))\n"
   ]
  },
  {
   "cell_type": "code",
   "execution_count": 50,
   "metadata": {},
   "outputs": [
    {
     "name": "stdout",
     "output_type": "stream",
     "text": [
      "True\n",
      "False\n"
     ]
    }
   ],
   "source": [
    "# 14. Write a Python function to check whether a string is a pangram or not.\n",
    "\n",
    "def pgrm(a):\n",
    "    a.lower()\n",
    "    l=set(\"abcdefghijklmnopqrstuvwxyz\")\n",
    "    for c in a:\n",
    "        if c in l:\n",
    "            l.remove(c)\n",
    "    return len(l)==0\n",
    "\n",
    "b=\"The quick brown fox jumps over the lazy dog\"\n",
    "print(pgrm(b))\n",
    "\n",
    "print(pgrm(\"asfsa\"))"
   ]
  },
  {
   "cell_type": "code",
   "execution_count": 4,
   "metadata": {},
   "outputs": [
    {
     "name": "stdout",
     "output_type": "stream",
     "text": [
      "red-blue-zitaaa Entered colors\n",
      "['blue', 'red', 'zitaaa']\n"
     ]
    }
   ],
   "source": [
    "# 15. Write a Python program that accepts a hyphen-separated sequence of words as input and prints the words \n",
    "# in a hyphen-separated sequence after sorting them alphabetically.\n",
    "\n",
    "def hy(n):\n",
    "    for i in range(0, len(n)):  \n",
    "        l=[n for n in n.split(\"-\")]\n",
    "        l.sort()\n",
    "    return l\n",
    "\n",
    "a=input(\"Enter colors \")\n",
    "print(a,\"Entered colors\")\n",
    "print(hy(a))"
   ]
  }
 ],
 "metadata": {
  "kernelspec": {
   "display_name": "Python 3",
   "language": "python",
   "name": "python3"
  },
  "language_info": {
   "codemirror_mode": {
    "name": "ipython",
    "version": 3
   },
   "file_extension": ".py",
   "mimetype": "text/x-python",
   "name": "python",
   "nbconvert_exporter": "python",
   "pygments_lexer": "ipython3",
   "version": "3.12.8"
  }
 },
 "nbformat": 4,
 "nbformat_minor": 2
}
