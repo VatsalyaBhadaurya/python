{
 "cells": [
  {
   "cell_type": "markdown",
   "metadata": {},
   "source": [
    "https://www.w3resource.com/python-exercises/python-functions-exercises.php"
   ]
  },
  {
   "cell_type": "code",
   "execution_count": 16,
   "metadata": {},
   "outputs": [
    {
     "name": "stdout",
     "output_type": "stream",
     "text": [
      "3456.0 is largest\n"
     ]
    }
   ],
   "source": [
    "# 1. Write a Python function to find the maximum of three numbers.\n",
    "\n",
    "def max(a,b,c):\n",
    "    if a>b and a>c:\n",
    "        return f\"{a} is largest\"\n",
    "    elif b>a and b>c:\n",
    "        return f\"{b} is largest\"\n",
    "    else:\n",
    "        return f\"{c} is largest\"\n",
    "\n",
    "n1=float(input(\"Enter number 1\"))\n",
    "n2=float(input(\"Enter number 2\"))\n",
    "n3=float(input(\"Enter number 3\"))\n",
    "\n",
    "print(max(n1,n2,n3))"
   ]
  },
  {
   "cell_type": "code",
   "execution_count": 18,
   "metadata": {},
   "outputs": [
    {
     "name": "stdout",
     "output_type": "stream",
     "text": [
      "10\n",
      "None\n"
     ]
    }
   ],
   "source": [
    "# 2. Write a Python function to sum all the numbers in a list.\n",
    "\n",
    "def sum(n):\n",
    "    s=0\n",
    "    for i in range(0, len(n)):\n",
    "        s=s+n[i]\n",
    "    print(s)\n",
    "\n",
    "a=[1,2,3,4]\n",
    "print(sum(a))"
   ]
  },
  {
   "cell_type": "code",
   "execution_count": 24,
   "metadata": {},
   "outputs": [
    {
     "name": "stdout",
     "output_type": "stream",
     "text": [
      "30\n",
      "None\n"
     ]
    }
   ],
   "source": [
    "# 3. Write a Python function to multiply all the numbers in a list.\n",
    "\n",
    "def mul(a):\n",
    "    m=1\n",
    "    for i in range(0, len(a)):\n",
    "        m=m*a[i]\n",
    "    print (m)\n",
    "\n",
    "c=[1,2,3,5]\n",
    "print(mul(c))"
   ]
  },
  {
   "cell_type": "code",
   "execution_count": 44,
   "metadata": {},
   "outputs": [
    {
     "name": "stdout",
     "output_type": "stream",
     "text": [
      "0987654321\n",
      "Reversed - None\n"
     ]
    }
   ],
   "source": [
    "# 4. Write a Python program to reverse a string.\n",
    "\n",
    "def rev(n):\n",
    "    print (n[::-1])\n",
    "\n",
    "a=input(\"Enter stufff \")\n",
    "print(\"Reversed -\",rev(a))\n"
   ]
  },
  {
   "cell_type": "code",
   "execution_count": 49,
   "metadata": {},
   "outputs": [
    {
     "name": "stdout",
     "output_type": "stream",
     "text": [
      "120\n",
      "None\n"
     ]
    }
   ],
   "source": [
    "# 5. Write a Python function to calculate the factorial of a number (a non-negative integer).\n",
    "\n",
    "def fact(n):\n",
    "    m=1\n",
    "    for i in range(1,n+1):\n",
    "        m=m*i\n",
    "    print(m)\n",
    "\n",
    "a=int(input(\"Enter a number -\"))\n",
    "print(fact(a))"
   ]
  },
  {
   "cell_type": "code",
   "execution_count": 53,
   "metadata": {},
   "outputs": [
    {
     "name": "stdout",
     "output_type": "stream",
     "text": [
      "5 is in range\n",
      "None\n"
     ]
    }
   ],
   "source": [
    "# 6. Write a Python function to check whether a number falls within a given range.\n",
    "\n",
    "a=int(input(\"Enter lower bound - \"))\n",
    "b= int (input(\"Enter upper bound -\"))\n",
    "\n",
    "def rng(n):\n",
    "    if n>=a and n<=b:\n",
    "        print(n, \"is in range\")\n",
    "    else:\n",
    "        return \"outOfRange\"\n",
    "\n",
    "x=int(input(\"Enter number\"))\n",
    "print(rng(x))"
   ]
  },
  {
   "cell_type": "code",
   "execution_count": null,
   "metadata": {},
   "outputs": [
    {
     "name": "stdout",
     "output_type": "stream",
     "text": [
      "4\n"
     ]
    }
   ],
   "source": [
    "# 7. Write a Python function that accepts a string and counts the number of upper and lower case letters.\n",
    "\n",
    "\n",
    "def cases(a):\n",
    "    t=0\n",
    "    s=0\n",
    "    for c in a:\n",
    "        if c.isupper():\n",
    "            t+=1\n",
    "        else:\n",
    "            s+=1\n",
    "    return t\n",
    "\n",
    "n=input(\"Enter sentence - \")\n",
    "print(cases(n))\n",
    "            "
   ]
  }
 ],
 "metadata": {
  "kernelspec": {
   "display_name": "Python 3",
   "language": "python",
   "name": "python3"
  },
  "language_info": {
   "codemirror_mode": {
    "name": "ipython",
    "version": 3
   },
   "file_extension": ".py",
   "mimetype": "text/x-python",
   "name": "python",
   "nbconvert_exporter": "python",
   "pygments_lexer": "ipython3",
   "version": "3.12.8"
  }
 },
 "nbformat": 4,
 "nbformat_minor": 2
}
