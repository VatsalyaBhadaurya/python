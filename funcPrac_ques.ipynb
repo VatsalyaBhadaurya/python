{
 "cells": [
  {
   "cell_type": "markdown",
   "metadata": {},
   "source": [
    "https://www.w3resource.com/python-exercises/python-functions-exercises.php"
   ]
  },
  {
   "cell_type": "code",
   "execution_count": 16,
   "metadata": {},
   "outputs": [
    {
     "name": "stdout",
     "output_type": "stream",
     "text": [
      "3456.0 is largest\n"
     ]
    }
   ],
   "source": [
    "# 1. Write a Python function to find the maximum of three numbers.\n",
    "\n",
    "def max(a,b,c):\n",
    "    if a>b and a>c:\n",
    "        return f\"{a} is largest\"\n",
    "    elif b>a and b>c:\n",
    "        return f\"{b} is largest\"\n",
    "    else:\n",
    "        return f\"{c} is largest\"\n",
    "\n",
    "n1=float(input(\"Enter number 1\"))\n",
    "n2=float(input(\"Enter number 2\"))\n",
    "n3=float(input(\"Enter number 3\"))\n",
    "\n",
    "print(max(n1,n2,n3))"
   ]
  },
  {
   "cell_type": "code",
   "execution_count": 53,
   "metadata": {},
   "outputs": [
    {
     "name": "stdout",
     "output_type": "stream",
     "text": [
      "1\n",
      "3\n",
      "6\n",
      "10\n",
      "None\n"
     ]
    }
   ],
   "source": [
    "# 2. Write a Python function to sum all the numbers in a list.\n",
    "\n",
    "def sum(n):\n",
    "    s=0\n",
    "    for i in range(0, len(n)):\n",
    "        s=s+n[i]\n",
    "        print(s)\n",
    "\n",
    "a=[1,2,3,4]\n",
    "print(sum(a))"
   ]
  }
 ],
 "metadata": {
  "kernelspec": {
   "display_name": "Python 3",
   "language": "python",
   "name": "python3"
  },
  "language_info": {
   "codemirror_mode": {
    "name": "ipython",
    "version": 3
   },
   "file_extension": ".py",
   "mimetype": "text/x-python",
   "name": "python",
   "nbconvert_exporter": "python",
   "pygments_lexer": "ipython3",
   "version": "3.12.8"
  }
 },
 "nbformat": 4,
 "nbformat_minor": 2
}
