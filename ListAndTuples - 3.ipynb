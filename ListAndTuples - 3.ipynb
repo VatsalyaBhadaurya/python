{
 "cells": [
  {
   "cell_type": "markdown",
   "metadata": {},
   "source": [
    "LIST"
   ]
  },
  {
   "cell_type": "code",
   "execution_count": null,
   "metadata": {},
   "outputs": [],
   "source": [
    "# stores data of multiple datatype\n",
    "# list is indexed as string"
   ]
  },
  {
   "cell_type": "code",
   "execution_count": 7,
   "metadata": {},
   "outputs": [
    {
     "name": "stdout",
     "output_type": "stream",
     "text": [
      "vatty\n",
      "1\n",
      "4.33\n",
      "True\n",
      "['vatty', 1]\n"
     ]
    }
   ],
   "source": [
    "a = [\"vatty\", 1, 4.33, True]\n",
    "\n",
    "print(a[0])\n",
    "print(a[1])\n",
    "print(a[2])\n",
    "print(a[3])\n",
    "\n",
    "print(a[0:2])        # slicing\n"
   ]
  },
  {
   "cell_type": "code",
   "execution_count": 30,
   "metadata": {},
   "outputs": [
    {
     "name": "stdout",
     "output_type": "stream",
     "text": [
      "[1, 2, 3, 4, 5, 7, 9]\n",
      "[32, 56, 90, 7, 5, 2, 1]\n",
      "[1, 2, 3, 4, 5, 56]\n",
      "[4, 6, 99, 2, 7, 3, 5]\n",
      "[1, 2, 3, 5]\n",
      "['tt', 2, 6, 3, 3]\n"
     ]
    }
   ],
   "source": [
    "# LIST Methods\n",
    "\n",
    "a = [1,2,5,3,7,9,4]\n",
    "a.sort()               # to sort in increasing order\n",
    "print(a)\n",
    "\n",
    "b = [1,2,5,7,90,56,32]\n",
    "b.reverse()            # to reverse a list\n",
    "print(b)\n",
    "\n",
    "c = [1,2,3,4,5]\n",
    "c.append(56)            # to append something at end of list\n",
    "print(c)\n",
    "\n",
    "d = [4,6,2,7,3,5]\n",
    "d.insert(2, 99)         # to add somethig at a particular index (a, b) , a is index\n",
    "print(d)\n",
    "\n",
    "e = [1,2,3,4,5]\n",
    "e.pop(3)                # to pop a char from index index\n",
    "print(e)\n",
    "\n",
    "f = [\"tt\",2,6,3,63,3]\n",
    "f.remove(63)            # to remove char directly\n",
    "print(f)\n"
   ]
  },
  {
   "cell_type": "markdown",
   "metadata": {},
   "source": [
    "TUPLES"
   ]
  },
  {
   "cell_type": "code",
   "execution_count": 39,
   "metadata": {},
   "outputs": [
    {
     "name": "stdout",
     "output_type": "stream",
     "text": [
      "()\n",
      "(1,)\n",
      "(1, 2, 3)\n",
      "2\n",
      "4\n"
     ]
    }
   ],
   "source": [
    "# immutable data type,  data cant change\n",
    "\n",
    "a = ()            # empty tuple\n",
    "print(a)   \n",
    "\n",
    "b = (1,)          # single element should have comma, else it wont be considered\n",
    "print(b)\n",
    "\n",
    "c = (1,2,3)    \n",
    "print(c)\n",
    "\n",
    "# once a tuple is defined, it cant be altered or manipulated\n",
    "\n",
    "## tuple methods\n",
    "\n",
    "d = (1,1,4,63,5,3,8)\n",
    "\n",
    "f= d.count(1)       # to count occurence \n",
    "print(f)\n",
    "\n",
    "e = d.index(5)      # to find index in a string \n",
    "print(e)"
   ]
  },
  {
   "cell_type": "code",
   "execution_count": 23,
   "metadata": {},
   "outputs": [
    {
     "name": "stdout",
     "output_type": "stream",
     "text": [
      "['apple', 'guave', 'kiwi', 'lichi', 'mango', 'banana', 'apple']\n"
     ]
    }
   ],
   "source": [
    "# to listfruits enetered ny user in a list\n",
    "\n",
    "a = []\n",
    "for i in range(7):\n",
    "    f = input(\"Enter fruit\")\n",
    "    a.append(f)\n",
    "\n",
    "print(a)"
   ]
  },
  {
   "cell_type": "code",
   "execution_count": 4,
   "metadata": {},
   "outputs": [
    {
     "name": "stdout",
     "output_type": "stream",
     "text": [
      "[3.0, 5.0, 2.0, 46.0, 2.0, 5.0]\n",
      "[2.0, 2.0, 3.0, 5.0, 5.0, 46.0]\n"
     ]
    }
   ],
   "source": [
    "# to sort marks entered by user\n",
    "\n",
    "a = []\n",
    "for i in range(6):\n",
    "    m = float(input(\"Enter marks - \"))\n",
    "    a.append(m)\n",
    "\n",
    "print(a)\n",
    "a.sort()\n",
    "print(a)"
   ]
  },
  {
   "cell_type": "code",
   "execution_count": 9,
   "metadata": {},
   "outputs": [
    {
     "name": "stdout",
     "output_type": "stream",
     "text": [
      "19\n"
     ]
    }
   ],
   "source": [
    "# sum of nums in a list\n",
    "\n",
    "s=0\n",
    "a = [2,7,4,6]\n",
    "for i in range(4):\n",
    "    s = s+a[i]\n",
    "    \n",
    "print(s)"
   ]
  },
  {
   "cell_type": "code",
   "execution_count": 1,
   "metadata": {},
   "outputs": [
    {
     "name": "stdout",
     "output_type": "stream",
     "text": [
      "3\n"
     ]
    }
   ],
   "source": [
    "# to count num of 0 in a tuple\n",
    "\n",
    "a = (7,0,8,0,0,9)\n",
    "print(a.count(0))"
   ]
  }
 ],
 "metadata": {
  "kernelspec": {
   "display_name": ".venv",
   "language": "python",
   "name": "python3"
  },
  "language_info": {
   "codemirror_mode": {
    "name": "ipython",
    "version": 3
   },
   "file_extension": ".py",
   "mimetype": "text/x-python",
   "name": "python",
   "nbconvert_exporter": "python",
   "pygments_lexer": "ipython3",
   "version": "3.13.0"
  }
 },
 "nbformat": 4,
 "nbformat_minor": 2
}
