{
 "cells": [
  {
   "cell_type": "markdown",
   "metadata": {},
   "source": [
    "CONDITIONAL STATEMENTS"
   ]
  },
  {
   "cell_type": "code",
   "execution_count": null,
   "metadata": {},
   "outputs": [],
   "source": [
    "# if , else and elif"
   ]
  },
  {
   "cell_type": "code",
   "execution_count": 3,
   "metadata": {},
   "outputs": [
    {
     "name": "stdout",
     "output_type": "stream",
     "text": [
      "You can have lisence\n"
     ]
    }
   ],
   "source": [
    "# lisence age limit\n",
    "\n",
    "age = float(input(\"Enter your age - \"))\n",
    "if(age>=18):\n",
    "    print(\"You can have lisence\")\n",
    "else:\n",
    "    print(\"Sorry you must be atleast 18\")"
   ]
  },
  {
   "cell_type": "code",
   "execution_count": 10,
   "metadata": {},
   "outputs": [
    {
     "name": "stdout",
     "output_type": "stream",
     "text": [
      "3.0 is largest\n"
     ]
    }
   ],
   "source": [
    "# program to find greatest of 4 nums\n",
    "\n",
    "a = float(input(\"Enter 1st number - \"))\n",
    "b = float(input(\"Enter 2nd number - \"))\n",
    "c = float(input(\"Enter 3rd number - \"))\n",
    "d = float(input(\"Enter 4th number - \"))\n",
    "\n",
    "if(a>b and a>c and a>d):\n",
    "    print(a,\"is largest number\")\n",
    "\n",
    "elif(b>a and b>c and b>d):\n",
    "    print(b, \"is largest number\")\n",
    "\n",
    "elif(c>a and c>b and c>d):\n",
    "    print(c, \"is largest number\")\n",
    "\n",
    "else:\n",
    "    print(d, \"is largest\")\n"
   ]
  },
  {
   "cell_type": "code",
   "execution_count": 14,
   "metadata": {},
   "outputs": [
    {
     "name": "stdout",
     "output_type": "stream",
     "text": [
      "You are pass!\n"
     ]
    }
   ],
   "source": [
    "# pass or fail, rach sub 33% and 40% overall\n",
    "\n",
    "sub1 = float(input(\"Enter marks in sub1 - \"))\n",
    "sub2 = float(input(\"Enter marks in sub2 - \"))\n",
    "sub3 = float(input(\"Enter marks in sub3 - \"))\n",
    "\n",
    "if(sub1<33 or sub2<33 or sub3<33):\n",
    "    print(\"You are fail\")\n",
    "\n",
    "elif(((sub1+sub3+sub2)/3)<40):\n",
    "    print(\"Fail\")\n",
    "\n",
    "if(((sub1+sub3+sub2)/3)>=40):\n",
    "    print(\"You are pass!\")"
   ]
  },
  {
   "cell_type": "code",
   "execution_count": 53,
   "metadata": {},
   "outputs": [
    {
     "name": "stdout",
     "output_type": "stream",
     "text": [
      "Comment added : Join this channel to make alot of money now!!!!!!!!\n",
      "Spam detected\n"
     ]
    }
   ],
   "source": [
    "# spam detector\n",
    "\n",
    "cmt = input(\"Add your comment - \")\n",
    "print(\"Comment added :\",cmt)\n",
    "\n",
    "if \"buy this\" in cmt:\n",
    "    print(\"Spam detected\")\n",
    "\n",
    "elif \"make alot of money\" in cmt:\n",
    "    print(\"Spam detected\")\n",
    "\n",
    "elif \"click this\" in cmt:\n",
    "    print(\"Spam detected\")\n",
    "\n"
   ]
  }
 ],
 "metadata": {
  "kernelspec": {
   "display_name": ".venv",
   "language": "python",
   "name": "python3"
  },
  "language_info": {
   "codemirror_mode": {
    "name": "ipython",
    "version": 3
   },
   "file_extension": ".py",
   "mimetype": "text/x-python",
   "name": "python",
   "nbconvert_exporter": "python",
   "pygments_lexer": "ipython3",
   "version": "3.13.0"
  }
 },
 "nbformat": 4,
 "nbformat_minor": 2
}
