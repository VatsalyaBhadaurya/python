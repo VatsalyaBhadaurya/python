{
 "cells": [
  {
   "cell_type": "markdown",
   "metadata": {},
   "source": [
    "https://chatgpt.com/c/67975c80-e94c-800e-92f9-96a934defe0c"
   ]
  },
  {
   "cell_type": "code",
   "execution_count": 5,
   "metadata": {},
   "outputs": [
    {
     "name": "stdout",
     "output_type": "stream",
     "text": [
      "3500.0 deducted amount\n",
      " 6490.5 balance amount\n"
     ]
    }
   ],
   "source": [
    "# Bank ATM Withdrawal System\n",
    "#Create a program that simulates an ATM withdrawal system. The program should:\n",
    "\n",
    "# Allow the user to enter the account balance.\n",
    "# Allow the user to withdraw an amount if it doesn’t exceed the balance and is a multiple of 100.\n",
    "# Deduct a transaction fee of ₹10 for every withdrawal.\n",
    "\n",
    "b = float(input(\"Enter your balance :\"))\n",
    "\n",
    "w = float(input(\"Enter withdrwal amount :\"))\n",
    "\n",
    "if (w%100==0 and w<=b and b>0):\n",
    "    b=(b-w)-10\n",
    "    print(w, \"deducted amount\\n\",b, \"balance amount\")\n",
    "else:\n",
    "    print(\"Insufficient balance\")"
   ]
  },
  {
   "cell_type": "code",
   "execution_count": 21,
   "metadata": {},
   "outputs": [
    {
     "name": "stdout",
     "output_type": "stream",
     "text": [
      "Days late : 9\n",
      "Fine is 55\n"
     ]
    }
   ],
   "source": [
    "# Library Fine Calculator\n",
    "# A library charges fines based on the number of days a book is returned late:\n",
    "\n",
    "# 1 to 5 days late: ₹2/day\n",
    "# 6 to 10 days late: ₹5/day\n",
    "# More than 10 days late: ₹10/day\n",
    "\n",
    "d = int(input(\"Enter late days :\"))\n",
    "print(\"Days late :\", d)\n",
    "if d>1 and d<=5:\n",
    "    print(\"Fine is\", d*2)\n",
    "elif d>=6 and d<=10:\n",
    "    print(\"Fine is\", d*5+10)\n",
    "else:\n",
    "    print(\"Fine is\", (10+25)+d*10)"
   ]
  }
 ],
 "metadata": {
  "kernelspec": {
   "display_name": ".venv",
   "language": "python",
   "name": "python3"
  },
  "language_info": {
   "codemirror_mode": {
    "name": "ipython",
    "version": 3
   },
   "file_extension": ".py",
   "mimetype": "text/x-python",
   "name": "python",
   "nbconvert_exporter": "python",
   "pygments_lexer": "ipython3",
   "version": "3.13.0"
  }
 },
 "nbformat": 4,
 "nbformat_minor": 2
}
