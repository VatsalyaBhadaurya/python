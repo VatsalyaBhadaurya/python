{
 "cells": [
  {
   "cell_type": "markdown",
   "metadata": {},
   "source": [
    "PROBLEM"
   ]
  },
  {
   "cell_type": "code",
   "execution_count": 8,
   "metadata": {},
   "outputs": [
    {
     "name": "stdout",
     "output_type": "stream",
     "text": [
      "['Anil', 'Amol', 'Anuj', 'Aditya', 'Avi', 'Alka']\n",
      "['Anil', 'Amol', 'Anuj', 'Aditya', 'Avi', 'Alka', 'Zulu']\n",
      "['Anil', 'Amol', 'Anuj', 'Aditya', 'Alka', 'Zulu']\n",
      "['AnilKumar', 'Amol', 'Anuj', 'Aditya', 'Alka', 'Zulu']\n",
      "['Aditya', 'Alka', 'Amol', 'AnilKumar', 'Anuj', 'Zulu']\n",
      "['Zulu', 'Anuj', 'AnilKumar', 'Amol', 'Alka', 'Aditya']\n"
     ]
    }
   ],
   "source": [
    "# 7.1\n",
    "\n",
    "a = [\"Anil\", \"Amol\", \"Aditya\", \"Avi\", \"Alka\"]\n",
    "\n",
    "a.insert(2, \"Anuj\")  # inserted anuj before aditya\n",
    "print(a)\n",
    "\n",
    "a.append(\"Zulu\")    # appended zulu in list\n",
    "print(a)\n",
    "\n",
    "a.remove(\"Avi\")    # deleted Avi from list\n",
    "print(a)\n",
    "\n",
    "i=a.index(\"Anil\")    # replaced Amil with AnilKumar\n",
    "a[i]= \"AnilKumar\"\n",
    "print(a)\n",
    "\n",
    "a.sort()         # sorted the list\n",
    "print(a)\n",
    "\n",
    "a.reverse()    # reversed the list\n",
    "print(a)"
   ]
  },
  {
   "cell_type": "code",
   "execution_count": 33,
   "metadata": {},
   "outputs": [
    {
     "name": "stdout",
     "output_type": "stream",
     "text": [
      "[1, 3, 5, 7, 9, 2, 4, 6, 8, 10]\n",
      "[11, 17, 29, 1, 3, 5, 7, 9, 2, 4, 6, 8, 10]\n",
      "13\n",
      "[11, 17, 29, 1, 3, 5, 7, 9, 2, 4, 100, 200, 300]\n",
      "[]\n"
     ]
    }
   ],
   "source": [
    "# 7.2\n",
    "\n",
    "a=[1,3,5,7,9]\n",
    "\n",
    "b=[2,4,6,8,10]\n",
    "\n",
    "for i in range (0,5):      # combined 2 sets\n",
    "    a.append(b[i])\n",
    "print(a)\n",
    "\n",
    "a=[11,17,29]+a       # prime at start\n",
    "print(a)\n",
    "\n",
    "print(len(a))   # num of elements \n",
    "\n",
    "a[len(a)-3:len(a)]=[100,200,300]     # replaced last 3 digits\n",
    "print(a)\n",
    "\n",
    "a[:] = []       # removed all digits\n",
    "print(a)\n",
    "\n",
    "del a         # deleted the list\n"
   ]
  },
  {
   "cell_type": "markdown",
   "metadata": {},
   "source": [
    "EXERCISE"
   ]
  },
  {
   "cell_type": "code",
   "execution_count": 58,
   "metadata": {},
   "outputs": [
    {
     "name": "stdout",
     "output_type": "stream",
     "text": [
      "[1, 3, 2, 4, 6, 8, 7, 9]\n",
      "[1, 2, 3, 4, 6, 7, 8, 9]\n"
     ]
    }
   ],
   "source": [
    "# a \n",
    "\n",
    "a = [1,3,5,7,9]       # odd 5 list\n",
    "e = [2,4,6,8]         # even 4 list\n",
    "\n",
    "i=a.index(5)          # replaced third with list of even\n",
    "a[i:i+1]=e            # list aslo flattened\n",
    "print(a)\n",
    "\n",
    "a.sort()              # list sorted\n",
    "print(a)        "
   ]
  },
  {
   "cell_type": "code",
   "execution_count": 82,
   "metadata": {},
   "outputs": [
    {
     "name": "stdout",
     "output_type": "stream",
     "text": [
      "[4, 1, 18, 8, 16, 7, 3, 17, 14, 15, 9, 6, 19, 0, 5]\n",
      "6\n"
     ]
    }
   ],
   "source": [
    "# b) number guessing sort off\n",
    "\n",
    "import random\n",
    "\n",
    "n = random.sample(range(0,20),15)\n",
    "print(n)\n",
    "\n",
    "a = int(input(\"Enter a number between 1 - 20\"))\n",
    "\n",
    "for i in range (0,15):\n",
    "    if n[i]==a:\n",
    "        print(i)"
   ]
  },
  {
   "cell_type": "code",
   "execution_count": 97,
   "metadata": {},
   "outputs": [],
   "source": [
    "# c)\n",
    "\n",
    "a=[1,1,2,4,5,7,7]\n",
    "\n",
    "for i in range(0, len(a)):\n",
    "    if n[i]==n[i+1]:\n",
    "        a.remove(n[i])\n",
    "        print(a)"
   ]
  }
 ],
 "metadata": {
  "kernelspec": {
   "display_name": ".venv",
   "language": "python",
   "name": "python3"
  },
  "language_info": {
   "codemirror_mode": {
    "name": "ipython",
    "version": 3
   },
   "file_extension": ".py",
   "mimetype": "text/x-python",
   "name": "python",
   "nbconvert_exporter": "python",
   "pygments_lexer": "ipython3",
   "version": "3.13.0"
  }
 },
 "nbformat": 4,
 "nbformat_minor": 2
}
