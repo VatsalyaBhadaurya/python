{
 "cells": [
  {
   "cell_type": "markdown",
   "metadata": {},
   "source": [
    "PROBLEM"
   ]
  },
  {
   "cell_type": "code",
   "execution_count": 8,
   "metadata": {},
   "outputs": [
    {
     "name": "stdout",
     "output_type": "stream",
     "text": [
      "['Anil', 'Amol', 'Anuj', 'Aditya', 'Avi', 'Alka']\n",
      "['Anil', 'Amol', 'Anuj', 'Aditya', 'Avi', 'Alka', 'Zulu']\n",
      "['Anil', 'Amol', 'Anuj', 'Aditya', 'Alka', 'Zulu']\n",
      "['AnilKumar', 'Amol', 'Anuj', 'Aditya', 'Alka', 'Zulu']\n",
      "['Aditya', 'Alka', 'Amol', 'AnilKumar', 'Anuj', 'Zulu']\n",
      "['Zulu', 'Anuj', 'AnilKumar', 'Amol', 'Alka', 'Aditya']\n"
     ]
    }
   ],
   "source": [
    "# 7.1\n",
    "\n",
    "a = [\"Anil\", \"Amol\", \"Aditya\", \"Avi\", \"Alka\"]\n",
    "\n",
    "a.insert(2, \"Anuj\")  # inserted anuj before aditya\n",
    "print(a)\n",
    "\n",
    "a.append(\"Zulu\")    # appended zulu in list\n",
    "print(a)\n",
    "\n",
    "a.remove(\"Avi\")    # deleted Avi from list\n",
    "print(a)\n",
    "\n",
    "i=a.index(\"Anil\")    # replaced Amil with AnilKumar\n",
    "a[i]= \"AnilKumar\"\n",
    "print(a)\n",
    "\n",
    "a.sort()         # sorted the list\n",
    "print(a)\n",
    "\n",
    "a.reverse()    # reversed the list\n",
    "print(a)"
   ]
  },
  {
   "cell_type": "code",
   "execution_count": 33,
   "metadata": {},
   "outputs": [
    {
     "name": "stdout",
     "output_type": "stream",
     "text": [
      "[1, 3, 5, 7, 9, 2, 4, 6, 8, 10]\n",
      "[11, 17, 29, 1, 3, 5, 7, 9, 2, 4, 6, 8, 10]\n",
      "13\n",
      "[11, 17, 29, 1, 3, 5, 7, 9, 2, 4, 100, 200, 300]\n",
      "[]\n"
     ]
    }
   ],
   "source": [
    "# 7.2\n",
    "\n",
    "a=[1,3,5,7,9]\n",
    "\n",
    "b=[2,4,6,8,10]\n",
    "\n",
    "for i in range (0,5):      # combined 2 sets\n",
    "    a.append(b[i])\n",
    "print(a)\n",
    "\n",
    "a=[11,17,29]+a       # prime at start\n",
    "print(a)\n",
    "\n",
    "print(len(a))   # num of elements \n",
    "\n",
    "a[len(a)-3:len(a)]=[100,200,300]     # replaced last 3 digits\n",
    "print(a)\n",
    "\n",
    "a[:] = []       # removed all digits\n",
    "print(a)\n",
    "\n",
    "del a         # deleted the list\n"
   ]
  },
  {
   "cell_type": "markdown",
   "metadata": {},
   "source": [
    "EXERCISE"
   ]
  },
  {
   "cell_type": "code",
   "execution_count": 58,
   "metadata": {},
   "outputs": [
    {
     "name": "stdout",
     "output_type": "stream",
     "text": [
      "[1, 3, 2, 4, 6, 8, 7, 9]\n",
      "[1, 2, 3, 4, 6, 7, 8, 9]\n"
     ]
    }
   ],
   "source": [
    "# a \n",
    "\n",
    "a = [1,3,5,7,9]       # odd 5 list\n",
    "e = [2,4,6,8]         # even 4 list\n",
    "\n",
    "i=a.index(5)          # replaced third with list of even\n",
    "a[i:i+1]=e            # list aslo flattened\n",
    "print(a)\n",
    "\n",
    "a.sort()              # list sorted\n",
    "print(a)        "
   ]
  },
  {
   "cell_type": "code",
   "execution_count": 82,
   "metadata": {},
   "outputs": [
    {
     "name": "stdout",
     "output_type": "stream",
     "text": [
      "[4, 1, 18, 8, 16, 7, 3, 17, 14, 15, 9, 6, 19, 0, 5]\n",
      "6\n"
     ]
    }
   ],
   "source": [
    "# b) number guessing sort off\n",
    "\n",
    "import random\n",
    "\n",
    "n = random.sample(range(0,20),15)\n",
    "print(n)\n",
    "\n",
    "a = int(input(\"Enter a number between 1 - 20\"))\n",
    "\n",
    "for i in range (0,15):\n",
    "    if n[i]==a:\n",
    "        print(i)"
   ]
  },
  {
   "cell_type": "code",
   "execution_count": 43,
   "metadata": {},
   "outputs": [
    {
     "name": "stdout",
     "output_type": "stream",
     "text": [
      "1\n",
      "[1, 2, 4, 5, 7, 7, 8, 8]\n",
      "7\n",
      "[1, 2, 4, 5, 7, 8, 8]\n",
      "8\n",
      "[1, 2, 4, 5, 7, 8]\n"
     ]
    },
    {
     "ename": "IndexError",
     "evalue": "list index out of range",
     "output_type": "error",
     "traceback": [
      "\u001b[1;31m---------------------------------------------------------------------------\u001b[0m",
      "\u001b[1;31mIndexError\u001b[0m                                Traceback (most recent call last)",
      "Cell \u001b[1;32mIn[43], line 6\u001b[0m\n\u001b[0;32m      3\u001b[0m a\u001b[38;5;241m=\u001b[39m[\u001b[38;5;241m1\u001b[39m,\u001b[38;5;241m1\u001b[39m,\u001b[38;5;241m2\u001b[39m,\u001b[38;5;241m4\u001b[39m,\u001b[38;5;241m5\u001b[39m,\u001b[38;5;241m7\u001b[39m,\u001b[38;5;241m7\u001b[39m,\u001b[38;5;241m8\u001b[39m,\u001b[38;5;241m8\u001b[39m]\n\u001b[0;32m      5\u001b[0m \u001b[38;5;28;01mfor\u001b[39;00m i \u001b[38;5;129;01min\u001b[39;00m \u001b[38;5;28mrange\u001b[39m(\u001b[38;5;241m0\u001b[39m, \u001b[38;5;28mlen\u001b[39m(a)):\n\u001b[1;32m----> 6\u001b[0m     \u001b[38;5;28;01mif\u001b[39;00m \u001b[43ma\u001b[49m\u001b[43m[\u001b[49m\u001b[43mi\u001b[49m\u001b[43m]\u001b[49m\u001b[38;5;241m==\u001b[39ma[i\u001b[38;5;241m-\u001b[39m\u001b[38;5;241m1\u001b[39m]:\n\u001b[0;32m      7\u001b[0m         \u001b[38;5;28mprint\u001b[39m(a[i])\n\u001b[0;32m      8\u001b[0m         a\u001b[38;5;241m.\u001b[39mremove(a[i])\n",
      "\u001b[1;31mIndexError\u001b[0m: list index out of range"
     ]
    }
   ],
   "source": [
    "# c)\n",
    "\n",
    "a=[1,1,2,4,5,7,7,8,8]\n",
    "\n",
    "for i in range(0, len(a)):\n",
    "    if a[i]==a[i-1]:\n",
    "        print(a[i])\n",
    "        a.remove(a[i])\n",
    "        print(a)"
   ]
  },
  {
   "cell_type": "code",
   "execution_count": 67,
   "metadata": {},
   "outputs": [
    {
     "name": "stdout",
     "output_type": "stream",
     "text": [
      "[-1]\n",
      "[1, 4, -6, 3, -8]\n",
      "[-1, -6]\n",
      "[1, 4, 3, -8]\n",
      "[-1, -6, -8]\n",
      "[1, 4, 3]\n"
     ]
    },
    {
     "ename": "IndexError",
     "evalue": "list index out of range",
     "output_type": "error",
     "traceback": [
      "\u001b[1;31m---------------------------------------------------------------------------\u001b[0m",
      "\u001b[1;31mIndexError\u001b[0m                                Traceback (most recent call last)",
      "Cell \u001b[1;32mIn[67], line 6\u001b[0m\n\u001b[0;32m      4\u001b[0m a\u001b[38;5;241m=\u001b[39m[]\n\u001b[0;32m      5\u001b[0m \u001b[38;5;28;01mfor\u001b[39;00m i \u001b[38;5;129;01min\u001b[39;00m \u001b[38;5;28mrange\u001b[39m (\u001b[38;5;241m0\u001b[39m, \u001b[38;5;28mlen\u001b[39m(l)):\n\u001b[1;32m----> 6\u001b[0m     \u001b[38;5;28;01mif\u001b[39;00m \u001b[43ml\u001b[49m\u001b[43m[\u001b[49m\u001b[43mi\u001b[49m\u001b[43m]\u001b[49m\u001b[38;5;241m<\u001b[39m\u001b[38;5;241m0\u001b[39m:\n\u001b[0;32m      7\u001b[0m         a\u001b[38;5;241m.\u001b[39mappend(l[i])\n\u001b[0;32m      8\u001b[0m         l\u001b[38;5;241m.\u001b[39mremove(l[i])\n",
      "\u001b[1;31mIndexError\u001b[0m: list index out of range"
     ]
    }
   ],
   "source": [
    "# d\n",
    "\n",
    "l=[1,-1,4,-6,3,-8]\n",
    "a=[]\n",
    "for i in range (0, len(l)):\n",
    "    if l[i]<0:\n",
    "        a.append(l[i])\n",
    "        l.remove(l[i])\n",
    "        print(a)\n",
    "        print(l)\n"
   ]
  },
  {
   "cell_type": "code",
   "execution_count": 97,
   "metadata": {},
   "outputs": [
    {
     "name": "stdout",
     "output_type": "stream",
     "text": [
      "['HELLO', 'JIO', 'HI', 'HUIHUI', 'MIRAGE']\n"
     ]
    }
   ],
   "source": [
    "# e\n",
    "\n",
    "s=[\"hello\", \"jio\", \"hi\", \"huihui\", \"mirage\"]\n",
    "\n",
    "u=[s.upper() for s in s]\n",
    "print(u)"
   ]
  },
  {
   "cell_type": "markdown",
   "metadata": {},
   "source": [
    "https://www.w3resource.com/python-exercises/list/"
   ]
  },
  {
   "cell_type": "code",
   "execution_count": 5,
   "metadata": {},
   "outputs": [
    {
     "name": "stdout",
     "output_type": "stream",
     "text": [
      "20\n"
     ]
    }
   ],
   "source": [
    "# 1 Sum Items in List\n",
    "\n",
    "a=[2,3,4,5,6]\n",
    "s=0\n",
    "for i in range(0, len(a)):\n",
    "    s=s+a[i]\n",
    "print(s)"
   ]
  },
  {
   "cell_type": "code",
   "execution_count": 282,
   "metadata": {},
   "outputs": [
    {
     "name": "stdout",
     "output_type": "stream",
     "text": [
      "empty\n"
     ]
    }
   ],
   "source": [
    "# 8 Check if List is Empty\n",
    "\n",
    "a=[]\n",
    "\n",
    "if not a:\n",
    "    print(\"empty\")\n",
    "else:\n",
    "    print(len(a))"
   ]
  },
  {
   "cell_type": "code",
   "execution_count": 305,
   "metadata": {},
   "outputs": [
    {
     "name": "stdout",
     "output_type": "stream",
     "text": [
      "[1]\n",
      "[1, 2]\n",
      "[1, 2, 3]\n",
      "[1, 2, 3, 4]\n",
      "[1, 2, 3, 4, 5]\n"
     ]
    }
   ],
   "source": [
    "# 9. Clone or Copy a List\n",
    "\n",
    "a=[1,2,3,4,5]\n",
    "c=[]\n",
    "\n",
    "for i in range(0, (len(a))):\n",
    "    c.append(a[i])\n",
    "    print(c)\n"
   ]
  },
  {
   "cell_type": "code",
   "execution_count": 308,
   "metadata": {},
   "outputs": [
    {
     "name": "stdout",
     "output_type": "stream",
     "text": [
      "0 indexed 1\n",
      "1 indexed 2\n",
      "2 indexed 3\n",
      "3 indexed 4\n",
      "4 indexed 5\n"
     ]
    }
   ],
   "source": [
    "# 20. Access List Indices\n",
    "\n",
    "a=[1,2,3,4,5]\n",
    "\n",
    "for i in range(0, len(a)):\n",
    "    print(i, \"indexed\", a[i])"
   ]
  },
  {
   "cell_type": "code",
   "execution_count": 320,
   "metadata": {},
   "outputs": [
    {
     "name": "stdout",
     "output_type": "stream",
     "text": [
      "python\n"
     ]
    }
   ],
   "source": [
    "# 21. Convert List to String\n",
    "\n",
    "c=[\"p\",\"y\",\"t\",\"h\",\"o\",\"n\"]\n",
    "stg = ''.join(c)\n",
    "print(stg)"
   ]
  },
  {
   "cell_type": "code",
   "execution_count": 1,
   "metadata": {},
   "outputs": [
    {
     "name": "stdout",
     "output_type": "stream",
     "text": [
      "[1, 3, 4, 4, 6, 6]\n",
      "[1, 3, 4, 6, 6]\n",
      "[1, 3, 4, 6]\n"
     ]
    },
    {
     "ename": "IndexError",
     "evalue": "list index out of range",
     "output_type": "error",
     "traceback": [
      "\u001b[1;31m---------------------------------------------------------------------------\u001b[0m",
      "\u001b[1;31mIndexError\u001b[0m                                Traceback (most recent call last)",
      "Cell \u001b[1;32mIn[1], line 6\u001b[0m\n\u001b[0;32m      3\u001b[0m a\u001b[38;5;241m=\u001b[39m[\u001b[38;5;241m1\u001b[39m,\u001b[38;5;241m1\u001b[39m,\u001b[38;5;241m3\u001b[39m,\u001b[38;5;241m4\u001b[39m,\u001b[38;5;241m4\u001b[39m,\u001b[38;5;241m6\u001b[39m,\u001b[38;5;241m6\u001b[39m]\n\u001b[0;32m      5\u001b[0m \u001b[38;5;28;01mfor\u001b[39;00m  i \u001b[38;5;129;01min\u001b[39;00m \u001b[38;5;28mrange\u001b[39m (\u001b[38;5;241m1\u001b[39m, \u001b[38;5;28mlen\u001b[39m(a)):\n\u001b[1;32m----> 6\u001b[0m     \u001b[38;5;28;01mif\u001b[39;00m \u001b[43ma\u001b[49m\u001b[43m[\u001b[49m\u001b[43mi\u001b[49m\u001b[43m]\u001b[49m\u001b[38;5;241m==\u001b[39ma[i\u001b[38;5;241m-\u001b[39m\u001b[38;5;241m1\u001b[39m]:\n\u001b[0;32m      7\u001b[0m         a\u001b[38;5;241m.\u001b[39mremove(a[i])\n\u001b[0;32m      8\u001b[0m         \u001b[38;5;28mprint\u001b[39m(a)\n",
      "\u001b[1;31mIndexError\u001b[0m: list index out of range"
     ]
    }
   ],
   "source": [
    "# 7. Remove Duplicates from List\n",
    "\n",
    "a=[1,1,3,4,4,6,6]\n",
    "\n",
    "for  i in range (1, len(a)):\n",
    "    if a[i]==a[i-1]:\n",
    "        a.remove(a[i])\n",
    "        print(a)"
   ]
  },
  {
   "cell_type": "code",
   "execution_count": 31,
   "metadata": {},
   "outputs": [
    {
     "name": "stdout",
     "output_type": "stream",
     "text": [
      "aba\n",
      "cbc\n",
      "1221\n"
     ]
    }
   ],
   "source": [
    "# 5. Count Strings with Same Start and End\n",
    "\n",
    "a=[\"aba\", \"gbu\", \"cbc\", \"1221\", \"gadha\"]\n",
    "\n",
    "for a in a:\n",
    "    if a[0]==a[-1]:\n",
    "        print(a)"
   ]
  },
  {
   "cell_type": "code",
   "execution_count": 44,
   "metadata": {},
   "outputs": [
    {
     "name": "stdout",
     "output_type": "stream",
     "text": [
      "rtuu\n",
      "wefvv\n",
      "rrrrrrr\n"
     ]
    }
   ],
   "source": [
    "# 10. Find Words Longer Than n\n",
    "\n",
    "n=\"hui\"\n",
    "\n",
    "a=[\"wer\",\"tyu\",\"rtuu\",\"wefvv\",\"re\",\"rrrrrrr\"]\n",
    "\n",
    "for i in range(0, len(a)):\n",
    "    if len(a[i])>len(n):\n",
    "        print(a[i])\n"
   ]
  },
  {
   "cell_type": "code",
   "execution_count": 2,
   "metadata": {},
   "outputs": [
    {
     "name": "stdout",
     "output_type": "stream",
     "text": [
      "[1][1, 2][1, 2, 3][1, 2, 3, 5]"
     ]
    }
   ],
   "source": [
    "# 11. Check Common Member Between Two Lists\n",
    "\n",
    "a=[1,2,3,5,6]\n",
    "b=[1,2,3,5]\n",
    "c=[]\n",
    "\n",
    "for i in range (0,(len(a)-1)):\n",
    "    if a[i]==b[i]:\n",
    "        c.append(a[i])\n",
    "        print(c, end=\"\")"
   ]
  }
 ],
 "metadata": {
  "kernelspec": {
   "display_name": "Python 3",
   "language": "python",
   "name": "python3"
  },
  "language_info": {
   "codemirror_mode": {
    "name": "ipython",
    "version": 3
   },
   "file_extension": ".py",
   "mimetype": "text/x-python",
   "name": "python",
   "nbconvert_exporter": "python",
   "pygments_lexer": "ipython3",
   "version": "3.12.9"
  }
 },
 "nbformat": 4,
 "nbformat_minor": 2
}
