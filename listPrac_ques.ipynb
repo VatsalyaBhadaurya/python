{
 "cells": [
  {
   "cell_type": "markdown",
   "metadata": {},
   "source": [
    "PROBLEM"
   ]
  },
  {
   "cell_type": "code",
   "execution_count": 8,
   "metadata": {},
   "outputs": [
    {
     "name": "stdout",
     "output_type": "stream",
     "text": [
      "['Anil', 'Amol', 'Anuj', 'Aditya', 'Avi', 'Alka']\n",
      "['Anil', 'Amol', 'Anuj', 'Aditya', 'Avi', 'Alka', 'Zulu']\n",
      "['Anil', 'Amol', 'Anuj', 'Aditya', 'Alka', 'Zulu']\n",
      "['AnilKumar', 'Amol', 'Anuj', 'Aditya', 'Alka', 'Zulu']\n",
      "['Aditya', 'Alka', 'Amol', 'AnilKumar', 'Anuj', 'Zulu']\n",
      "['Zulu', 'Anuj', 'AnilKumar', 'Amol', 'Alka', 'Aditya']\n"
     ]
    }
   ],
   "source": [
    "# 7.1\n",
    "\n",
    "a = [\"Anil\", \"Amol\", \"Aditya\", \"Avi\", \"Alka\"]\n",
    "\n",
    "a.insert(2, \"Anuj\")  # inserted anuj before aditya\n",
    "print(a)\n",
    "\n",
    "a.append(\"Zulu\")    # appended zulu in list\n",
    "print(a)\n",
    "\n",
    "a.remove(\"Avi\")    # deleted Avi from list\n",
    "print(a)\n",
    "\n",
    "i=a.index(\"Anil\")    # replaced Amil with AnilKumar\n",
    "a[i]= \"AnilKumar\"\n",
    "print(a)\n",
    "\n",
    "a.sort()         # sorted the list\n",
    "print(a)\n",
    "\n",
    "a.reverse()    # reversed the list\n",
    "print(a)"
   ]
  }
 ],
 "metadata": {
  "kernelspec": {
   "display_name": ".venv",
   "language": "python",
   "name": "python3"
  },
  "language_info": {
   "codemirror_mode": {
    "name": "ipython",
    "version": 3
   },
   "file_extension": ".py",
   "mimetype": "text/x-python",
   "name": "python",
   "nbconvert_exporter": "python",
   "pygments_lexer": "ipython3",
   "version": "3.13.0"
  }
 },
 "nbformat": 4,
 "nbformat_minor": 2
}
