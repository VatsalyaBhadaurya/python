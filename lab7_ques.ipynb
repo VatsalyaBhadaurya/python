{
 "cells": [
  {
   "cell_type": "markdown",
   "metadata": {},
   "source": [
    "## 1. Write a Python program to create a list of integers: [11, 12, 14, 15, 23, 25, 28, 30, 32, 34]. Remove all even numbers from the list and print the updated list."
   ]
  },
  {
   "cell_type": "code",
   "execution_count": 32,
   "metadata": {},
   "outputs": [
    {
     "name": "stdout",
     "output_type": "stream",
     "text": [
      "[12]\n",
      "[12, 14]\n",
      "[12, 14, 28]\n",
      "[12, 14, 28, 30]\n",
      "[12, 14, 28, 30, 32]\n",
      "[12, 14, 28, 30, 32, 34]\n"
     ]
    }
   ],
   "source": [
    "a = [11, 12, 14, 15, 23, 25, 28, 30, 32, 34]\n",
    "b=[]\n",
    "for i in range(0, len(a)):\n",
    "    if a[i]%2==0:\n",
    "        b.append(a[i])\n",
    "        print (b)\n",
    "        "
   ]
  },
  {
   "cell_type": "markdown",
   "metadata": {},
   "source": []
  }
 ],
 "metadata": {
  "kernelspec": {
   "display_name": "Python 3",
   "language": "python",
   "name": "python3"
  },
  "language_info": {
   "codemirror_mode": {
    "name": "ipython",
    "version": 3
   },
   "file_extension": ".py",
   "mimetype": "text/x-python",
   "name": "python",
   "nbconvert_exporter": "python",
   "pygments_lexer": "ipython3",
   "version": "3.12.9"
  }
 },
 "nbformat": 4,
 "nbformat_minor": 2
}
