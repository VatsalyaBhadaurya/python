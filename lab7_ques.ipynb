{
 "cells": [
  {
   "cell_type": "markdown",
   "metadata": {},
   "source": [
    "## 1. Write a Python program to create a list of integers: [11, 12, 14, 15, 23, 25, 28, 30, 32, 34]. Remove all even numbers from the list and print the updated list."
   ]
  },
  {
   "cell_type": "code",
   "execution_count": 42,
   "metadata": {},
   "outputs": [
    {
     "name": "stdout",
     "output_type": "stream",
     "text": [
      "[11]\n",
      "[11, 15]\n",
      "[11, 15, 23]\n",
      "[11, 15, 23, 25]\n"
     ]
    }
   ],
   "source": [
    "a = [11, 12, 14, 15, 23, 25, 28, 30, 32, 34]\n",
    "b=[]\n",
    "for i in range(0, len(a)):\n",
    "    if a[i]%2!=0:\n",
    "        b.append(a[i])\n",
    "        print (b)\n",
    "        "
   ]
  },
  {
   "cell_type": "markdown",
   "metadata": {},
   "source": [
    "## 2. Write a Python program to create a dictionary where the keys are names of students and values are their marks. Add 5 students to the dictionary and print the updated dictionary."
   ]
  },
  {
   "cell_type": "code",
   "execution_count": 46,
   "metadata": {},
   "outputs": [
    {
     "name": "stdout",
     "output_type": "stream",
     "text": [
      "{'vayu': [23, 24, 25], 'ram': [15, 18, 20], 'rai': [20, 21, 22], 'jai': [30, 31, 32], 'veeru': [21, 22, 23]}\n",
      "{'vayu': [32, 34, 45], 'ram': [15, 18, 20], 'rai': [20, 21, 22], 'jai': [30, 31, 32], 'veeru': [21, 22, 23]}\n"
     ]
    }
   ],
   "source": [
    "stud = {\n",
    "\n",
    "    \"vayu\" : [23, 24, 25],\n",
    "    \"ram\" : [15, 18, 20],\n",
    "    \"rai\" : [20, 21, 22],\n",
    "    \"jai\" : [30, 31, 32],\n",
    "    \"veeru\" : [21,22,23]\n",
    "}\n",
    "\n",
    "print(stud)\n",
    "stud[\"vayu\"] = [32,34,45]   # updation\n",
    "print(stud)"
   ]
  },
  {
   "cell_type": "markdown",
   "metadata": {},
   "source": [
    "## 3. Write a Python code to show the concatenation and repetition operations in a tuple."
   ]
  },
  {
   "cell_type": "code",
   "execution_count": 48,
   "metadata": {},
   "outputs": [
    {
     "name": "stdout",
     "output_type": "stream",
     "text": [
      "(1, 2, 3, 3, 4, 5)\n",
      "(1, 2, 3, 1, 2, 3, 1, 2, 3, 1, 2, 3)\n"
     ]
    }
   ],
   "source": [
    "# concatenation\n",
    "t1 = (1,2,3)\n",
    "t2 = (3,4,5)\n",
    "\n",
    "con = t1+t2\n",
    "print(con)\n",
    "\n",
    "# repetition\n",
    "rep = t1*4\n",
    "print(rep)"
   ]
  },
  {
   "cell_type": "markdown",
   "metadata": {},
   "source": [
    "## 4. Write a Python program to create a tuple containing 10 different numbers. Find and print the maximum, minimum numbers and sum of all the numbers in the tuple."
   ]
  },
  {
   "cell_type": "code",
   "execution_count": 56,
   "metadata": {},
   "outputs": [
    {
     "name": "stdout",
     "output_type": "stream",
     "text": [
      "53.7\n",
      "53.7\n",
      "10\n",
      "-0.3\n"
     ]
    }
   ],
   "source": [
    "a = (-0.3,2,3,4,5,6,7,8,9,10)\n",
    "\n",
    "#sum\n",
    "s=0\n",
    "for i in range(0, len(a)):\n",
    "    s=s+a[i]\n",
    "print (s)\n",
    "\n",
    "print(sum(a))\n",
    "print(max(a))\n",
    "print(min(a))"
   ]
  },
  {
   "cell_type": "markdown",
   "metadata": {},
   "source": [
    "## 5. Write a Python code to check whether the entered 3 digit number is an armstrong number or not."
   ]
  },
  {
   "cell_type": "code",
   "execution_count": 65,
   "metadata": {},
   "outputs": [
    {
     "name": "stdout",
     "output_type": "stream",
     "text": [
      "not an Armstrong number\n"
     ]
    }
   ],
   "source": [
    "num = int(input(\"Enter 3 digit num :\"))  \n",
    "\n",
    "s = 0\n",
    "for i in str(num):  \n",
    "    s += int(i)**3  \n",
    "\n",
    "if s == num:\n",
    "    print('Armstrong number')\n",
    "else:\n",
    "    print('not an Armstrong number')"
   ]
  }
 ],
 "metadata": {
  "kernelspec": {
   "display_name": "Python 3",
   "language": "python",
   "name": "python3"
  },
  "language_info": {
   "codemirror_mode": {
    "name": "ipython",
    "version": 3
   },
   "file_extension": ".py",
   "mimetype": "text/x-python",
   "name": "python",
   "nbconvert_exporter": "python",
   "pygments_lexer": "ipython3",
   "version": "3.12.9"
  }
 },
 "nbformat": 4,
 "nbformat_minor": 2
}
