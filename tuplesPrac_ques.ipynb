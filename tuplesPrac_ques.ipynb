{
 "cells": [
  {
   "cell_type": "markdown",
   "metadata": {},
   "source": [
    "## PROBLEMS"
   ]
  },
  {
   "cell_type": "code",
   "execution_count": 3,
   "metadata": {},
   "outputs": [
    {
     "name": "stdout",
     "output_type": "stream",
     "text": [
      "10\n"
     ]
    }
   ],
   "source": [
    "#pack 10 multiples of 0 into a tuple\n",
    "#unpack in 10 variables \n",
    "\n",
    "tpl = (10, 20, 30, 40, 50, 60, 70, 80, 90, 100)\n",
    "a, b, c, d, e, f ,g, h, i, j = tpl\n",
    "\n",
    "print(a)"
   ]
  },
  {
   "cell_type": "code",
   "execution_count": 25,
   "metadata": {},
   "outputs": [
    {
     "name": "stdout",
     "output_type": "stream",
     "text": [
      "Boys - 1\n",
      "Girls - 2\n"
     ]
    }
   ],
   "source": [
    "# name of boys and girls, boys name in tuples, fin dnumber of boys and girls\n",
    "\n",
    "names = [\"pinky\", (\"suresh\",), \"naina\"]\n",
    "b=0\n",
    "g=0\n",
    "\n",
    "for i in names:\n",
    "    if isinstance(i, tuple):\n",
    "        b=b+1\n",
    "    else:\n",
    "        g=g+1\n",
    "\n",
    "print(f\"Boys - {b}\\nGirls - {g}\")"
   ]
  },
  {
   "cell_type": "code",
   "execution_count": null,
   "metadata": {},
   "outputs": [
    {
     "name": "stdout",
     "output_type": "stream",
     "text": [
      "['Vatty', 'Rohit', 'Jai']\n"
     ]
    }
   ],
   "source": [
    "# names in new list\n",
    "\n",
    "dtls = [(\"AI121\",\"Vatty\", 18), (\"AI125\", \"Rohit\", 56), (\"AI45\", \"Jai\", 21)]\n",
    "names=[]\n",
    "\n",
    "for i in dtls:\n",
    "    names=names+[i[1]]\n",
    "    \n",
    "print(names)"
   ]
  }
 ],
 "metadata": {
  "kernelspec": {
   "display_name": "Python 3",
   "language": "python",
   "name": "python3"
  },
  "language_info": {
   "codemirror_mode": {
    "name": "ipython",
    "version": 3
   },
   "file_extension": ".py",
   "mimetype": "text/x-python",
   "name": "python",
   "nbconvert_exporter": "python",
   "pygments_lexer": "ipython3",
   "version": "3.12.9"
  }
 },
 "nbformat": 4,
 "nbformat_minor": 2
}
