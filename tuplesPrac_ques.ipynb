{
 "cells": [
  {
   "cell_type": "markdown",
   "metadata": {},
   "source": [
    "## PROBLEMS"
   ]
  },
  {
   "cell_type": "code",
   "execution_count": 3,
   "metadata": {},
   "outputs": [
    {
     "name": "stdout",
     "output_type": "stream",
     "text": [
      "10\n"
     ]
    }
   ],
   "source": [
    "#pack 10 multiples of 0 into a tuple\n",
    "#unpack in 10 variables \n",
    "\n",
    "tpl = (10, 20, 30, 40, 50, 60, 70, 80, 90, 100)\n",
    "a, b, c, d, e, f ,g, h, i, j = tpl\n",
    "\n",
    "print(a)"
   ]
  },
  {
   "cell_type": "code",
   "execution_count": 25,
   "metadata": {},
   "outputs": [
    {
     "name": "stdout",
     "output_type": "stream",
     "text": [
      "Boys - 1\n",
      "Girls - 2\n"
     ]
    }
   ],
   "source": [
    "# name of boys and girls, boys name in tuples, fin dnumber of boys and girls\n",
    "\n",
    "names = [\"pinky\", (\"suresh\",), \"naina\"]\n",
    "b=0\n",
    "g=0\n",
    "\n",
    "for i in names:\n",
    "    if isinstance(i, tuple):\n",
    "        b=b+1\n",
    "    else:\n",
    "        g=g+1\n",
    "\n",
    "print(f\"Boys - {b}\\nGirls - {g}\")"
   ]
  },
  {
   "cell_type": "code",
   "execution_count": null,
   "metadata": {},
   "outputs": [
    {
     "name": "stdout",
     "output_type": "stream",
     "text": [
      "['Vatty', 'Rohit', 'Jai']\n"
     ]
    }
   ],
   "source": [
    "# names in new list\n",
    "\n",
    "dtls = [(\"AI121\",\"Vatty\", 18), (\"AI125\", \"Rohit\", 56), (\"AI45\", \"Jai\", 21)]\n",
    "names=[]\n",
    "\n",
    "for i in dtls:\n",
    "    names=names+[i[1]]\n",
    "    \n",
    "print(names)"
   ]
  },
  {
   "cell_type": "code",
   "execution_count": 53,
   "metadata": {},
   "outputs": [
    {
     "name": "stdout",
     "output_type": "stream",
     "text": [
      "('F', 'l', 'a', 'b', 'b', 'e', 'r', 'g', 'a', 's', 't', 'e', 'd', '!')\n",
      "Flabbergasted!\n",
      "('b', 'b')\n",
      "2\n",
      "r Exists in tuple\n",
      "['F', 'l', 'a', 'b', 'b', 'e', 'r', 'g', 'a', 's', 't', 'e', 'd', '!']\n",
      "('F', 'l', 'a', 'g', 'a', 's', 't', 'e', 'd', '!')\n"
     ]
    }
   ],
   "source": [
    "# add ! at edn of tuple\n",
    "# convert into strign\n",
    "# extract (b, b) fron tuple\n",
    "# find times of e\n",
    "# check for r\n",
    "# convert into list\n",
    "# delete char b b e r\n",
    "\n",
    "t = (\"F\",\"l\",\"a\",\"b\",\"b\",\"e\",\"r\",\"g\",\"a\",\"s\",\"t\",\"e\",\"d\")\n",
    "t=(t+(\"!\",))\n",
    "print(t)\n",
    "\n",
    "s=\"\"\n",
    "for i in t:\n",
    "    s=s+i\n",
    "print(s)\n",
    "\n",
    "print(t[3:5])\n",
    "\n",
    "print(t.count(\"e\"))\n",
    "\n",
    "if t.count(\"r\")>0:\n",
    "    print(\"r Exists in tuple\")\n",
    "\n",
    "print(list(t))\n",
    "\n",
    "t=t[:3]+t[7:]\n",
    "print(t)"
   ]
  },
  {
   "cell_type": "markdown",
   "metadata": {},
   "source": [
    "## Exercise"
   ]
  },
  {
   "cell_type": "code",
   "execution_count": null,
   "metadata": {},
   "outputs": [
    {
     "name": "stdout",
     "output_type": "stream",
     "text": [
      "[('Banana', 45.5), ('Apple', 34.4), ('Cherry', 25.3)]\n"
     ]
    }
   ],
   "source": [
    "# (b)\n",
    "## IMPORTANT\n",
    "lst=[(\"Apple\", 34.4), (\"Banana\", 45.5), (\"Cherry\", 25.3)]\n",
    "\n",
    "srtlst = sorted(lst, key=lambda x:x[1], reverse=True)\n",
    "\n",
    "print(srtlst)"
   ]
  },
  {
   "cell_type": "code",
   "execution_count": 31,
   "metadata": {},
   "outputs": [
    {
     "name": "stdout",
     "output_type": "stream",
     "text": [
      "Total cost of portfolio - 3031\n",
      "\n",
      "Loss suffered for Mahindra is -25\n",
      "Loss suffered for Tata is -600\n",
      "Profit gained for Reliance is 48\n"
     ]
    }
   ],
   "source": [
    "# (c)\n",
    "# data about shares in tuples\n",
    "# total cost of portfolio\n",
    "# total amount gained or lost and percentage\n",
    "\n",
    "dtls = [\n",
    "        (\"Mahindra\", 14092024, 15, 5, 10),\n",
    "        (\"Tata\", 12032025, 25, 100, 19),\n",
    "        (\"Reliance\", 1012025,19, 24, 21)\n",
    "        ]\n",
    "\n",
    "c=0\n",
    "for i in dtls:\n",
    "    c=c+(i[2]*i[3])\n",
    "print(f\"Total cost of portfolio - {c}\\n\")\n",
    "\n",
    "for i in dtls:\n",
    "        if ((i[4]*i[3])-(i[2]*i[3])) <=0:\n",
    "                print(f\"Loss suffered for {i[0]} is {((i[4]*i[3])-(i[2]*i[3]))}\")\n",
    "        else :\n",
    "                print(f\"Profit gained for {i[0]} is {((i[4]*i[3])-(i[2]*i[3]))}\")\n"
   ]
  },
  {
   "cell_type": "markdown",
   "metadata": {},
   "source": [
    "## https://www.w3resource.com/python-exercises/tuple/"
   ]
  },
  {
   "cell_type": "code",
   "execution_count": 49,
   "metadata": {},
   "outputs": [
    {
     "name": "stdout",
     "output_type": "stream",
     "text": [
      "(25.3, 'Cherry', 45.5, 'Banana', 'Apple')\n"
     ]
    }
   ],
   "source": [
    "# 18. Write a Python program to reverse a tuple.\n",
    "\n",
    "lst=(\"Apple\",\"Banana\", 45.5,\"Cherry\", 25.3)\n",
    "\n",
    "c=reversed(lst)\n",
    "print(tuple(c))"
   ]
  },
  {
   "cell_type": "code",
   "execution_count": 2,
   "metadata": {},
   "outputs": [
    {
     "name": "stdout",
     "output_type": "stream",
     "text": [
      "this is a tuple - (1, 3, 4)\n"
     ]
    }
   ],
   "source": [
    "# 20. Write a Python program to print a tuple with string formatting.\n",
    "\n",
    "a=(1,3,4)\n",
    "\n",
    "print(f\"this is a tuple - {a}\")"
   ]
  },
  {
   "cell_type": "code",
   "execution_count": null,
   "metadata": {},
   "outputs": [
    {
     "name": "stdout",
     "output_type": "stream",
     "text": [
      "[(10, 20, 100), (40, 50, 100), (70, 80, 100)]\n"
     ]
    }
   ],
   "source": [
    "# 21. Write a Python program to replace the last value of tuples in a list.\n",
    "# IMP\n",
    "\n",
    "lst = [(10, 20, 40), (40, 50, 60), (70, 80, 90)]\n",
    "\n",
    "print([i[:-1]+(100,)for i in lst])"
   ]
  },
  {
   "cell_type": "code",
   "execution_count": 1,
   "metadata": {},
   "outputs": [
    {
     "name": "stdout",
     "output_type": "stream",
     "text": [
      "[('',), ('a', 'b'), ('a', 'b', 'c'), 'd']\n"
     ]
    }
   ],
   "source": [
    "# 22. Write a Python program to remove an empty tuple(s) from a list of tuples.\n",
    "\n",
    "a = [(), (), ('',), ('a', 'b'), ('a', 'b', 'c'), ('d')]\n",
    "\n",
    "new=[]\n",
    "for i in a:\n",
    "    if i:\n",
    "        new.append(i)\n",
    "\n",
    "print(new)"
   ]
  },
  {
   "cell_type": "code",
   "execution_count": 4,
   "metadata": {},
   "outputs": [
    {
     "name": "stdout",
     "output_type": "stream",
     "text": [
      "[('item3', '24.5'), ('item2', '15.10'), ('item1', '12.20')]\n"
     ]
    }
   ],
   "source": [
    "# 23. Write a Python program to sort a tuple by its float element.\n",
    "\n",
    "a= [('item1', '12.20'), ('item2', '15.10'), ('item3', '24.5')]\n",
    "\n",
    "print(sorted(a, key = lambda x:x[1], reverse=True))"
   ]
  },
  {
   "cell_type": "code",
   "execution_count": null,
   "metadata": {},
   "outputs": [],
   "source": []
  }
 ],
 "metadata": {
  "kernelspec": {
   "display_name": "Python 3",
   "language": "python",
   "name": "python3"
  },
  "language_info": {
   "codemirror_mode": {
    "name": "ipython",
    "version": 3
   },
   "file_extension": ".py",
   "mimetype": "text/x-python",
   "name": "python",
   "nbconvert_exporter": "python",
   "pygments_lexer": "ipython3",
   "version": "3.12.9"
  }
 },
 "nbformat": 4,
 "nbformat_minor": 2
}
