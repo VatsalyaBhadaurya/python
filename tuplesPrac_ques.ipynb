{
 "cells": [
  {
   "cell_type": "markdown",
   "metadata": {},
   "source": [
    "## PROBLEMS"
   ]
  },
  {
   "cell_type": "code",
   "execution_count": 3,
   "metadata": {},
   "outputs": [
    {
     "name": "stdout",
     "output_type": "stream",
     "text": [
      "10\n"
     ]
    }
   ],
   "source": [
    "#pack 10 multiples of 0 into a tuple\n",
    "#unpack in 10 variables \n",
    "\n",
    "tpl = (10, 20, 30, 40, 50, 60, 70, 80, 90, 100)\n",
    "a, b, c, d, e, f ,g, h, i, j = tpl\n",
    "\n",
    "print(a)"
   ]
  },
  {
   "cell_type": "code",
   "execution_count": 25,
   "metadata": {},
   "outputs": [
    {
     "name": "stdout",
     "output_type": "stream",
     "text": [
      "Boys - 1\n",
      "Girls - 2\n"
     ]
    }
   ],
   "source": [
    "# name of boys and girls, boys name in tuples, fin dnumber of boys and girls\n",
    "\n",
    "names = [\"pinky\", (\"suresh\",), \"naina\"]\n",
    "b=0\n",
    "g=0\n",
    "\n",
    "for i in names:\n",
    "    if isinstance(i, tuple):\n",
    "        b=b+1\n",
    "    else:\n",
    "        g=g+1\n",
    "\n",
    "print(f\"Boys - {b}\\nGirls - {g}\")"
   ]
  },
  {
   "cell_type": "code",
   "execution_count": null,
   "metadata": {},
   "outputs": [
    {
     "name": "stdout",
     "output_type": "stream",
     "text": [
      "['Vatty', 'Rohit', 'Jai']\n"
     ]
    }
   ],
   "source": [
    "# names in new list\n",
    "\n",
    "dtls = [(\"AI121\",\"Vatty\", 18), (\"AI125\", \"Rohit\", 56), (\"AI45\", \"Jai\", 21)]\n",
    "names=[]\n",
    "\n",
    "for i in dtls:\n",
    "    names=names+[i[1]]\n",
    "    \n",
    "print(names)"
   ]
  },
  {
   "cell_type": "code",
   "execution_count": 53,
   "metadata": {},
   "outputs": [
    {
     "name": "stdout",
     "output_type": "stream",
     "text": [
      "('F', 'l', 'a', 'b', 'b', 'e', 'r', 'g', 'a', 's', 't', 'e', 'd', '!')\n",
      "Flabbergasted!\n",
      "('b', 'b')\n",
      "2\n",
      "r Exists in tuple\n",
      "['F', 'l', 'a', 'b', 'b', 'e', 'r', 'g', 'a', 's', 't', 'e', 'd', '!']\n",
      "('F', 'l', 'a', 'g', 'a', 's', 't', 'e', 'd', '!')\n"
     ]
    }
   ],
   "source": [
    "# add ! at edn of tuple\n",
    "# convert into strign\n",
    "# extract (b, b) fron tuple\n",
    "# find times of e\n",
    "# check for r\n",
    "# convert into list\n",
    "# delete char b b e r\n",
    "\n",
    "t = (\"F\",\"l\",\"a\",\"b\",\"b\",\"e\",\"r\",\"g\",\"a\",\"s\",\"t\",\"e\",\"d\")\n",
    "t=(t+(\"!\",))\n",
    "print(t)\n",
    "\n",
    "s=\"\"\n",
    "for i in t:\n",
    "    s=s+i\n",
    "print(s)\n",
    "\n",
    "print(t[3:5])\n",
    "\n",
    "print(t.count(\"e\"))\n",
    "\n",
    "if t.count(\"r\")>0:\n",
    "    print(\"r Exists in tuple\")\n",
    "\n",
    "print(list(t))\n",
    "\n",
    "t=t[:3]+t[7:]\n",
    "print(t)"
   ]
  },
  {
   "cell_type": "markdown",
   "metadata": {},
   "source": [
    "## Exercise"
   ]
  },
  {
   "cell_type": "code",
   "execution_count": 64,
   "metadata": {},
   "outputs": [
    {
     "ename": "TypeError",
     "evalue": "'int' object is not subscriptable",
     "output_type": "error",
     "traceback": [
      "\u001b[1;31m---------------------------------------------------------------------------\u001b[0m",
      "\u001b[1;31mTypeError\u001b[0m                                 Traceback (most recent call last)",
      "Cell \u001b[1;32mIn[64], line 6\u001b[0m\n\u001b[0;32m      3\u001b[0m lst\u001b[38;5;241m=\u001b[39m[(\u001b[38;5;124m\"\u001b[39m\u001b[38;5;124mApple\u001b[39m\u001b[38;5;124m\"\u001b[39m, \u001b[38;5;241m34.4\u001b[39m), (\u001b[38;5;124m\"\u001b[39m\u001b[38;5;124mBanana\u001b[39m\u001b[38;5;124m\"\u001b[39m, \u001b[38;5;241m45.5\u001b[39m)]\n\u001b[0;32m      5\u001b[0m \u001b[38;5;28;01mfor\u001b[39;00m i \u001b[38;5;129;01min\u001b[39;00m \u001b[38;5;28mrange\u001b[39m(\u001b[38;5;241m0\u001b[39m, \u001b[38;5;28mlen\u001b[39m(lst)\u001b[38;5;241m+\u001b[39m\u001b[38;5;241m1\u001b[39m):\n\u001b[1;32m----> 6\u001b[0m     a\u001b[38;5;241m=\u001b[39m\u001b[38;5;28msorted\u001b[39m([\u001b[43mi\u001b[49m\u001b[43m[\u001b[49m\u001b[38;5;241;43m1\u001b[39;49m\u001b[43m]\u001b[49m])\n\u001b[0;32m      7\u001b[0m     \u001b[38;5;28mprint\u001b[39m(a)\n",
      "\u001b[1;31mTypeError\u001b[0m: 'int' object is not subscriptable"
     ]
    }
   ],
   "source": [
    "#(b)\n",
    "\n",
    "lst=[(\"Apple\", 34.4), (\"Banana\", 45.5)]\n",
    "\n",
    "for i in range(0, len(lst)+1):\n",
    "    a=sorted([i[1]])\n",
    "    print(a)"
   ]
  }
 ],
 "metadata": {
  "kernelspec": {
   "display_name": "Python 3",
   "language": "python",
   "name": "python3"
  },
  "language_info": {
   "codemirror_mode": {
    "name": "ipython",
    "version": 3
   },
   "file_extension": ".py",
   "mimetype": "text/x-python",
   "name": "python",
   "nbconvert_exporter": "python",
   "pygments_lexer": "ipython3",
   "version": "3.12.9"
  }
 },
 "nbformat": 4,
 "nbformat_minor": 2
}
