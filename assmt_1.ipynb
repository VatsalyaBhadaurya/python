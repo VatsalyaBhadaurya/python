{
 "cells": [
  {
   "cell_type": "markdown",
   "metadata": {},
   "source": [
    "## Case Study: Employee Salary Management System\n",
    "\n",
    "Q.1 Case Study Description:\n",
    "You are assigned to develop a simple Employee Salary Management System for a company. The system needs to calculate the final salary of an employee based on their basic salary, allowances, and deductions.\n",
    "The company has the following rules:\n",
    "1.\tBasic Salary Calculation:\n",
    "The basic salary of an employee is given. From this, the system will calculate the total salary.\n",
    "2.\tAllowances:\n",
    "        o\tHouse Rent Allowance (HRA): 10% of the basic salary\n",
    "        o\tMedical Allowance (MA): 5% of the basic salary\n",
    "        o\tTransport Allowance (TA): 3% of the basic salary\n",
    "3.\tDeductions:\n",
    "        o\tTax Deduction: 12% of the basic salary\n",
    "        o\tProvident Fund (PF) Deduction: 5% of the basic salary\n",
    "4.\tFinal Salary Calculation:\n",
    "The final salary will be calculated as:\n",
    "Final Salary=Basic Salary+Total Allowances−Total Deductions\n",
    "The system needs to check whether the final salary is above $5000 or not. If it is, the employee gets a bonus of $200. Otherwise, they don’t get a bonus.\n",
    "\n",
    "\n",
    "q3.\tWrite a Python program that accepts the basic salary and determines if the employee is eligible for a raise. The company offers a raise under the following conditions:\n",
    "        o\tIf the basic salary is less than $4000, the raise is 15% of the basic salary.\n",
    "        o\tIf the basic salary is between $4000 and $7000, the raise is 10%.\n",
    "        o\tIf the basic salary is above $7000, the raise is 5%.\n",
    "The program should print the new salary after applying the raise.\n",
    "\n",
    "q4.\tWrite a Python program to calculate the net salary (Final Salary + Bonus, if eligible) for N employees. \n",
    "        The program should take input for the number of employees and calculate and display the final salary for each employee, \n",
    "        along with the bonus (if applicable).\n",
    "\n"
   ]
  },
  {
   "cell_type": "code",
   "execution_count": null,
   "metadata": {},
   "outputs": [
    {
     "name": "stdout",
     "output_type": "stream",
     "text": [
      "Final Salary - 6060.0\n",
      "Salary after bonus - 6260.0\n",
      "Salary after raise - 6600.0\n"
     ]
    }
   ],
   "source": [
    "b=float(input(\"Enter basic salary -\"))\n",
    "\n",
    "# allowances\n",
    "hra=b*0.1\n",
    "ma=b*0.05\n",
    "ta=b*0.03\n",
    "\n",
    "# deductions\n",
    "td=b*0.12\n",
    "pf=b*0.05\n",
    "\n",
    "#finalSalary\n",
    "fs=(b+hra+ma+ta)-(td+pf)\n",
    "print(\"Final Salary -\",fs)  \n",
    "\n",
    "# bonus\n",
    "if fs > 5000:\n",
    "    bn=fs+200\n",
    "    print(\"Salary after bonus -\",bn)\n",
    "\n",
    "# raise\n",
    "if b<4000:\n",
    "    r=b+b*0.15\n",
    "    print(\"Salary after raise -\", r)\n",
    "elif b>4000 and b<7000:\n",
    "    r=b+b*0.10\n",
    "    print(\"Salary after raise -\", r)\n",
    "else:\n",
    "    r=b+b*0.05\n",
    "    print(\"Salary after raise -\", r)\n"
   ]
  },
  {
   "cell_type": "code",
   "execution_count": null,
   "metadata": {},
   "outputs": [
    {
     "name": "stdout",
     "output_type": "stream",
     "text": [
      "Name of employee - vatty \n",
      "New Salary - 9200.0\n",
      "Name of employee - huh \n",
      "New Salary - 8200.0\n"
     ]
    }
   ],
   "source": [
    "# salary on N employees\n",
    "\n",
    "n=int(input(\"Enter number of emplyees - \"))\n",
    "\n",
    "for i in range(0,n):\n",
    "    nm=input(\"Enter name of employee -\")\n",
    "    bs=float(input(\"Enter salary -\"))\n",
    "    if bs >5000:\n",
    "        bs=bs+200\n",
    "\n",
    "    for i in range(0,1):\n",
    "        print(\"Name of employee -\", nm, \"\\nNew Salary -\", bs)\n",
    "\n"
   ]
  },
  {
   "cell_type": "markdown",
   "metadata": {},
   "source": [
    "## Q.2 Explain the difference between the if, elif, and else statements in Python. Provide an example to illustrate their usage"
   ]
  },
  {
   "cell_type": "code",
   "execution_count": 18,
   "metadata": {},
   "outputs": [
    {
     "name": "stdout",
     "output_type": "stream",
     "text": [
      "You are an adult.\n"
     ]
    }
   ],
   "source": [
    "# Example to illustrate if, elif, and else statements\n",
    "\n",
    "age = 25\n",
    "\n",
    "if age < 18:\n",
    "    print(\"You are a minor.\")\n",
    "elif age <= 65:\n",
    "    print(\"You are an adult.\")\n",
    "else:\n",
    "    print(\"You are a senior citizen.\")\n",
    "\n",
    "\n",
    "# if statement checks a condition and executes its code block if the condition is True.\n",
    "\n",
    "# elif statement checks another condition if the previous ones are False\n",
    "\n",
    "# else statement executes its code block if all preceding conditions are False.\n"
   ]
  },
  {
   "cell_type": "markdown",
   "metadata": {},
   "source": [
    "## Q.3 Write a Python program to find the factorial of a number using a while loop. The program should prompt the user for the number."
   ]
  },
  {
   "cell_type": "code",
   "execution_count": null,
   "metadata": {},
   "outputs": [
    {
     "name": "stdout",
     "output_type": "stream",
     "text": [
      "Factorial is - 3628800\n"
     ]
    }
   ],
   "source": [
    "n=int(input(\"Enter number -\"))\n",
    "\n",
    "s=1\n",
    "while n>1:\n",
    "    s=s*n\n",
    "    n-=1\n",
    "\n",
    "print(\"Factorial is -\",s)"
   ]
  },
  {
   "cell_type": "markdown",
   "metadata": {},
   "source": [
    "## Q.4 Write a Python code that prints all numbers from 1 to 100 that are divisible by both 3 and 5"
   ]
  },
  {
   "cell_type": "code",
   "execution_count": 29,
   "metadata": {},
   "outputs": [
    {
     "name": "stdout",
     "output_type": "stream",
     "text": [
      "15\n",
      "30\n",
      "45\n",
      "60\n",
      "75\n",
      "90\n"
     ]
    }
   ],
   "source": [
    "for i in range(1,100):\n",
    "    if i%3==0 and i%5==0:\n",
    "        print(i)"
   ]
  },
  {
   "cell_type": "markdown",
   "metadata": {},
   "source": [
    "## Q.5 Write a Python program that takes a positive integer as input and prints whether it is a prime number or not. \n",
    "## Use a while loop for this task."
   ]
  },
  {
   "cell_type": "code",
   "execution_count": null,
   "metadata": {},
   "outputs": [
    {
     "ename": "NameError",
     "evalue": "name 'i' is not defined",
     "output_type": "error",
     "traceback": [
      "\u001b[1;31m---------------------------------------------------------------------------\u001b[0m",
      "\u001b[1;31mNameError\u001b[0m                                 Traceback (most recent call last)",
      "Cell \u001b[1;32mIn[3], line 4\u001b[0m\n\u001b[0;32m      1\u001b[0m n\u001b[38;5;241m=\u001b[39m\u001b[38;5;28mint\u001b[39m(\u001b[38;5;28minput\u001b[39m(\u001b[38;5;124m\"\u001b[39m\u001b[38;5;124mEnter a number - \u001b[39m\u001b[38;5;124m\"\u001b[39m))\n\u001b[0;32m      3\u001b[0m \u001b[38;5;28;01mwhile\u001b[39;00m (\u001b[38;5;241m2\u001b[39m,n):\n\u001b[1;32m----> 4\u001b[0m     \u001b[38;5;28;01mif\u001b[39;00m (n\u001b[38;5;241m%\u001b[39m\u001b[43mi\u001b[49m)\u001b[38;5;241m==\u001b[39m\u001b[38;5;241m0\u001b[39m:\n\u001b[0;32m      5\u001b[0m         \u001b[38;5;28mprint\u001b[39m(\u001b[38;5;124m\"\u001b[39m\u001b[38;5;124mNon Prime\u001b[39m\u001b[38;5;124m\"\u001b[39m)\n\u001b[0;32m      6\u001b[0m     \u001b[38;5;28;01melse\u001b[39;00m:\n",
      "\u001b[1;31mNameError\u001b[0m: name 'i' is not defined"
     ]
    }
   ],
   "source": [
    "n=int(input(\"Enter a number - \"))\n",
    "\n",
    "for i in range (2,n):\n",
    "    if (n%i)==0:\n",
    "        print(\"Non Prime\")\n",
    "    else:\n",
    "        print(\"True\")\n",
    "        break\n",
    "print(\"Entered number -\", n)"
   ]
  }
 ],
 "metadata": {
  "kernelspec": {
   "display_name": "Python 3",
   "language": "python",
   "name": "python3"
  },
  "language_info": {
   "codemirror_mode": {
    "name": "ipython",
    "version": 3
   },
   "file_extension": ".py",
   "mimetype": "text/x-python",
   "name": "python",
   "nbconvert_exporter": "python",
   "pygments_lexer": "ipython3",
   "version": "3.12.9"
  }
 },
 "nbformat": 4,
 "nbformat_minor": 2
}
