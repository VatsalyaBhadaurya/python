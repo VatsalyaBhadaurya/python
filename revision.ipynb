{
 "cells": [
  {
   "cell_type": "markdown",
   "metadata": {},
   "source": [
    "# UNIT 1: Python Basics, Operators, and Control Flow\n",
    "\n",
    "\n",
    "\n",
    "\n",
    "\n",
    "Implement a program to check whether a year is leap year or not.\n",
    "\n",
    "Create a program to count the number of vowels and consonants in a given string.\n",
    "\n",
    "Write a program to find the sum of digits of a given number using recursion.\n"
   ]
  },
  {
   "cell_type": "markdown",
   "metadata": {},
   "source": [
    "1) Write a program to swap two numbers without using a temporary variable."
   ]
  },
  {
   "cell_type": "code",
   "execution_count": 17,
   "metadata": {},
   "outputs": [
    {
     "name": "stdout",
     "output_type": "stream",
     "text": [
      "20 10\n"
     ]
    }
   ],
   "source": [
    "a = 10\n",
    "b = 20\n",
    "temp =0\n",
    "\n",
    "temp = a\n",
    "a=b\n",
    "b=temp\n",
    "\n",
    "print(a, b)"
   ]
  },
  {
   "cell_type": "markdown",
   "metadata": {},
   "source": [
    "2) Create a program that checks if a number is prime or composite."
   ]
  },
  {
   "cell_type": "code",
   "execution_count": 59,
   "metadata": {},
   "outputs": [
    {
     "name": "stdout",
     "output_type": "stream",
     "text": [
      "not prime\n"
     ]
    }
   ],
   "source": [
    "a=int(input(\"Enter a number - \"))\n",
    "\n",
    "for i in range(2, a):\n",
    "    if a%i==0:\n",
    "        print(\"not prime\")\n",
    "        break\n",
    "else:\n",
    "    print(\"prime\")\n",
    "        "
   ]
  },
  {
   "cell_type": "markdown",
   "metadata": {},
   "source": [
    "3) Write a program to reverse a number and check if it's a palindrome."
   ]
  },
  {
   "cell_type": "code",
   "execution_count": 7,
   "metadata": {},
   "outputs": [
    {
     "name": "stdout",
     "output_type": "stream",
     "text": [
      "Reverse - 90909\n",
      "Number is palindrome\n"
     ]
    }
   ],
   "source": [
    "b=int(input(\"Enter a number - \"))\n",
    "a=str(b)\n",
    "\n",
    "print(f\"Reverse - {a[::-1]}\")\n",
    "\n",
    "if a[::-1]==a:\n",
    "    print(\"Number is palindrome\")"
   ]
  },
  {
   "cell_type": "markdown",
   "metadata": {},
   "source": [
    "4) Implement a program to find the factorial of a number using both iteration and recursion."
   ]
  },
  {
   "cell_type": "code",
   "execution_count": 19,
   "metadata": {},
   "outputs": [
    {
     "name": "stdout",
     "output_type": "stream",
     "text": [
      "120\n"
     ]
    }
   ],
   "source": [
    "def fact(n):\n",
    "    f=1\n",
    "    for i in range(1, n+1):\n",
    "        f=f*i\n",
    "    return f\n",
    "\n",
    "print(fact(5))"
   ]
  },
  {
   "cell_type": "markdown",
   "metadata": {},
   "source": [
    "5) Write a program to generate Fibonacci series up to n terms using recursion."
   ]
  },
  {
   "cell_type": "code",
   "execution_count": 32,
   "metadata": {},
   "outputs": [
    {
     "name": "stdout",
     "output_type": "stream",
     "text": [
      "0\n",
      "1\n",
      "1\n",
      "2\n",
      "3\n"
     ]
    }
   ],
   "source": [
    "n = int(input(\"Enter the number of terms: \"))\n",
    "\n",
    "a, b = 0, 1\n",
    "\n",
    "for i in range(n):\n",
    "    print(a)  \n",
    "    a, b = b, a + b  \n",
    "\n"
   ]
  },
  {
   "cell_type": "markdown",
   "metadata": {},
   "source": [
    "6) Implement a program to check whether a year is leap year or not."
   ]
  },
  {
   "cell_type": "code",
   "execution_count": 46,
   "metadata": {},
   "outputs": [
    {
     "name": "stdout",
     "output_type": "stream",
     "text": [
      "Not Leap year\n",
      "Leap year\n"
     ]
    }
   ],
   "source": [
    "a = int(input(\"Enter year - \"))\n",
    "\n",
    "if a%4==0:\n",
    "    if a%100==0 and a%400!=0: \n",
    "        print(\"Not Leap year\")\n",
    "if a%4==0:\n",
    "    print(\"Leap year\")\n",
    "else:\n",
    "    print(\"Not a leap year\")"
   ]
  }
 ],
 "metadata": {
  "kernelspec": {
   "display_name": "Python 3",
   "language": "python",
   "name": "python3"
  },
  "language_info": {
   "codemirror_mode": {
    "name": "ipython",
    "version": 3
   },
   "file_extension": ".py",
   "mimetype": "text/x-python",
   "name": "python",
   "nbconvert_exporter": "python",
   "pygments_lexer": "ipython3",
   "version": "3.12.9"
  }
 },
 "nbformat": 4,
 "nbformat_minor": 2
}
