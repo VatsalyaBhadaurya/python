{
 "cells": [
  {
   "cell_type": "code",
   "execution_count": null,
   "metadata": {},
   "outputs": [],
   "source": [
    "STRINGS\n"
   ]
  },
  {
   "cell_type": "code",
   "execution_count": 14,
   "metadata": {},
   "outputs": [
    {
     "name": "stdout",
     "output_type": "stream",
     "text": [
      "13\n",
      "True\n",
      "3\n",
      "-1\n",
      "new hello World!\n"
     ]
    }
   ],
   "source": [
    "a = \"hello, World!\"\n",
    "\n",
    "print(len(a))                                 # to find length\n",
    "print(a.endswith(\"ld!\"))                      # to check if string ends with particular char\n",
    "print(a.count(\"l\"))                           # to count particular char in a string\n",
    "a.capitalize                                  # to capitalize \n",
    "print(a.find(\"world!\"))                       # to find a word in string\n",
    "print(a.replace(\"hello,\", \"new hello\"))       # to repplace a word in string\n",
    "\n"
   ]
  },
  {
   "cell_type": "code",
   "execution_count": 15,
   "metadata": {},
   "outputs": [
    {
     "name": "stdout",
     "output_type": "stream",
     "text": [
      "Good afternoon, Vatty\n"
     ]
    }
   ],
   "source": [
    "# to greet noon\n",
    "\n",
    "a = str(input(\"Enter your name - \"))\n",
    "print(\"Good afternoon,\",a)"
   ]
  },
  {
   "cell_type": "code",
   "execution_count": 21,
   "metadata": {},
   "outputs": [
    {
     "name": "stdout",
     "output_type": "stream",
     "text": [
      "Dear vatty ,\n",
      " \t You are selected! \n",
      "\t 18th Jan 2025\n"
     ]
    }
   ],
   "source": [
    "# letter template\n",
    "\n",
    "a = str(input(\"Enter your name - \"))\n",
    "d = str(input(\"Enter date - \"))\n",
    "\n",
    "print(\"Dear\", a,\",\\n \\t\", \"You are selected! \\n\\t\", d )"
   ]
  },
  {
   "cell_type": "code",
   "execution_count": 23,
   "metadata": {},
   "outputs": [
    {
     "name": "stdout",
     "output_type": "stream",
     "text": [
      "aur madarchod  haal??\n",
      "13\n"
     ]
    }
   ],
   "source": [
    "# to find double space in a string\n",
    "\n",
    "a = str(input(\"Enter a sentence - \"))\n",
    "print(a)\n",
    "print(a.find(\"  \"))"
   ]
  },
  {
   "cell_type": "code",
   "execution_count": 26,
   "metadata": {},
   "outputs": [
    {
     "name": "stdout",
     "output_type": "stream",
     "text": [
      "hellow rr\n"
     ]
    }
   ],
   "source": [
    "# to replace double space with single space\n",
    "\n",
    "a = str(input(\"Enter a string\"))\n",
    "print(a.replace(\"  \", \" \"))"
   ]
  }
 ],
 "metadata": {
  "kernelspec": {
   "display_name": ".venv",
   "language": "python",
   "name": "python3"
  },
  "language_info": {
   "codemirror_mode": {
    "name": "ipython",
    "version": 3
   },
   "file_extension": ".py",
   "mimetype": "text/x-python",
   "name": "python",
   "nbconvert_exporter": "python",
   "pygments_lexer": "ipython3",
   "version": "3.13.0"
  }
 },
 "nbformat": 4,
 "nbformat_minor": 2
}
