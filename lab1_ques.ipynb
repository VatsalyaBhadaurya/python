{
 "cells": [
  {
   "cell_type": "markdown",
   "metadata": {},
   "source": [
    "LAB QUES"
   ]
  },
  {
   "cell_type": "code",
   "execution_count": 1,
   "metadata": {},
   "outputs": [
    {
     "name": "stdout",
     "output_type": "stream",
     "text": [
      "Your total bill is : 9182.4192\n"
     ]
    }
   ],
   "source": [
    "# value of cart 8% gst\n",
    "\n",
    "shirt = 2500.99\n",
    "pants = 1500.50\n",
    "shoes = 4500.75\n",
    "\n",
    "s = int(input(\"Enter number of Shirts :\"))\n",
    "p = int(input(\"Enter number of pants :\"))\n",
    "sh = int(input(\"Enter number of shoes\"))\n",
    "\n",
    "print(\"Your total bill is :\", (shirt*s+pants*p+shoes*sh)+(shirt*s+pants*p+shoes*sh)*0.08)"
   ]
  },
  {
   "cell_type": "code",
   "execution_count": 5,
   "metadata": {},
   "outputs": [
    {
     "name": "stdout",
     "output_type": "stream",
     "text": [
      "Average speed is : 28.008130081300816 Km/Hr\n",
      "Distance in miles is : 21.40623095 km\n"
     ]
    }
   ],
   "source": [
    "# avg speed and miles\n",
    "\n",
    "s = float(input(\"Enter distance travelled :\"))\n",
    "t = float(input(\"Enter time taken in hrs :\"))\n",
    "\n",
    "print(\"Average speed is :\", s/t, \"Km/Hr\")\n",
    "\n",
    "print(\"Distance in miles is :\", s*0.621371, \"km\")"
   ]
  },
  {
   "cell_type": "code",
   "execution_count": 4,
   "metadata": {},
   "outputs": [
    {
     "name": "stdout",
     "output_type": "stream",
     "text": [
      "Your final amount is 20711.29115226338\n"
     ]
    }
   ],
   "source": [
    "# compound interest\n",
    "\n",
    "p = float(input(\"Enter principal amount :\"))\n",
    "r = float(input(\"Enter rate of interest :\"))\n",
    "n = int(input(\"Enter number of time interst compunded :\"))\n",
    "t = float(input(\"Enter time period of loan :\"))\n",
    "\n",
    "print(\"Your final amount is\", p*(1+(r/n))**t)"
   ]
  },
  {
   "cell_type": "code",
   "execution_count": null,
   "metadata": {},
   "outputs": [
    {
     "name": "stdout",
     "output_type": "stream",
     "text": [
      "56.0 Fer\n",
      "Temp in celcius : 13.333333333333334\n"
     ]
    }
   ],
   "source": [
    "# fer to cel\n",
    "\n",
    "f = float(input(\"Enter temp in celcius :\"))\n",
    "print(f, \"F\")\n",
    "print(\"Temp in celcius :\", (f-32)*(5/9))"
   ]
  },
  {
   "cell_type": "code",
   "execution_count": 3,
   "metadata": {},
   "outputs": [
    {
     "name": "stdout",
     "output_type": "stream",
     "text": [
      "32.0 C\n",
      "Temp in F is 89.6\n"
     ]
    }
   ],
   "source": [
    "# cel to fer\n",
    "\n",
    "c = float(input(\"Enter temo in fer :\"))\n",
    "print(c, \"C\")\n",
    "print(\"Temp in F is\", c*(9/5)+32)"
   ]
  }
 ],
 "metadata": {
  "kernelspec": {
   "display_name": ".venv",
   "language": "python",
   "name": "python3"
  },
  "language_info": {
   "codemirror_mode": {
    "name": "ipython",
    "version": 3
   },
   "file_extension": ".py",
   "mimetype": "text/x-python",
   "name": "python",
   "nbconvert_exporter": "python",
   "pygments_lexer": "ipython3",
   "version": "3.13.0"
  }
 },
 "nbformat": 4,
 "nbformat_minor": 2
}
