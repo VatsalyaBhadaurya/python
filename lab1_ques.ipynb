{
 "cells": [
  {
   "cell_type": "markdown",
   "metadata": {},
   "source": [
    "LAB QUES"
   ]
  },
  {
   "cell_type": "code",
   "execution_count": 1,
   "metadata": {},
   "outputs": [
    {
     "name": "stdout",
     "output_type": "stream",
     "text": [
      "Your total bill is : 9182.4192\n"
     ]
    }
   ],
   "source": [
    "# value of cart 8% gst\n",
    "\n",
    "shirt = 2500.99\n",
    "pants = 1500.50\n",
    "shoes = 4500.75\n",
    "\n",
    "s = int(input(\"Enter number of Shirts :\"))\n",
    "p = int(input(\"Enter number of pants :\"))\n",
    "sh = int(input(\"Enter number of shoes\"))\n",
    "\n",
    "print(\"Your total bill is :\", (shirt*s+pants*p+shoes*sh)+(shirt*s+pants*p+shoes*sh)*0.08)"
   ]
  },
  {
   "cell_type": "code",
   "execution_count": 5,
   "metadata": {},
   "outputs": [
    {
     "name": "stdout",
     "output_type": "stream",
     "text": [
      "Average speed is : 28.008130081300816 Km/Hr\n",
      "Distance in miles is : 21.40623095 km\n"
     ]
    }
   ],
   "source": [
    "# avg speed and miles\n",
    "\n",
    "s = float(input(\"Enter distance travelled :\"))\n",
    "t = float(input(\"Enter time taken in hrs :\"))\n",
    "\n",
    "print(\"Average speed is :\", s/t, \"Km/Hr\")\n",
    "\n",
    "print(\"Distance in miles is :\", s*0.621371, \"km\")"
   ]
  },
  {
   "cell_type": "code",
   "execution_count": 8,
   "metadata": {},
   "outputs": [
    {
     "name": "stdout",
     "output_type": "stream",
     "text": [
      "Your final amount is 1777.7777777777776\n"
     ]
    }
   ],
   "source": [
    "# compound interest\n",
    "\n",
    "p = float(input(\"Enter principal amount :\"))\n",
    "r = float(input(\"Enter rate of interest :\"))\n",
    "n = int(input(\"Enter number of time interst compunded :\"))\n",
    "t = float(input(\"Enter time period of loan :\"))\n",
    "\n",
    "print(\"Your final amount is\", p*(1+(r/n))**t)"
   ]
  }
 ],
 "metadata": {
  "kernelspec": {
   "display_name": ".venv",
   "language": "python",
   "name": "python3"
  },
  "language_info": {
   "codemirror_mode": {
    "name": "ipython",
    "version": 3
   },
   "file_extension": ".py",
   "mimetype": "text/x-python",
   "name": "python",
   "nbconvert_exporter": "python",
   "pygments_lexer": "ipython3",
   "version": "3.13.0"
  }
 },
 "nbformat": 4,
 "nbformat_minor": 2
}
