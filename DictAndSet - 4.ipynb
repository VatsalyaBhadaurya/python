{
 "cells": [
  {
   "cell_type": "markdown",
   "metadata": {},
   "source": [
    "DICTIONARY"
   ]
  },
  {
   "cell_type": "code",
   "execution_count": 3,
   "metadata": {},
   "outputs": [
    {
     "name": "stdout",
     "output_type": "stream",
     "text": [
      "[45, 23, 54]\n"
     ]
    }
   ],
   "source": [
    "# dict is collection of key values pair\n",
    "\n",
    "# it is unordered\n",
    "# it is mutable\n",
    "# it is indexed\n",
    "# cant duplicate keys\n",
    "\n",
    "a = {\n",
    "    \"hello\": 45,\n",
    "    \"eheh\": \"joks\",\n",
    "    \"marks\" : [45,23,54]\n",
    "}\n",
    "\n",
    "print(a[\"marks\"])"
   ]
  },
  {
   "cell_type": "code",
   "execution_count": 15,
   "metadata": {},
   "outputs": [
    {
     "name": "stdout",
     "output_type": "stream",
     "text": [
      "dict_items([('hey', 'hello'), ('two', 200), ('marks', [2, 3, 4])])\n",
      "dict_keys(['hey', 'two', 'marks'])\n",
      "dict_values(['hello', 200, [2, 3, 4]])\n",
      "{'hey': 'hello', 'two': 200, 'marks': [2, 3, 4], 'he': 'hlo'}\n",
      "200\n"
     ]
    }
   ],
   "source": [
    "dict = {\n",
    "\n",
    "        \"hey\":\"hello\",\n",
    "        \"two\":200,\n",
    "        \"marks\":[2,3,4]\n",
    "        \n",
    "}\n",
    "\n",
    "dict.items()\n",
    "print(dict.items())           # shows key value pairs\n",
    "\n",
    "dict.keys()                   # shows keys of dict\n",
    "print(dict.keys())\n",
    "\n",
    "dict.values()                 # shows values for dict\n",
    "print(dict.values())\n",
    "\n",
    "dict.update({\"he\":\"hlo\"})    #updates key, if no key exits with name new key value is appende at end of dict\n",
    "print(dict)\n",
    "\n",
    "dict.get(\"two\")                #gives value of key \n",
    "print(dict.get(\"two\"))\n",
    "\n"
   ]
  },
  {
   "cell_type": "markdown",
   "metadata": {},
   "source": [
    "SET"
   ]
  },
  {
   "cell_type": "code",
   "execution_count": null,
   "metadata": {},
   "outputs": [],
   "source": [
    "# collection of non repeteive elements\n",
    "# unordered\n",
    "# unindexed\n",
    "# cant change items in sets\n",
    "# cant contain duplicate values"
   ]
  },
  {
   "cell_type": "code",
   "execution_count": 56,
   "metadata": {},
   "outputs": [
    {
     "name": "stdout",
     "output_type": "stream",
     "text": [
      "5\n",
      "{1, 3, 6, 9}\n",
      "3\n",
      "{6, 9}\n",
      "{6, 9}\n"
     ]
    }
   ],
   "source": [
    "s = {1,3,6,9, \"fff\"}\n",
    "\n",
    "print(s.__len__())              # gives length of set\n",
    "\n",
    "s.remove(\"fff\")                 # removes particular stuff both str and int\n",
    "print(s)\n",
    "\n",
    "s.pop()                         # removes a randon elemst from set and prints            \n",
    "print(s.pop())\n",
    "\n",
    "#s.clear()                       # empties the set \n",
    "#print(s)\n",
    "\n",
    "s.union({8,4})\n",
    "print(s)\n",
    "\n",
    "s.intersection({3,6, 10})       #   gives intersection of 2 sets\n",
    "print(s)\n",
    "\n"
   ]
  },
  {
   "cell_type": "code",
   "execution_count": null,
   "metadata": {},
   "outputs": [],
   "source": [
    "# hindi english dict\n",
    "\n",
    "h2e = {\n",
    "    \"hey\":\"bhak\",\n",
    "    \"good\":\"accha hain\"\n",
    "}\n",
    "# try \n"
   ]
  },
  {
   "cell_type": "code",
   "execution_count": null,
   "metadata": {},
   "outputs": [],
   "source": []
  }
 ],
 "metadata": {
  "kernelspec": {
   "display_name": ".venv",
   "language": "python",
   "name": "python3"
  },
  "language_info": {
   "codemirror_mode": {
    "name": "ipython",
    "version": 3
   },
   "file_extension": ".py",
   "mimetype": "text/x-python",
   "name": "python",
   "nbconvert_exporter": "python",
   "pygments_lexer": "ipython3",
   "version": "3.13.0"
  }
 },
 "nbformat": 4,
 "nbformat_minor": 2
}
