{
 "cells": [
  {
   "cell_type": "markdown",
   "metadata": {},
   "source": [
    "## To print largest/smallest of 2 numbers"
   ]
  },
  {
   "cell_type": "code",
   "execution_count": 1,
   "metadata": {},
   "outputs": [
    {
     "name": "stdout",
     "output_type": "stream",
     "text": [
      "3.0 is largest\n"
     ]
    }
   ],
   "source": [
    "a=float(input(\"Enter number 1 -\"))\n",
    "b=float(input(\"Enter number 2 -\"))\n",
    "\n",
    "if a>b:\n",
    "    print(f\"{a} is largest\")\n",
    "else:\n",
    "    print(f\"{b} is largest\")"
   ]
  },
  {
   "cell_type": "markdown",
   "metadata": {},
   "source": [
    "## compute power"
   ]
  },
  {
   "cell_type": "code",
   "execution_count": null,
   "metadata": {},
   "outputs": [
    {
     "name": "stdout",
     "output_type": "stream",
     "text": [
      "8\n",
      "8\n"
     ]
    }
   ],
   "source": [
    "a=2\n",
    "b=3\n",
    "\n",
    "print(pow(a, b))\n",
    "print(a**b)"
   ]
  },
  {
   "cell_type": "markdown",
   "metadata": {},
   "source": [
    "## sum of series"
   ]
  },
  {
   "cell_type": "code",
   "execution_count": 4,
   "metadata": {},
   "outputs": [
    {
     "name": "stdout",
     "output_type": "stream",
     "text": [
      "31\n"
     ]
    }
   ],
   "source": [
    "def series_sum(x, n):\n",
    "    sum = 0\n",
    "    for i in range(n + 1):\n",
    "        sum += x ** i\n",
    "    return sum\n",
    "\n",
    "x = 2\n",
    "n = 4\n",
    "print(series_sum(x, n))  #\n"
   ]
  },
  {
   "cell_type": "markdown",
   "metadata": {},
   "source": [
    "## compute distance"
   ]
  },
  {
   "cell_type": "code",
   "execution_count": 7,
   "metadata": {},
   "outputs": [
    {
     "name": "stdout",
     "output_type": "stream",
     "text": [
      "5.0\n"
     ]
    }
   ],
   "source": [
    "import math\n",
    "\n",
    "def distance(x1, y1, x2, y2):\n",
    "    return math.sqrt((x2 - x1)**2 + (y2 - y1)**2)\n",
    "\n",
    "x1, y1 = 1, 2\n",
    "x2, y2 = 4, 6\n",
    "print(distance(x1, y1, x2, y2))  "
   ]
  },
  {
   "cell_type": "markdown",
   "metadata": {},
   "source": [
    "## . Count the number of characters in a string without using len() function and store them in a list."
   ]
  },
  {
   "cell_type": "code",
   "execution_count": 8,
   "metadata": {},
   "outputs": [
    {
     "name": "stdout",
     "output_type": "stream",
     "text": [
      "Number of characters: 13\n",
      "Characters in the string: ['H', 'e', 'l', 'l', 'o', ',', ' ', 'W', 'o', 'r', 'l', 'd', '!']\n"
     ]
    }
   ],
   "source": [
    "def count_characters(input_string):\n",
    "    count = 0\n",
    "    character_list = []\n",
    "    \n",
    "    for char in input_string:\n",
    "        count += 1\n",
    "        character_list.append(char)\n",
    "    \n",
    "    return count, character_list\n",
    "\n",
    "\n",
    "input_string = \"Hello, World!\"\n",
    "character_count, character_list = count_characters(input_string)\n",
    "print(f\"Number of characters: {character_count}\")\n",
    "print(f\"Characters in the string: {character_list}\")\n"
   ]
  }
 ],
 "metadata": {
  "kernelspec": {
   "display_name": "Python 3",
   "language": "python",
   "name": "python3"
  },
  "language_info": {
   "codemirror_mode": {
    "name": "ipython",
    "version": 3
   },
   "file_extension": ".py",
   "mimetype": "text/x-python",
   "name": "python",
   "nbconvert_exporter": "python",
   "pygments_lexer": "ipython3",
   "version": "3.12.9"
  }
 },
 "nbformat": 4,
 "nbformat_minor": 2
}
