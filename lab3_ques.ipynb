{
 "cells": [
  {
   "cell_type": "code",
   "execution_count": null,
   "metadata": {},
   "outputs": [
    {
     "name": "stdout",
     "output_type": "stream",
     "text": [
      "195\n",
      "208\n",
      "221\n",
      "234\n",
      "247\n",
      "260\n",
      "273\n",
      "286\n",
      "299\n",
      "312\n",
      "325\n",
      "338\n",
      "351\n",
      "364\n",
      "377\n",
      "390\n",
      "403\n",
      "416\n",
      "429\n",
      "442\n",
      "455\n",
      "468\n",
      "481\n",
      "494\n",
      "507\n",
      "520\n",
      "533\n",
      "546\n"
     ]
    }
   ],
   "source": [
    "# multiples of 13 in 187 - 555\n",
    "\n",
    "for i in range(187,555):\n",
    "    if i%13==0:\n",
    "        print(i )"
   ]
  },
  {
   "cell_type": "code",
   "execution_count": 7,
   "metadata": {},
   "outputs": [
    {
     "name": "stdout",
     "output_type": "stream",
     "text": [
      "Entered number - 7\n",
      "11\n",
      "22\n",
      "33\n",
      "44\n",
      "55\n",
      "66\n",
      "77\n"
     ]
    }
   ],
   "source": [
    "# n multiples of 11\n",
    "\n",
    "n=int(input(\"Enter nth number - \"))\n",
    "print(\"Entered number -\", n)\n",
    "\n",
    "for i in range(1,n+1):\n",
    "    print(11*i)\n"
   ]
  },
  {
   "cell_type": "code",
   "execution_count": 28,
   "metadata": {},
   "outputs": [
    {
     "name": "stdout",
     "output_type": "stream",
     "text": [
      "Reversed - 676\n",
      "676 is palindrome\n"
     ]
    }
   ],
   "source": [
    "# reverse and check if palindrome\n",
    "\n",
    "a=int(input(\"Enter a 6 digit number \"))\n",
    "n=str(a)\n",
    "print(\"Reversed -\",n[::-1])\n",
    "if n==n[::-1]:\n",
    "     print(a, \"is palindrome\")\n",
    "else:\n",
    "     print(\"Not a palindrome\")"
   ]
  },
  {
   "cell_type": "code",
   "execution_count": 51,
   "metadata": {},
   "outputs": [
    {
     "name": "stdout",
     "output_type": "stream",
     "text": [
      "2\n",
      "5\n",
      "8\n",
      "11\n",
      "14\n",
      "17\n"
     ]
    }
   ],
   "source": [
    "# 2 5 8 11 .... .. .. n\n",
    "\n",
    "n=int(input(\"Enter nth number -\"))\n",
    "s=2\n",
    "for i in range(2,n+1):\n",
    "    print (s)\n",
    "    s=s+3    "
   ]
  },
  {
   "cell_type": "code",
   "execution_count": 14,
   "metadata": {},
   "outputs": [
    {
     "name": "stdout",
     "output_type": "stream",
     "text": [
      "456456\n",
      "228228\n",
      "114114\n",
      "57057\n",
      "171172\n",
      "85586\n",
      "42793\n",
      "128380\n",
      "64190\n",
      "32095\n",
      "96286\n",
      "48143\n",
      "144430\n",
      "72215\n",
      "216646\n",
      "108323\n",
      "324970\n",
      "162485\n",
      "487456\n",
      "243728\n",
      "121864\n",
      "60932\n",
      "30466\n",
      "15233\n",
      "45700\n",
      "22850\n",
      "11425\n",
      "34276\n",
      "17138\n",
      "8569\n",
      "25708\n",
      "12854\n",
      "6427\n",
      "19282\n",
      "9641\n",
      "28924\n",
      "14462\n",
      "7231\n",
      "21694\n",
      "10847\n",
      "32542\n",
      "16271\n",
      "48814\n",
      "24407\n",
      "73222\n",
      "36611\n",
      "109834\n",
      "54917\n",
      "164752\n",
      "82376\n",
      "41188\n",
      "20594\n",
      "10297\n",
      "30892\n",
      "15446\n",
      "7723\n",
      "23170\n",
      "11585\n",
      "34756\n",
      "17378\n",
      "8689\n",
      "26068\n",
      "13034\n",
      "6517\n",
      "19552\n",
      "9776\n",
      "4888\n",
      "2444\n",
      "1222\n",
      "611\n",
      "1834\n",
      "917\n",
      "2752\n",
      "1376\n",
      "688\n",
      "344\n",
      "172\n",
      "86\n",
      "43\n",
      "130\n",
      "65\n",
      "196\n",
      "98\n",
      "49\n",
      "148\n",
      "74\n",
      "37\n",
      "112\n",
      "56\n",
      "28\n",
      "14\n",
      "7\n",
      "22\n",
      "11\n",
      "34\n",
      "17\n",
      "52\n",
      "26\n",
      "13\n",
      "40\n",
      "20\n",
      "10\n",
      "5\n",
      "16\n",
      "8\n",
      "4\n",
      "2\n",
      "1\n",
      "Total steps - 107\n"
     ]
    }
   ],
   "source": [
    "# 5. Write a Python code that takes a positive number as input and prints the following numbers:\n",
    "# a) If the number is even, divide it by 2\n",
    "#b) if the number is odd, multiply it by 3 and add 1\n",
    "# Continue until the number becomes 1, and also print the total number of steps taken.\n",
    "\n",
    "n = int(input(\"Enter a num -  \"))\n",
    "\n",
    "if n > 0:\n",
    "    s = 0\n",
    "    print(n)\n",
    "    \n",
    "    for i in range(10000):\n",
    "        if n == 1:\n",
    "            break\n",
    "        if n % 2 == 0:\n",
    "            n = n // 2\n",
    "        else:\n",
    "            n = n * 3 + 1\n",
    "        print(n)\n",
    "        s += 1\n",
    "    \n",
    "    print(\"Total steps -\", s)\n",
    "\n"
   ]
  }
 ],
 "metadata": {
  "kernelspec": {
   "display_name": "Python 3",
   "language": "python",
   "name": "python3"
  },
  "language_info": {
   "codemirror_mode": {
    "name": "ipython",
    "version": 3
   },
   "file_extension": ".py",
   "mimetype": "text/x-python",
   "name": "python",
   "nbconvert_exporter": "python",
   "pygments_lexer": "ipython3",
   "version": "3.12.9"
  }
 },
 "nbformat": 4,
 "nbformat_minor": 2
}
