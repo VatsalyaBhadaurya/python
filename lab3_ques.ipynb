{
 "cells": [
  {
   "cell_type": "code",
   "execution_count": null,
   "metadata": {},
   "outputs": [
    {
     "name": "stdout",
     "output_type": "stream",
     "text": [
      "195\n",
      "208\n",
      "221\n",
      "234\n",
      "247\n",
      "260\n",
      "273\n",
      "286\n",
      "299\n",
      "312\n",
      "325\n",
      "338\n",
      "351\n",
      "364\n",
      "377\n",
      "390\n",
      "403\n",
      "416\n",
      "429\n",
      "442\n",
      "455\n",
      "468\n",
      "481\n",
      "494\n",
      "507\n",
      "520\n",
      "533\n",
      "546\n"
     ]
    }
   ],
   "source": [
    "# multiples of 13 in 187 - 555\n",
    "\n",
    "for i in range(187,555):\n",
    "    if i%13==0:\n",
    "        print(i )"
   ]
  },
  {
   "cell_type": "code",
   "execution_count": 7,
   "metadata": {},
   "outputs": [
    {
     "name": "stdout",
     "output_type": "stream",
     "text": [
      "Entered number - 7\n",
      "11\n",
      "22\n",
      "33\n",
      "44\n",
      "55\n",
      "66\n",
      "77\n"
     ]
    }
   ],
   "source": [
    "# n multiples of 11\n",
    "\n",
    "n=int(input(\"Enter nth number - \"))\n",
    "print(\"Entered number -\", n)\n",
    "\n",
    "for i in range(1,n+1):\n",
    "    print(11*i)\n"
   ]
  },
  {
   "cell_type": "code",
   "execution_count": 28,
   "metadata": {},
   "outputs": [
    {
     "name": "stdout",
     "output_type": "stream",
     "text": [
      "Reversed - 676\n",
      "676 is palindrome\n"
     ]
    }
   ],
   "source": [
    "# reverse and check if palindrome\n",
    "\n",
    "a=int(input(\"Enter a 6 digit number \"))\n",
    "n=str(a)\n",
    "print(\"Reversed -\",n[::-1])\n",
    "if n==n[::-1]:\n",
    "     print(a, \"is palindrome\")\n",
    "else:\n",
    "     print(\"Not a palindrome\")"
   ]
  },
  {
   "cell_type": "code",
   "execution_count": 51,
   "metadata": {},
   "outputs": [
    {
     "name": "stdout",
     "output_type": "stream",
     "text": [
      "2\n",
      "5\n",
      "8\n",
      "11\n",
      "14\n",
      "17\n"
     ]
    }
   ],
   "source": [
    "# 2 5 8 11 .... .. .. n\n",
    "\n",
    "n=int(input(\"Enter nth number -\"))\n",
    "s=2\n",
    "for i in range(2,n+1):\n",
    "    print (s)\n",
    "    s=s+3    "
   ]
  },
  {
   "cell_type": "code",
   "execution_count": 7,
   "metadata": {},
   "outputs": [
    {
     "name": "stdout",
     "output_type": "stream",
     "text": [
      "3453\n",
      "10360\n",
      "5180\n",
      "2590\n",
      "1295\n",
      "3886\n",
      "1943\n",
      "5830\n",
      "2915\n",
      "8746\n",
      "4373\n",
      "13120\n",
      "6560\n",
      "3280\n",
      "1640\n",
      "820\n",
      "410\n",
      "205\n",
      "616\n",
      "308\n",
      "154\n",
      "77\n",
      "232\n",
      "116\n",
      "58\n",
      "29\n",
      "88\n",
      "44\n",
      "22\n",
      "11\n",
      "34\n",
      "17\n",
      "52\n",
      "26\n",
      "13\n",
      "40\n",
      "20\n",
      "10\n",
      "5\n",
      "16\n",
      "8\n",
      "4\n",
      "2\n",
      "1\n",
      "Total steps - 43\n"
     ]
    }
   ],
   "source": [
    "# 5. Write a Python code that takes a positive number as input and prints the following numbers:\n",
    "# a) If the number is even, divide it by 2\n",
    "#b) if the number is odd, multiply it by 3 and add 1\n",
    "# Continue until the number becomes 1, and also print the total number of steps taken.\n",
    "\n",
    "n = int(input(\"Enter a num -  \"))\n",
    "\n",
    "if n > 0:\n",
    "    s = 0\n",
    "    print(n)\n",
    "    \n",
    "    for i in range(10000):\n",
    "        if n == 1:\n",
    "            break\n",
    "        if n % 2 == 0:\n",
    "            n = n // 2\n",
    "        else:\n",
    "            n = n * 3 + 1\n",
    "        print(n)\n",
    "        s += 1\n",
    "    \n",
    "    print(\"Total steps -\", s)\n",
    "\n"
   ]
  }
 ],
 "metadata": {
  "kernelspec": {
   "display_name": "Python 3",
   "language": "python",
   "name": "python3"
  },
  "language_info": {
   "codemirror_mode": {
    "name": "ipython",
    "version": 3
   },
   "file_extension": ".py",
   "mimetype": "text/x-python",
   "name": "python",
   "nbconvert_exporter": "python",
   "pygments_lexer": "ipython3",
   "version": "3.12.9"
  }
 },
 "nbformat": 4,
 "nbformat_minor": 2
}
