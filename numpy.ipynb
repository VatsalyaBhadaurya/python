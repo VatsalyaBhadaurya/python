{
 "cells": [
  {
   "cell_type": "code",
   "execution_count": 7,
   "id": "39a7ce31",
   "metadata": {},
   "outputs": [
    {
     "name": "stdout",
     "output_type": "stream",
     "text": [
      "[ 1  6 15]\n"
     ]
    }
   ],
   "source": [
    "import numpy as np\n",
    "a = np.array([1,3,5])\n",
    "b = np.array([1,2,3])\n",
    "print(a*b)"
   ]
  },
  {
   "cell_type": "code",
   "execution_count": 27,
   "id": "ebd6913c",
   "metadata": {},
   "outputs": [],
   "source": [
    "\n",
    "a=np.array([1,2,3])\n",
    "b=np.array([2,3,4])\n",
    "c=a*b"
   ]
  },
  {
   "cell_type": "code",
   "execution_count": 9,
   "id": "90021e46",
   "metadata": {},
   "outputs": [
    {
     "name": "stdout",
     "output_type": "stream",
     "text": [
      "[[1 2 3]\n",
      " [3 4 5]]\n",
      "(2, 3)\n"
     ]
    },
    {
     "name": "stderr",
     "output_type": "stream",
     "text": [
      "C:\\Users\\Vatsalya Bhadaurya\\AppData\\Local\\Temp\\ipykernel_15888\\2452661130.py:8: DeprecationWarning: fastCopyAndTranspose and the underlying C function PyArray_CopyAndTranspose have been deprecated.\n",
      "\n",
      "Use the transpose method followed by a C-order copy instead, e.g. ``arr.T.copy()``\n",
      "  np.fastCopyAndTranspose(a)\n"
     ]
    },
    {
     "data": {
      "text/plain": [
       "array([[1, 3],\n",
       "       [2, 4],\n",
       "       [3, 5]])"
      ]
     },
     "execution_count": 9,
     "metadata": {},
     "output_type": "execute_result"
    }
   ],
   "source": [
    "import numpy as np\n",
    "a=np.array([[1,2,3],[3,4,5]])\n",
    "print (a)\n",
    "print(a.shape)\n",
    "np.sum(a)\n",
    "np.mean(a)\n",
    "\n",
    "np.fastCopyAndTranspose(a)"
   ]
  },
  {
   "cell_type": "code",
   "execution_count": null,
   "id": "f54f6039",
   "metadata": {},
   "outputs": [
    {
     "name": "stdout",
     "output_type": "stream",
     "text": [
      "[[0.56256501 0.12909235 0.99473707]\n",
      " [0.66640028 0.46238479 0.01854922]]\n"
     ]
    }
   ],
   "source": [
    "import numpy as np\n",
    "c=np.random.rand(2,3)\n",
    "print (c)"
   ]
  },
  {
   "cell_type": "code",
   "execution_count": null,
   "id": "35c9db63",
   "metadata": {},
   "outputs": [
    {
     "name": "stdout",
     "output_type": "stream",
     "text": [
      "[[18 14 31]\n",
      " [52 59 29]\n",
      " [99  6 17]]\n"
     ]
    }
   ],
   "source": [
    "import numpy as np\n",
    "d=np.random.randint(1,100, size=(3,3))\n",
    "print (d)   "
   ]
  },
  {
   "cell_type": "code",
   "execution_count": 73,
   "id": "090cd25d",
   "metadata": {},
   "outputs": [
    {
     "name": "stdout",
     "output_type": "stream",
     "text": [
      "[[100  93  84  83  90]\n",
      " [ 64  76  67  66  64]\n",
      " [ 89  54  65  74  70]\n",
      " [ 54  84  85  66  72]\n",
      " [ 92  89  56  67  86]\n",
      " [ 77  91  70  65  67]\n",
      " [ 94  83  73  51  73]\n",
      " [ 71  84  53  76  57]\n",
      " [ 57  62  99  76  78]\n",
      " [ 87  95  87  72  83]\n",
      " [ 86  82  56  55  74]\n",
      " [ 51  57  80  99  83]\n",
      " [ 77  72  55  80  65]\n",
      " [ 90  68  68  50  88]\n",
      " [ 53  87  87  63  63]\n",
      " [ 69  78  76  98  70]\n",
      " [ 72  81  50  85  68]\n",
      " [ 88  93  74 100  93]\n",
      " [ 95  53  80  80  72]\n",
      " [ 59  82  89  63  67]\n",
      " [ 68  78  55  64  78]\n",
      " [ 56  53  82  58  90]\n",
      " [ 91  66  92  69  89]\n",
      " [ 74  58  93  76  98]\n",
      " [ 57  70  78  59  96]\n",
      " [ 94  63  68  78  66]\n",
      " [ 55  74  93  53  74]\n",
      " [ 98  85  61  52  50]\n",
      " [ 86  66  98  53  79]\n",
      " [ 79  94  73  99  91]\n",
      " [ 68  61  92  77  68]\n",
      " [ 73  82  79  98  56]\n",
      " [ 72  60  76  78  75]\n",
      " [100  71  51  82  72]\n",
      " [ 88  67  81  69  61]\n",
      " [ 54  93  70  51  60]\n",
      " [ 94  91 100  83  61]\n",
      " [ 95  92  72  76  78]\n",
      " [ 63  55  54  96  92]\n",
      " [ 65  82  54  77  87]\n",
      " [ 71  51  68  79  93]\n",
      " [ 64  96  69 100  74]\n",
      " [ 71  69  54 100  57]\n",
      " [100  70  79  61  82]\n",
      " [ 56  52  84  70  52]\n",
      " [ 93 100  83  76  70]\n",
      " [ 67  62  76  66  93]\n",
      " [ 59  54  51  82  74]\n",
      " [ 60  57  72  64  73]\n",
      " [ 96  87  81  73  70]]\n",
      "Mean:  74.552\n",
      "Median:  74.0\n",
      "Standard Deviation:  14.093945366716873\n"
     ]
    }
   ],
   "source": [
    "import numpy as np\n",
    "\n",
    "\n",
    "scores = np.random.randint(50, 101, size=(50, 5))\n",
    "print(scores)\n",
    "\n",
    "mean = np.mean(scores)\n",
    "median_scores = np.median( scores)\n",
    "deviation = np.std(scores)\n",
    "\n",
    "print(\"Mean: \", mean)\n",
    "print(\"Median: \", median_scores)\n",
    "print(\"Standard Deviation: \", deviation)\n"
   ]
  }
 ],
 "metadata": {
  "kernelspec": {
   "display_name": "Python 3",
   "language": "python",
   "name": "python3"
  },
  "language_info": {
   "codemirror_mode": {
    "name": "ipython",
    "version": 3
   },
   "file_extension": ".py",
   "mimetype": "text/x-python",
   "name": "python",
   "nbconvert_exporter": "python",
   "pygments_lexer": "ipython3",
   "version": "3.12.10"
  }
 },
 "nbformat": 4,
 "nbformat_minor": 5
}
