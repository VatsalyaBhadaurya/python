{
 "cells": [
  {
   "cell_type": "markdown",
   "metadata": {},
   "source": [
    "https://www.w3resource.com/python-exercises/data-structures-and-algorithms/python-recursion.php"
   ]
  },
  {
   "cell_type": "markdown",
   "metadata": {},
   "source": [
    "## 1. Write a Python program to calculate the sum of a list of numbers using recursion."
   ]
  },
  {
   "cell_type": "code",
   "execution_count": 11,
   "metadata": {},
   "outputs": [
    {
     "name": "stdout",
     "output_type": "stream",
     "text": [
      "Entered number - 1\n",
      "Entered number - 2\n",
      "Entered number - 3\n"
     ]
    },
    {
     "data": {
      "text/plain": [
       "'Sum - 6'"
      ]
     },
     "execution_count": 11,
     "metadata": {},
     "output_type": "execute_result"
    }
   ],
   "source": [
    "def sum(a):\n",
    "    s=0\n",
    "    for i in range (1, a+1):\n",
    "        nu = int(input(f\"Enter number {i} -\"))\n",
    "        s=s+nu\n",
    "        print(f\"Entered number - {nu}\")\n",
    "    return (f\"Sum - {s}\")\n",
    "\n",
    "n=int(input(\"Enter number of number -\"))\n",
    "sum(n)"
   ]
  }
 ],
 "metadata": {
  "kernelspec": {
   "display_name": "Python 3",
   "language": "python",
   "name": "python3"
  },
  "language_info": {
   "codemirror_mode": {
    "name": "ipython",
    "version": 3
   },
   "file_extension": ".py",
   "mimetype": "text/x-python",
   "name": "python",
   "nbconvert_exporter": "python",
   "pygments_lexer": "ipython3",
   "version": "3.12.9"
  }
 },
 "nbformat": 4,
 "nbformat_minor": 2
}
