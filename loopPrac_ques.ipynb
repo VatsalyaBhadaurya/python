{
 "cells": [
  {
   "cell_type": "markdown",
   "metadata": {},
   "source": [
    "https://pynative.com/python-if-else-and-for-loop-exercise-with-solutions/\n",
    "\n"
   ]
  },
  {
   "cell_type": "code",
   "execution_count": 1,
   "metadata": {},
   "outputs": [
    {
     "name": "stdout",
     "output_type": "stream",
     "text": [
      "1\n",
      "2\n",
      "3\n",
      "4\n",
      "5\n",
      "6\n",
      "7\n",
      "8\n",
      "9\n",
      "10\n"
     ]
    }
   ],
   "source": [
    "# Exercise 1: Print first 10 natural numbers using while loop\n",
    "\n",
    "i =1 \n",
    "while(i<=10):\n",
    "    print(i)\n",
    "    i+=1"
   ]
  },
  {
   "cell_type": "code",
   "execution_count": 30,
   "metadata": {},
   "outputs": [
    {
     "name": "stdout",
     "output_type": "stream",
     "text": [
      "\t\n",
      "1\t\n",
      "12\t\n",
      "123\t\n",
      "1234\t\n",
      "12345"
     ]
    }
   ],
   "source": [
    "# Exercise 2: Print the following pattern\n",
    "i =1\n",
    "for i in range (1,5+1):\n",
    "    print(\"\\t\")\n",
    "    for j in range (1,i+1):\n",
    "        print(j, end = \"\")"
   ]
  },
  {
   "cell_type": "code",
   "execution_count": 34,
   "metadata": {},
   "outputs": [
    {
     "name": "stdout",
     "output_type": "stream",
     "text": [
      "Entered number - 10\n",
      "55\n"
     ]
    }
   ],
   "source": [
    "# Exercise 3: Calculate sum of all numbers from 1 to a given number\n",
    "\n",
    "n = int(input(\"Enter a number :\"))\n",
    "s =0\n",
    "for i in range (1,n+1):\n",
    "    s =s+i\n",
    "\n",
    "print(\"Entered number -\", n)\n",
    "print(s)"
   ]
  },
  {
   "cell_type": "code",
   "execution_count": 38,
   "metadata": {},
   "outputs": [
    {
     "name": "stdout",
     "output_type": "stream",
     "text": [
      "Entered number - 4\n",
      "4 x 1 = 4\n",
      "4 x 2 = 8\n",
      "4 x 3 = 12\n",
      "4 x 4 = 16\n",
      "4 x 5 = 20\n",
      "4 x 6 = 24\n",
      "4 x 7 = 28\n",
      "4 x 8 = 32\n",
      "4 x 9 = 36\n",
      "4 x 10 = 40\n"
     ]
    }
   ],
   "source": [
    "# Exercise 4: Print multiplication table of a given number\n",
    "\n",
    "n = int(input(\"Enter a number :\"))\n",
    "print(\"Entered number -\", n)\n",
    "for i in range (1, 11):\n",
    "    print(n, \"x\", i, \"=\", n*i)"
   ]
  },
  {
   "cell_type": "code",
   "execution_count": 48,
   "metadata": {},
   "outputs": [
    {
     "name": "stdout",
     "output_type": "stream",
     "text": [
      "75\n",
      "150\n",
      "145\n"
     ]
    }
   ],
   "source": [
    "# Exercise 5: numbers = [12, 75, 150, 180, 145, 525, 50]\n",
    "\n",
    "# The number must be divisible by five\n",
    "# If the number is greater than 150, then skip it and move to the following number\n",
    "# If the number is greater than 500, then stop the loop\n",
    "\n",
    "num = [12, 75, 150, 180, 145, 525, 50]\n",
    "l = len(num)\n",
    "for i in range(1, l+1):\n",
    "    if(num[i]%5==0):\n",
    "        if(num[i]<=150):\n",
    "            print(num[i])\n",
    "        if(num[i]>500):\n",
    "            break\n",
    "        "
   ]
  },
  {
   "cell_type": "code",
   "execution_count": 64,
   "metadata": {},
   "outputs": [
    {
     "name": "stdout",
     "output_type": "stream",
     "text": [
      "Number entered - 12345.0\n",
      "5\n"
     ]
    }
   ],
   "source": [
    "# Exercise 6: Count the total number of digits in a number\n",
    "\n",
    "n = float(input(\"Enter number -\"))\n",
    "print(\"Number entered -\",n)\n",
    "cnt =0\n",
    "while(n!=0):\n",
    "    n = n//10\n",
    "    cnt+=1\n",
    "\n",
    "print(cnt)\n",
    "    "
   ]
  },
  {
   "cell_type": "code",
   "execution_count": 51,
   "metadata": {},
   "outputs": [
    {
     "name": "stdout",
     "output_type": "stream",
     "text": [
      "\n",
      "54321\n",
      "4321\n",
      "321\n",
      "21\n",
      "1\n"
     ]
    }
   ],
   "source": [
    "# Exercise 7: Print the following pattern\n",
    "\n",
    "n =5\n",
    "for i in range (n+1):\n",
    "    print(\"\")\n",
    "    for j in range (n-i, 0, -1):\n",
    "        print(j, end=\"\")"
   ]
  },
  {
   "cell_type": "code",
   "execution_count": 77,
   "metadata": {},
   "outputs": [
    {
     "name": "stdout",
     "output_type": "stream",
     "text": [
      "0\n",
      "1\n",
      "3\n",
      "7\n",
      "15\n",
      "31\n"
     ]
    }
   ],
   "source": [
    "# Exercise 12: Display Fibonacci series up to 10 terms\n",
    "\n",
    "s =0\n",
    "r = 1\n",
    "sum=0\n",
    "a=int(input(\"which term\"))\n",
    "for i in range(a+1):\n",
    "    print(s)\n",
    "    sum=s+r\n",
    "    s=s+sum"
   ]
  }
 ],
 "metadata": {
  "kernelspec": {
   "display_name": ".venv",
   "language": "python",
   "name": "python3"
  },
  "language_info": {
   "codemirror_mode": {
    "name": "ipython",
    "version": 3
   },
   "file_extension": ".py",
   "mimetype": "text/x-python",
   "name": "python",
   "nbconvert_exporter": "python",
   "pygments_lexer": "ipython3",
   "version": "3.13.0"
  }
 },
 "nbformat": 4,
 "nbformat_minor": 2
}
