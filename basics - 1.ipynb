{
 "cells": [
  {
   "cell_type": "code",
   "execution_count": 6,
   "metadata": {},
   "outputs": [
    {
     "name": "stdout",
     "output_type": "stream",
     "text": [
      "5 x 1  =  5\n",
      "5 x 2  =  10\n",
      "5 x 3  =  15\n",
      "5 x 4  =  20\n",
      "5 x 5  =  25\n",
      "5 x 6  =  30\n",
      "5 x 7  =  35\n",
      "5 x 8  =  40\n",
      "5 x 9  =  45\n",
      "5 x 10  =  50\n"
     ]
    }
   ],
   "source": [
    "for i in range(1,11):\n",
    "    print(\"5 x\", i, \" = \", 5*i)"
   ]
  },
  {
   "cell_type": "code",
   "execution_count": 8,
   "metadata": {},
   "outputs": [
    {
     "name": "stdout",
     "output_type": "stream",
     "text": [
      "Sum is -  7.0\n"
     ]
    }
   ],
   "source": [
    "#add yo 2 numbers \n",
    "\n",
    "a = float(input(\"Enter num 1\"))\n",
    "b = float(input(\"Enter num 2\"))\n",
    "print(\"Sum is - \",a+b)"
   ]
  },
  {
   "cell_type": "code",
   "execution_count": 13,
   "metadata": {},
   "outputs": [
    {
     "name": "stdout",
     "output_type": "stream",
     "text": [
      "Remainder is - 6.0\n"
     ]
    }
   ],
   "source": [
    "# remiander by 7\n",
    "\n",
    "a = float(input(\"Enter a number\"))\n",
    "print(\"Remainder is -\", a%7)"
   ]
  },
  {
   "cell_type": "code",
   "execution_count": 26,
   "metadata": {},
   "outputs": [
    {
     "name": "stdout",
     "output_type": "stream",
     "text": [
      "<class 'int'>\n"
     ]
    }
   ],
   "source": [
    "# to find input type\n",
    "\n",
    "a = int(input())\n",
    "print(type(a))"
   ]
  },
  {
   "cell_type": "code",
   "execution_count": 28,
   "metadata": {},
   "outputs": [
    {
     "name": "stdout",
     "output_type": "stream",
     "text": [
      "Avg of 2 nums  2.0  &  3.0 is  2.5\n"
     ]
    }
   ],
   "source": [
    "# avg of 2 nums\n",
    "\n",
    "a = float(input(\"Enter num1 \"))\n",
    "b = float(input(\"Enter num2\"))\n",
    "\n",
    "print(\"Avg of 2 nums \",a,\" & \", b,\"is \", (a+b)/2)"
   ]
  },
  {
   "cell_type": "code",
   "execution_count": 31,
   "metadata": {},
   "outputs": [
    {
     "name": "stdout",
     "output_type": "stream",
     "text": [
      "Sqr of 3.0 is 9.0\n"
     ]
    }
   ],
   "source": [
    "# sqr of a number\n",
    "\n",
    "a = float(input(\"Enetr a number\"))\n",
    "print(\"Sqr of\", a, \"is\", a**2)"
   ]
  },
  {
   "cell_type": "code",
   "execution_count": null,
   "metadata": {},
   "outputs": [],
   "source": []
  }
 ],
 "metadata": {
  "kernelspec": {
   "display_name": ".venv",
   "language": "python",
   "name": "python3"
  },
  "language_info": {
   "codemirror_mode": {
    "name": "ipython",
    "version": 3
   },
   "file_extension": ".py",
   "mimetype": "text/x-python",
   "name": "python",
   "nbconvert_exporter": "python",
   "pygments_lexer": "ipython3",
   "version": "3.13.0"
  }
 },
 "nbformat": 4,
 "nbformat_minor": 2
}
