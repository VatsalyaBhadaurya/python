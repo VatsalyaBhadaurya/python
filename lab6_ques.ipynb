{
 "cells": [
  {
   "cell_type": "markdown",
   "metadata": {},
   "source": [
    "## Write a Python Code to create a list of 7 elements consisting of different data types and remove last 4 elements. Also, store removed elements in different variables."
   ]
  },
  {
   "cell_type": "code",
   "execution_count": 37,
   "metadata": {},
   "outputs": [
    {
     "name": "stdout",
     "output_type": "stream",
     "text": [
      "Updated string - [1, 2.5, 'hello']\n",
      "Removed elements - trytry, 6, 4, True\n"
     ]
    }
   ],
   "source": [
    "a = [1, 2.5, \"hello\", True, 4, 6, \"trytry\"]\n",
    "\n",
    "frst = a.pop()\n",
    "scnd = a.pop()\n",
    "thrd = a.pop()\n",
    "frth = a.pop()\n",
    "\n",
    "print(f\"Updated string - {a}\")\n",
    "print(f\"Removed elements - {frst}, {scnd}, {thrd}, {frth}\")\n"
   ]
  },
  {
   "cell_type": "markdown",
   "metadata": {},
   "source": [
    "## Write a Python code to create two different lists consisting of 6 elements each. After that insert the elements of first list into the second list."
   ]
  },
  {
   "cell_type": "code",
   "execution_count": 79,
   "metadata": {},
   "outputs": [
    {
     "name": "stdout",
     "output_type": "stream",
     "text": [
      "['1', '2', 'hello', 'True', '6', '7']\n",
      "['3', '5', '8', 'e', 'hbgf', '6']\n",
      "['1', '2', 'hello', 'True', '6', '7', '3', '5', '8', 'e', 'hbgf', '6']\n"
     ]
    }
   ],
   "source": [
    "c=[]\n",
    "for i in range(1, 7):\n",
    "    a=(input(f\"1st list Enter element {i} - \"))\n",
    "    c.append(a)\n",
    "print(c)\n",
    "\n",
    "b=[]\n",
    "for i in range(1, 7):\n",
    "    cd=(input(f\"2nd list Enter element {i} - \"))\n",
    "    b.append(cd)\n",
    "print(b)\n",
    "\n",
    "c.extend(b)\n",
    "print(c)"
   ]
  }
 ],
 "metadata": {
  "kernelspec": {
   "display_name": "Python 3",
   "language": "python",
   "name": "python3"
  },
  "language_info": {
   "codemirror_mode": {
    "name": "ipython",
    "version": 3
   },
   "file_extension": ".py",
   "mimetype": "text/x-python",
   "name": "python",
   "nbconvert_exporter": "python",
   "pygments_lexer": "ipython3",
   "version": "3.12.9"
  }
 },
 "nbformat": 4,
 "nbformat_minor": 2
}
