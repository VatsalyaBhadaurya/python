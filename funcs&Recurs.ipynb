{
 "cells": [
  {
   "cell_type": "markdown",
   "metadata": {},
   "source": [
    "FUNCTIONS"
   ]
  },
  {
   "cell_type": "code",
   "execution_count": 20,
   "metadata": {},
   "outputs": [
    {
     "name": "stdout",
     "output_type": "stream",
     "text": [
      "try function\n"
     ]
    }
   ],
   "source": [
    "def func():\n",
    "    print(\"try function\")\n",
    "    \n",
    "func()"
   ]
  },
  {
   "cell_type": "code",
   "execution_count": 49,
   "metadata": {},
   "outputs": [
    {
     "name": "stdout",
     "output_type": "stream",
     "text": [
      "Good morning, vatty\n"
     ]
    }
   ],
   "source": [
    "# to greet user with name\n",
    "\n",
    "def greet():\n",
    "    name = input(\"Enter your name :\")\n",
    "    print(\"Good morning,\", name)\n",
    "\n",
    "greet()"
   ]
  },
  {
   "cell_type": "code",
   "execution_count": 52,
   "metadata": {},
   "outputs": [
    {
     "name": "stdout",
     "output_type": "stream",
     "text": [
      "9 24\n"
     ]
    }
   ],
   "source": [
    "# ex 12.1\n",
    "\n",
    "def cal_sum_prod(x, y, z):\n",
    "    s = x+y+z\n",
    "    p = x*y*z \n",
    "    return s, p\n",
    "\n",
    "a = int(input(\"Enter num 1 \"))\n",
    "b = int(input(\"Enter num 2 \"))\n",
    "c = int(input(\"Enter num 3 \"))\n",
    "ss, pp = cal_sum_prod(a, b, c)\n",
    "print(ss, pp)"
   ]
  },
  {
   "cell_type": "code",
   "execution_count": null,
   "metadata": {},
   "outputs": [],
   "source": []
  }
 ],
 "metadata": {
  "kernelspec": {
   "display_name": ".venv",
   "language": "python",
   "name": "python3"
  },
  "language_info": {
   "codemirror_mode": {
    "name": "ipython",
    "version": 3
   },
   "file_extension": ".py",
   "mimetype": "text/x-python",
   "name": "python",
   "nbconvert_exporter": "python",
   "pygments_lexer": "ipython3",
   "version": "3.13.0"
  }
 },
 "nbformat": 4,
 "nbformat_minor": 2
}
