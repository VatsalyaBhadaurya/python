{
 "cells": [
  {
   "cell_type": "markdown",
   "metadata": {},
   "source": [
    "## Case Study 1: Smart Traffic Light System\n",
    "A city wants to develop an AI-powered smart traffic light that adjusts signal timing based on vehicle density. The system follows these rules:\n",
    "\n",
    "The road is divided into 4 lanes (North, South, East, West).\n",
    "Each lane has a sensor that counts the number of vehicles every 10 seconds.\n",
    "Traffic signal duration is adjusted dynamically based on vehicle count:\n",
    "High traffic (>50 vehicles) → Green light for 40 seconds\n",
    "Moderate traffic (20-50 vehicles) → Green light for 30 seconds\n",
    "Low traffic (<20 vehicles) → Green light for 15 seconds\n",
    "\n",
    "If an ambulance is detected, the system immediately switches to a green light for that lane.\n",
    "The cycle repeats every minute.\n",
    "    \n",
    "Task:\n",
    "Write a Python program that simulates this smart traffic light system. It should take vehicle counts for 4 lanes and simulate traffic light control using loops and conditionals."
   ]
  },
  {
   "cell_type": "code",
   "execution_count": 7,
   "metadata": {},
   "outputs": [
    {
     "name": "stdout",
     "output_type": "stream",
     "text": [
      "Free North lane emergency\n",
      "Free South lane emergency\n",
      "Free East lane emergency\n",
      "Free West lane emergency\n",
      "North lane 40 seconds Green\n",
      "Free South lane emergency\n",
      "East lane 30 seconds Green\n",
      "Free West lane emergency\n"
     ]
    }
   ],
   "source": [
    "num=int(input(\"Enter number of traffic lights -\"))\n",
    "\n",
    "for i in range(1,num+1):\n",
    "\n",
    "    for n in range(1):\n",
    "        na=input(\"Ambulane in North lane - (y/n)\")\n",
    "        if na==\"y\":\n",
    "            print(\"Free North lane emergency\")\n",
    "        else:\n",
    "            nv = int(input(\"Enter vehicles in north lane -\"))\n",
    "            if nv>=50:\n",
    "                print(\"North lane 40 seconds Green\")\n",
    "            elif nv>=20 and nv<50:\n",
    "                print(\"North lane 30 seconds Green\")\n",
    "            else:\n",
    "                print(\"North lane 15 seconds Green\")\n",
    "\n",
    "\n",
    "\n",
    "    for s in range(1):\n",
    "        sa=input(\"Ambulane in South lane - (y/n)\")\n",
    "        if sa==\"y\":\n",
    "            print(\"Free South lane emergency\")\n",
    "        else:\n",
    "            sv = int(input(\"Enter vehicles in south lane - \"))\n",
    "            if sv>=50:\n",
    "                print(\"South lane 40 seconds Green\")\n",
    "            elif sv>=20 and sv<50:\n",
    "                print(\"South lane 30 seconds Green\")\n",
    "            else:\n",
    "                print(\"South lane 15 seconds Green\")\n",
    "\n",
    "\n",
    "\n",
    "    for e in range(1):\n",
    "        ea=input(\"Ambulane in East lane - (y/n)\")\n",
    "        if ea==\"y\":\n",
    "            print(\"Free East lane emergency\")\n",
    "        else:\n",
    "            ev = int(input(\"Enter vehicles in east lane - \"))\n",
    "            if ev>=50:\n",
    "                print(\"East lane 40 seconds Green\")\n",
    "            elif ev>=20 and ev<50:\n",
    "                print(\"East lane 30 seconds Green\")\n",
    "            else:\n",
    "                print(\"East lane 15 seconds Green\")\n",
    "\n",
    "\n",
    "\n",
    "    for w in range(1):\n",
    "        wa=input(\"Ambulane in West lane - (y/n)\")\n",
    "        if wa==\"y\":\n",
    "            print(\"Free West lane emergency\")\n",
    "        else:\n",
    "            wv = int(input(\"Enter vehicles in west lane - \"))\n",
    "            if wv>=50:\n",
    "                print(\"West lane 40 seconds Green\")\n",
    "            elif wv>=20 and wv<50:\n",
    "                print(\"West lane 30 seconds Green\")\n",
    "            else:\n",
    "                print(\"West lane 15 seconds Green\")\n",
    "\n",
    "\n"
   ]
  },
  {
   "cell_type": "markdown",
   "metadata": {},
   "source": [
    "## Case Study 2: AI-Powered Food Delivery System\n",
    "A food delivery service wants to optimize delivery times based on:\n",
    "\n",
    "Order Size: If more than 5 items, extra 10 minutes added to the estimated delivery time.\n",
    "\n",
    "Delivery Distance:\n",
    "< 3 km → 20 minutes\n",
    "3-7 km → 30 minutes\n",
    "> 7 km → 45 minutes\n",
    "\n",
    "Weather Conditions:\n",
    "Rainy or Stormy → Add 15 minutes\n",
    "Clear Weather → No extra time\n",
    "\n",
    "Priority Customers:\n",
    "VIP customers always get 10 minutes faster delivery.\n",
    "\n",
    "Task:\n",
    "Write a Python program that takes order size, distance, weather conditions, and customer type as input and calculates the estimated delivery time."
   ]
  },
  {
   "cell_type": "code",
   "execution_count": 19,
   "metadata": {},
   "outputs": [
    {
     "name": "stdout",
     "output_type": "stream",
     "text": [
      "Delivery time for customer 1 is 40\n",
      "Delivery time for customer 2 is 30\n"
     ]
    }
   ],
   "source": [
    "n=int(input(\"Enter number of custumers - \"))\n",
    "\n",
    "for i in range(1,n+1):\n",
    "\n",
    "    os = int(input(f\"Enter order size for {i}- \"))\n",
    "    dis = float(input(f\"Enter dist for customer {i}-\"))\n",
    "    wtr = input(f\"Enter weather condition for customer {i}- \")\n",
    "    cstrTp = input(f\"Enter customer type for {i}- \")\n",
    "    time = 0\n",
    "\n",
    "    if os>3:\n",
    "        time=time+10\n",
    "    if os<3:\n",
    "        time=time+20\n",
    "    elif os>=3 and os<7:\n",
    "        time = time +30\n",
    "    elif os>=7:\n",
    "        time = time+45\n",
    "    elif wtr==\"rainy\":\n",
    "        time=time+15\n",
    "    elif cstrTp==\"vip\":\n",
    "        time=time-10        \n",
    "\n",
    "    print (f\"Delivery time for customer {i} is\",time)"
   ]
  },
  {
   "cell_type": "markdown",
   "metadata": {},
   "source": [
    "## Case Study 3: AI Chatbot for E-commerce Support\n",
    "A company wants to build an AI chatbot for customer support. The chatbot should:\n",
    "\n",
    "Ask the user why they are contacting support:\n",
    "Order Status\n",
    "Refund Request\n",
    "Product Inquiry\n",
    "Complaint\n",
    "\n",
    "Task:\n",
    "Write a Python program that acts as an interactive chatbot, using loops and conditionals to handle multiple user queries dynamically."
   ]
  },
  {
   "cell_type": "code",
   "execution_count": 33,
   "metadata": {},
   "outputs": [
    {
     "name": "stdout",
     "output_type": "stream",
     "text": [
      "Your order 23893i434, will be overlooked, stay calm !\n"
     ]
    }
   ],
   "source": [
    "supp=input(\"Hello how can i help you ?\")\n",
    "\n",
    "for order in range(1):\n",
    "    if supp.find(\"status\")==0:\n",
    "        id=input(\"Let me check that for you. Please provide your Order ID.\")\n",
    "        print(f\"Your order {id}is currently out for delivery and will arrive in approximately 15 minutes.\")\n",
    "\n",
    "    elif supp.find(\"refund\")==0:\n",
    "        id=input(\"I'm sorry for the inconvenience. Please provide your Order ID.\")\n",
    "        print(f\"Your order {id} will get refund in 2 bussiness days\")\n",
    "    \n",
    "    elif supp.find(\"product\"or \"enquiry\")==0:\n",
    "        id=input(\"Let me check that for you. Please provide your Order ID.\")\n",
    "        print(f\"Your order {id} have 5 month warranty and is 5 star rated online \")\n",
    "    \n",
    "    elif supp.find(\"complaint\")==0:\n",
    "        id=input(\"I understand your frustration. Please provide your Order ID.\")\n",
    "        print(f\"Your order {id}, will be overlooked, stay calm !\")\n",
    "\n",
    "\n",
    "\n"
   ]
  }
 ],
 "metadata": {
  "kernelspec": {
   "display_name": "Python 3",
   "language": "python",
   "name": "python3"
  },
  "language_info": {
   "codemirror_mode": {
    "name": "ipython",
    "version": 3
   },
   "file_extension": ".py",
   "mimetype": "text/x-python",
   "name": "python",
   "nbconvert_exporter": "python",
   "pygments_lexer": "ipython3",
   "version": "3.12.9"
  }
 },
 "nbformat": 4,
 "nbformat_minor": 2
}
