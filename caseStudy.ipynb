{
 "cells": [
  {
   "cell_type": "markdown",
   "metadata": {},
   "source": [
    "## Case Study 1: Smart Traffic Light System\n",
    "A city wants to develop an AI-powered smart traffic light that adjusts signal timing based on vehicle density. The system follows these rules:\n",
    "\n",
    "The road is divided into 4 lanes (North, South, East, West).\n",
    "Each lane has a sensor that counts the number of vehicles every 10 seconds.\n",
    "Traffic signal duration is adjusted dynamically based on vehicle count:\n",
    "High traffic (>50 vehicles) → Green light for 40 seconds\n",
    "Moderate traffic (20-50 vehicles) → Green light for 30 seconds\n",
    "Low traffic (<20 vehicles) → Green light for 15 seconds\n",
    "\n",
    "If an ambulance is detected, the system immediately switches to a green light for that lane.\n",
    "The cycle repeats every minute.\n",
    "    \n",
    "Task:\n",
    "Write a Python program that simulates this smart traffic light system. It should take vehicle counts for 4 lanes and simulate traffic light control using loops and conditionals."
   ]
  },
  {
   "cell_type": "code",
   "execution_count": null,
   "metadata": {},
   "outputs": [
    {
     "name": "stdout",
     "output_type": "stream",
     "text": [
      "Free North lane emergency\n",
      "Free South lane emergency\n",
      "Free East lane emergency\n",
      "West lane 40 seconds Green\n"
     ]
    },
    {
     "ename": "ValueError",
     "evalue": "invalid literal for int() with base 10: 'y'",
     "output_type": "error",
     "traceback": [
      "\u001b[1;31m---------------------------------------------------------------------------\u001b[0m",
      "\u001b[1;31mValueError\u001b[0m                                Traceback (most recent call last)",
      "Cell \u001b[1;32mIn[1], line 10\u001b[0m\n\u001b[0;32m      8\u001b[0m     \u001b[38;5;28mprint\u001b[39m(\u001b[38;5;124m\"\u001b[39m\u001b[38;5;124mFree North lane emergency\u001b[39m\u001b[38;5;124m\"\u001b[39m)\n\u001b[0;32m      9\u001b[0m \u001b[38;5;28;01melse\u001b[39;00m:\n\u001b[1;32m---> 10\u001b[0m     nv \u001b[38;5;241m=\u001b[39m \u001b[38;5;28;43mint\u001b[39;49m\u001b[43m(\u001b[49m\u001b[38;5;28;43minput\u001b[39;49m\u001b[43m(\u001b[49m\u001b[38;5;124;43m\"\u001b[39;49m\u001b[38;5;124;43mEnter vehicles in north lane -\u001b[39;49m\u001b[38;5;124;43m\"\u001b[39;49m\u001b[43m)\u001b[49m\u001b[43m)\u001b[49m\n\u001b[0;32m     11\u001b[0m     \u001b[38;5;28;01mif\u001b[39;00m nv\u001b[38;5;241m>\u001b[39m\u001b[38;5;241m=\u001b[39m\u001b[38;5;241m50\u001b[39m:\n\u001b[0;32m     12\u001b[0m         \u001b[38;5;28mprint\u001b[39m(\u001b[38;5;124m\"\u001b[39m\u001b[38;5;124mNorth lane 40 seconds Green\u001b[39m\u001b[38;5;124m\"\u001b[39m)\n",
      "\u001b[1;31mValueError\u001b[0m: invalid literal for int() with base 10: 'y'"
     ]
    }
   ],
   "source": [
    "num=int(input(\"Enter number of traffic lights -\"))\n",
    "\n",
    "for i in range(1,num+1):\n",
    "\n",
    "    for n in range(1):\n",
    "        na=input(\"Ambulane in North lane - (y/n)\")\n",
    "        if na==\"y\":\n",
    "            print(\"Free North lane emergency\")\n",
    "        else:\n",
    "            nv = int(input(\"Enter vehicles in north lane -\"))\n",
    "            if nv>=50:\n",
    "                print(\"North lane 40 seconds Green\")\n",
    "            elif nv>=20 and nv<50:\n",
    "                print(\"North lane 30 seconds Green\")\n",
    "            else:\n",
    "                print(\"North lane 15 seconds Green\")\n",
    "\n",
    "\n",
    "\n",
    "    for s in range(1):\n",
    "        sa=input(\"Ambulane in South lane - (y/n)\")\n",
    "        if sa==\"y\":\n",
    "            print(\"Free South lane emergency\")\n",
    "        else:\n",
    "            sv = int(input(\"Enter vehicles in south lane - \"))\n",
    "            if sv>=50:\n",
    "                print(\"South lane 40 seconds Green\")\n",
    "            elif sv>=20 and sv<50:\n",
    "                print(\"South lane 30 seconds Green\")\n",
    "            else:\n",
    "                print(\"South lane 15 seconds Green\")\n",
    "\n",
    "\n",
    "\n",
    "    for e in range(1):\n",
    "        ea=input(\"Ambulane in East lane - (y/n)\")\n",
    "        if ea==\"y\":\n",
    "            print(\"Free East lane emergency\")\n",
    "        else:\n",
    "            ev = int(input(\"Enter vehicles in east lane - \"))\n",
    "            if ev>=50:\n",
    "                print(\"East lane 40 seconds Green\")\n",
    "            elif ev>=20 and ev<50:\n",
    "                print(\"East lane 30 seconds Green\")\n",
    "            else:\n",
    "                print(\"East lane 15 seconds Green\")\n",
    "\n",
    "\n",
    "\n",
    "    for w in range(1):\n",
    "        wa=input(\"Ambulane in West lane - (y/n)\")\n",
    "        if wa==\"y\":\n",
    "            print(\"Free West lane emergency\")\n",
    "        else:\n",
    "            wv = int(input(\"Enter vehicles in west lane - \"))\n",
    "            if wv>=50:\n",
    "                print(\"West lane 40 seconds Green\")\n",
    "            elif wv>=20 and wv<50:\n",
    "                print(\"West lane 30 seconds Green\")\n",
    "            else:\n",
    "                print(\"West lane 15 seconds Green\")\n",
    "\n",
    "\n"
   ]
  },
  {
   "cell_type": "code",
   "execution_count": 37,
   "metadata": {},
   "outputs": [
    {
     "name": "stdout",
     "output_type": "stream",
     "text": [
      "\n",
      "=== Traffic Light 1 ===\n",
      "🚑 Free North lane for emergency!\n",
      "🚑 Free South lane for emergency!\n",
      "🚑 Free East lane for emergency!\n",
      "🚦 West lane: 40 seconds Green\n",
      "\n",
      "=== Traffic Light 2 ===\n",
      "🚑 Free North lane for emergency!\n",
      "🚑 Free South lane for emergency!\n",
      "🚑 Free East lane for emergency!\n",
      "🚦 West lane: 30 seconds Green\n"
     ]
    }
   ],
   "source": [
    "def handle_lane(lane_name):\n",
    "    ambulance = input(f\"Ambulance in {lane_name} lane? (y/n): \").strip().lower()\n",
    "    if ambulance == \"y\":\n",
    "        print(f\"🚑 Free {lane_name} lane for emergency!\")\n",
    "    else:\n",
    "        vehicles = int(input(f\"Enter number of vehicles in {lane_name} lane: \"))\n",
    "        if vehicles >= 50:\n",
    "            print(f\"🚦 {lane_name} lane: 40 seconds Green\")\n",
    "        elif 20 <= vehicles < 50:\n",
    "            print(f\"🚦 {lane_name} lane: 30 seconds Green\")\n",
    "        else:\n",
    "            print(f\"🚦 {lane_name} lane: 15 seconds Green\")\n",
    "\n",
    "# Get the number of traffic lights\n",
    "num = int(input(\"Enter number of traffic lights: \"))\n",
    "\n",
    "# Process each traffic light\n",
    "for i in range(1, num + 1):\n",
    "    print(f\"\\n=== Traffic Light {i} ===\")\n",
    "    handle_lane(\"North\")\n",
    "    handle_lane(\"South\")\n",
    "    handle_lane(\"East\")\n",
    "    handle_lane(\"West\")\n"
   ]
  },
  {
   "cell_type": "markdown",
   "metadata": {},
   "source": [
    "## Case Study 2: AI-Powered Food Delivery System\n",
    "A food delivery service wants to optimize delivery times based on:\n",
    "\n",
    "Order Size: If more than 5 items, extra 10 minutes added to the estimated delivery time.\n",
    "\n",
    "Delivery Distance:\n",
    "< 3 km → 20 minutes\n",
    "3-7 km → 30 minutes\n",
    "> 7 km → 45 minutes\n",
    "\n",
    "Weather Conditions:\n",
    "Rainy or Stormy → Add 15 minutes\n",
    "Clear Weather → No extra time\n",
    "\n",
    "Priority Customers:\n",
    "VIP customers always get 10 minutes faster delivery.\n",
    "\n",
    "Task:\n",
    "Write a Python program that takes order size, distance, weather conditions, and customer type as input and calculates the estimated delivery time."
   ]
  },
  {
   "cell_type": "code",
   "execution_count": 19,
   "metadata": {},
   "outputs": [
    {
     "name": "stdout",
     "output_type": "stream",
     "text": [
      "Delivery time for customer 1 is 40\n",
      "Delivery time for customer 2 is 30\n"
     ]
    }
   ],
   "source": [
    "n=int(input(\"Enter number of custumers - \"))\n",
    "\n",
    "for i in range(1,n+1):\n",
    "\n",
    "    os = int(input(f\"Enter order size for {i}- \"))\n",
    "    dis = float(input(f\"Enter dist for customer {i}-\"))\n",
    "    wtr = input(f\"Enter weather condition for customer {i}- \")\n",
    "    cstrTp = input(f\"Enter customer type for {i}- \")\n",
    "    time = 0\n",
    "\n",
    "    if os>3:\n",
    "        time=time+10\n",
    "    if os<3:\n",
    "        time=time+20\n",
    "    elif os>=3 and os<7:\n",
    "        time = time +30\n",
    "    elif os>=7:\n",
    "        time = time+45\n",
    "    elif wtr==\"rainy\":\n",
    "        time=time+15\n",
    "    elif cstrTp==\"vip\":\n",
    "        time=time-10        \n",
    "\n",
    "    print (f\"Delivery time for customer {i} is\",time)"
   ]
  },
  {
   "cell_type": "code",
   "execution_count": 38,
   "metadata": {},
   "outputs": [
    {
     "name": "stdout",
     "output_type": "stream",
     "text": [
      "🚚 Estimated Delivery Time for Customer 1: 42 minutes\n",
      "\n",
      "🚚 Estimated Delivery Time for Customer 2: 22 minutes\n",
      "\n"
     ]
    }
   ],
   "source": [
    "n = int(input(\"Enter number of customers: \"))\n",
    "\n",
    "for i in range(1, n + 1):\n",
    "    os = int(input(f\"Enter order size for customer {i}: \"))\n",
    "    dis = float(input(f\"Enter distance for customer {i} (in km): \"))\n",
    "    wtr = input(f\"Enter weather condition for customer {i} (normal/rainy): \").strip().lower()\n",
    "    cstrTp = input(f\"Enter customer type for customer {i} (normal/vip): \").strip().lower()\n",
    "    \n",
    "    time = 0\n",
    "\n",
    "    # Order size-based time\n",
    "    if os < 3:\n",
    "        time += 20\n",
    "    elif 3 <= os < 7:\n",
    "        time += 30\n",
    "    else:\n",
    "        time += 45\n",
    "\n",
    "    # Distance-based time (Assuming 1 min per km)\n",
    "    time += int(dis * 1)  # You can tweak this factor\n",
    "\n",
    "    # Weather condition adjustment\n",
    "    if wtr == \"rainy\":\n",
    "        time += 15\n",
    "\n",
    "    # VIP customers get priority\n",
    "    if cstrTp == \"vip\":\n",
    "        time -= 10  # VIP orders are faster\n",
    "\n",
    "    # Ensure minimum delivery time is not negative\n",
    "    time = max(time, 0)\n",
    "\n",
    "    print(f\"🚚 Estimated Delivery Time for Customer {i}: {time} minutes\\n\")\n"
   ]
  },
  {
   "cell_type": "markdown",
   "metadata": {},
   "source": [
    "## Case Study 3: AI Chatbot for E-commerce Support\n",
    "A company wants to build an AI chatbot for customer support. The chatbot should:\n",
    "\n",
    "Ask the user why they are contacting support:\n",
    "Order Status\n",
    "Refund Request\n",
    "Product Inquiry\n",
    "Complaint\n",
    "\n",
    "Task:\n",
    "Write a Python program that acts as an interactive chatbot, using loops and conditionals to handle multiple user queries dynamically."
   ]
  },
  {
   "cell_type": "code",
   "execution_count": 36,
   "metadata": {},
   "outputs": [
    {
     "name": "stdout",
     "output_type": "stream",
     "text": [
      "status for my item\n",
      "Your order AM12345is currently out for delivery and will arrive in approximately 15 minutes.\n"
     ]
    }
   ],
   "source": [
    "supp=input(\"Hello how can i help you ?\")\n",
    "print(supp)\n",
    "\n",
    "for order in range(1):\n",
    "    if supp.find(\"status\")==0:\n",
    "        id=input(\"Let me check that for you. Please provide your Order ID.\")\n",
    "        print(f\"Your order {id}is currently out for delivery and will arrive in approximately 15 minutes.\")\n",
    "\n",
    "    elif supp.find(\"refund\")==0:\n",
    "        id=input(\"I'm sorry for the inconvenience. Please provide your Order ID.\")\n",
    "        print(f\"Your order {id} will get refund in 2 bussiness days\")\n",
    "    \n",
    "    elif supp.find(\"product\"or \"enquiry\")==0:\n",
    "        id=input(\"Let me check that for you. Please provide your Order ID.\")\n",
    "        print(f\"Your order {id} have 5 month warranty and is 5 star rated online \")\n",
    "    \n",
    "    elif supp.find(\"complaint\")==0:\n",
    "        id=input(\"I understand your frustration. Please provide your Order ID.\")\n",
    "        print(f\"Your order {id}, will be overlooked, stay calm !\")"
   ]
  },
  {
   "cell_type": "code",
   "execution_count": 39,
   "metadata": {},
   "outputs": [
    {
     "name": "stdout",
     "output_type": "stream",
     "text": [
      "Your order AMI1234 will be reviewed. We appreciate your patience!\n"
     ]
    }
   ],
   "source": [
    "supp = input(\"Hello! How can I help you? \").lower()  # Convert input to lowercase for better matching\n",
    "\n",
    "if \"status\" in supp:\n",
    "    order_id = input(\"Let me check that for you. Please provide your Order ID: \")\n",
    "    print(f\"Your order {order_id} is currently out for delivery and will arrive in approximately 15 minutes.\")\n",
    "\n",
    "elif \"refund\" in supp:\n",
    "    order_id = input(\"I'm sorry for the inconvenience. Please provide your Order ID: \")\n",
    "    print(f\"Your order {order_id} will be refunded within 2 business days.\")\n",
    "\n",
    "elif \"product\" in supp or \"enquiry\" in supp:\n",
    "    order_id = input(\"Let me check that for you. Please provide your Order ID: \")\n",
    "    print(f\"Your order {order_id} has a 5-month warranty and is rated 5 stars online.\")\n",
    "\n",
    "elif \"complaint\" in supp:\n",
    "    order_id = input(\"I understand your frustration. Please provide your Order ID: \")\n",
    "    print(f\"Your order {order_id} will be reviewed. We appreciate your patience!\")\n",
    "\n",
    "else:\n",
    "    print(\"I'm sorry, I didn't understand that. Can you please rephrase or provide more details?\")\n"
   ]
  }
 ],
 "metadata": {
  "kernelspec": {
   "display_name": "Python 3",
   "language": "python",
   "name": "python3"
  },
  "language_info": {
   "codemirror_mode": {
    "name": "ipython",
    "version": 3
   },
   "file_extension": ".py",
   "mimetype": "text/x-python",
   "name": "python",
   "nbconvert_exporter": "python",
   "pygments_lexer": "ipython3",
   "version": "3.12.9"
  }
 },
 "nbformat": 4,
 "nbformat_minor": 2
}
