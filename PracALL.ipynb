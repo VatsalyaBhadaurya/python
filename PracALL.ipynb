{
 "cells": [
  {
   "cell_type": "markdown",
   "metadata": {},
   "source": [
    "## Strings\n",
    "## 1 How do you find the length of a string in Python?\n",
    "## 2 What is string slicing? Provide an example.\n",
    "## 3 What will be the output of \"Python\"[::-1]?\n",
    "## 4 How do you check if a substring exists within a string?\n",
    "## 5 Differentiate between .find() and .index() methods in strings"
   ]
  },
  {
   "cell_type": "code",
   "execution_count": null,
   "metadata": {},
   "outputs": [
    {
     "name": "stdout",
     "output_type": "stream",
     "text": [
      "18\n"
     ]
    }
   ],
   "source": [
    "#1\n",
    "\n",
    "str = \"hello good morning\"\n",
    "\n",
    "print(len(str))"
   ]
  },
  {
   "cell_type": "code",
   "execution_count": null,
   "metadata": {},
   "outputs": [
    {
     "name": "stdout",
     "output_type": "stream",
     "text": [
      "Maut\n"
     ]
    }
   ],
   "source": [
    "#2\n",
    "\n",
    "a = \"seedheMaut\"\n",
    "\n",
    "print(a[6:])"
   ]
  },
  {
   "cell_type": "code",
   "execution_count": 7,
   "metadata": {},
   "outputs": [
    {
     "name": "stdout",
     "output_type": "stream",
     "text": [
      "nohtyp\n"
     ]
    }
   ],
   "source": [
    "#3\n",
    "\n",
    "a = \"python\"\n",
    "\n",
    "print(a[::-1])"
   ]
  },
  {
   "cell_type": "code",
   "execution_count": 12,
   "metadata": {},
   "outputs": [
    {
     "name": "stdout",
     "output_type": "stream",
     "text": [
      "chowk is a substring of chandani chowk\n"
     ]
    }
   ],
   "source": [
    "# 4\n",
    "\n",
    "a = \"Chandani CHowk\".lower()\n",
    "\n",
    "b = \"chowk\"\n",
    "\n",
    "if b in a:\n",
    "    print (f\"{b} is a substring of {a}\")"
   ]
  },
  {
   "cell_type": "code",
   "execution_count": 19,
   "metadata": {},
   "outputs": [
    {
     "name": "stdout",
     "output_type": "stream",
     "text": [
      "7\n",
      "4\n"
     ]
    }
   ],
   "source": [
    "#5\n",
    "\n",
    "a = \"hello huihiuhui\"\n",
    "\n",
    "\n",
    "print(a.find(\"ui\"))\n",
    "print(a.index(\"o\"))\n"
   ]
  },
  {
   "cell_type": "markdown",
   "metadata": {},
   "source": [
    "## Input & Output\n",
    "## 1 Write a program that takes the user's name and age as input and prints: \"Hello [name], you are [age] years old!\"\n",
    "## 2 Take two integer inputs from the user, add them, and display the sum.\n",
    "## 3 Ask the user to enter three numbers and print the largest one.\n",
    "## 4 Write a program that asks the user for a sentence and counts the number of words in it."
   ]
  },
  {
   "cell_type": "code",
   "execution_count": 21,
   "metadata": {},
   "outputs": [
    {
     "name": "stdout",
     "output_type": "stream",
     "text": [
      "Hello ye, you are 78.0 years old!\n"
     ]
    }
   ],
   "source": [
    "#1 \n",
    "\n",
    "name = input(\"Enter your name - \")\n",
    "age = float(input(\"Enter yoour age - \"))\n",
    "\n",
    "print(f\"Hello {name}, you are {age} years old!\")"
   ]
  },
  {
   "cell_type": "code",
   "execution_count": 22,
   "metadata": {},
   "outputs": [
    {
     "name": "stdout",
     "output_type": "stream",
     "text": [
      "Sum of 34.43 and 23.0 is 57.43\n"
     ]
    }
   ],
   "source": [
    "#2\n",
    "\n",
    "a = float(input(\"Enter number 1 - \"))\n",
    "b = float(input(\"Enter number 2 -\"))\n",
    "\n",
    "print(f\"Sum of {a} and {b} is {a+b}\")"
   ]
  },
  {
   "cell_type": "code",
   "execution_count": null,
   "metadata": {},
   "outputs": [
    {
     "name": "stdout",
     "output_type": "stream",
     "text": [
      "Num1 - 344.0\n",
      "Num2 - 343.3\n",
      "Num3 - 22.0\n",
      "\n",
      "344.0 is largest\n"
     ]
    }
   ],
   "source": [
    "#3\n",
    "\n",
    "a = float(input(\"Enter number 1 -\"))\n",
    "b = float(input(\"Enter number 2 -\"))\n",
    "c = float(input(\"Enter number 3 -\"))\n",
    "\n",
    "print(f\"Num1 - {a}\\nNum2 - {b}\\nNum3 - {c}\\n\")\n",
    "\n",
    "if a>b and a>c:\n",
    "    print(f\"{a} is largest\")\n",
    "elif b>a and b>c:\n",
    "    print(f\"{b} is largest\")\n",
    "elif c>a and c>b:\n",
    "    print(f\"{c} is largest\")\n",
    "else:\n",
    "    print(\"All are equal!\")"
   ]
  },
  {
   "cell_type": "code",
   "execution_count": 40,
   "metadata": {},
   "outputs": [
    {
     "name": "stdout",
     "output_type": "stream",
     "text": [
      "Words - 4\n"
     ]
    }
   ],
   "source": [
    "#4\n",
    "\n",
    "a = \"hello pineapple good morning\"\n",
    "\n",
    "print(f\"Words - {len(a.split())}\")"
   ]
  },
  {
   "cell_type": "markdown",
   "metadata": {},
   "source": [
    "## Conditionals (if-else)\n",
    "# 1 Write a program to check if a number is even or odd.\n",
    "# 2 Take a user's age as input and determine if they are eligible to vote (18+).\n",
    "# 3 Ask the user for three numbers and print the largest one.\n",
    "# 4 Write a program that checks if a year is a leap year.\n",
    "# 5 Take a character input and check whether it is a vowel or consonant."
   ]
  },
  {
   "cell_type": "code",
   "execution_count": 5,
   "metadata": {},
   "outputs": [
    {
     "name": "stdout",
     "output_type": "stream",
     "text": [
      "45 is odd\n"
     ]
    }
   ],
   "source": [
    "#1\n",
    "\n",
    "num = int(input(\"Enter a number - \"))\n",
    "\n",
    "if num%2==0:\n",
    "    print(f\"{num} is even\")\n",
    "else:\n",
    "    print(f\"{num} is odd\")\n"
   ]
  },
  {
   "cell_type": "code",
   "execution_count": 10,
   "metadata": {},
   "outputs": [
    {
     "name": "stdout",
     "output_type": "stream",
     "text": [
      "Sorry, you are not eligible for voting right now!\n",
      "Wait for 1.0 years\n"
     ]
    }
   ],
   "source": [
    "#2\n",
    "\n",
    "age = float(input(\"Enter your age - \"))\n",
    "\n",
    "if age>=18:\n",
    "    print(\"You are eligible to vote\")\n",
    "else:\n",
    "    print(f\"Sorry, you are not eligible for voting right now!\\nWait for {18-age} years\")"
   ]
  },
  {
   "cell_type": "code",
   "execution_count": 13,
   "metadata": {},
   "outputs": [
    {
     "name": "stdout",
     "output_type": "stream",
     "text": [
      "Num1 - 4.0\n",
      "Num2 - 5.0\n",
      "Num3 - 6.0\n",
      "\n",
      "6.0 is largest\n"
     ]
    }
   ],
   "source": [
    "#3\n",
    "\n",
    "a = float(input(\"Enter number 1 -\"))\n",
    "b = float(input(\"Enter number 2 -\"))\n",
    "c = float(input(\"Enter number 3 -\"))\n",
    "\n",
    "print(f\"Num1 - {a}\\nNum2 - {b}\\nNum3 - {c}\\n\")\n",
    "\n",
    "if a>b and a>c:\n",
    "    print(f\"{a} is largest\")\n",
    "elif b>a and b>c:\n",
    "    print(f\"{b} is largest\")\n",
    "elif c>a and c>b:\n",
    "    print(f\"{c} is largest\")\n",
    "else:\n",
    "    print(\"All are equal!\")"
   ]
  },
  {
   "cell_type": "code",
   "execution_count": 46,
   "metadata": {},
   "outputs": [
    {
     "name": "stdout",
     "output_type": "stream",
     "text": [
      "1900 is not a leap year\n"
     ]
    }
   ],
   "source": [
    "#4\n",
    "\n",
    "yr = int(input(\"Enter a year -\"))\n",
    "\n",
    "if yr%4==0 and yr%100!=0:\n",
    "    print(f\"{yr} is a Leap year\")\n",
    "elif yr%400==0:\n",
    "    print(f\"{yr} is a leap year\")\n",
    "else:\n",
    "    print(f\"{yr} is not a leap year\")\n"
   ]
  },
  {
   "cell_type": "code",
   "execution_count": 55,
   "metadata": {},
   "outputs": [
    {
     "name": "stdout",
     "output_type": "stream",
     "text": [
      "Entered char is vowel - o\n"
     ]
    }
   ],
   "source": [
    "#5\n",
    "\n",
    "a=input(\"Enter a character - \").lower()\n",
    "b = \"a e i o u\"\n",
    "\n",
    "if a in b:\n",
    "    print(f\"Entered char is vowel - {a}\")\n",
    "elif a not in b:\n",
    "    print(f\"Entered char is consonant - {a}\")\n",
    "else:\n",
    "    print(\"Enter a valid character\")"
   ]
  },
  {
   "cell_type": "markdown",
   "metadata": {},
   "source": [
    "# Loops (for & while)\n",
    "# 1 Write a Python program to print numbers from 1 to 10 using a loop.\n",
    "# 2 Write a program that prints the multiplication table of a given number.\n",
    "# 3 Ask the user for a number and print its factorial using a loop.\n",
    "# 4 Take an integer input and print whether it is prime or not.\n",
    "# 5 Print all even numbers between 1 and 50."
   ]
  },
  {
   "cell_type": "code",
   "execution_count": 58,
   "metadata": {},
   "outputs": [
    {
     "name": "stdout",
     "output_type": "stream",
     "text": [
      "1\n",
      "2\n",
      "3\n",
      "4\n",
      "5\n",
      "6\n",
      "7\n",
      "8\n",
      "9\n",
      "10\n"
     ]
    }
   ],
   "source": [
    "#1\n",
    "\n",
    "for i in range(1,11):\n",
    "    print (i)"
   ]
  },
  {
   "cell_type": "code",
   "execution_count": 63,
   "metadata": {},
   "outputs": [
    {
     "name": "stdout",
     "output_type": "stream",
     "text": [
      "5 x 1 = 5\n",
      "5 x 2 = 10\n",
      "5 x 3 = 15\n",
      "5 x 4 = 20\n",
      "5 x 5 = 25\n",
      "5 x 6 = 30\n",
      "5 x 7 = 35\n",
      "5 x 8 = 40\n",
      "5 x 9 = 45\n",
      "5 x 10 = 50\n"
     ]
    }
   ],
   "source": [
    "#2\n",
    "\n",
    "x = int(input(\"Enter a number - \"))\n",
    "\n",
    "for i in range(1,11):\n",
    "    print(f\"{x} x {i} = {x*i}\")"
   ]
  },
  {
   "cell_type": "code",
   "execution_count": 77,
   "metadata": {},
   "outputs": [
    {
     "name": "stdout",
     "output_type": "stream",
     "text": [
      "Factorial of 5 is 120\n"
     ]
    }
   ],
   "source": [
    "#3\n",
    "\n",
    "a=int(input(\"Enter a number for factorial \"))\n",
    "f=1\n",
    "for i in range(1,a+1):\n",
    "    f=f*i\n",
    "print(F\"Factorial of {a} is {f}\")"
   ]
  },
  {
   "cell_type": "code",
   "execution_count": 96,
   "metadata": {},
   "outputs": [
    {
     "name": "stdout",
     "output_type": "stream",
     "text": [
      "5 is a prime\n"
     ]
    }
   ],
   "source": [
    "#4\n",
    "\n",
    "a=int(input(\"Enter a number - \"))\n",
    "\n",
    "for i in range(2,a):\n",
    "    if a%i==0:\n",
    "        print(f\"{a} is not a prime\")\n",
    "        break\n",
    "    else:\n",
    "        print((f\"{a} is a prime\"))\n",
    "        break"
   ]
  },
  {
   "cell_type": "code",
   "execution_count": 97,
   "metadata": {},
   "outputs": [
    {
     "name": "stdout",
     "output_type": "stream",
     "text": [
      "2\n",
      "4\n",
      "6\n",
      "8\n",
      "10\n",
      "12\n",
      "14\n",
      "16\n",
      "18\n",
      "20\n",
      "22\n",
      "24\n",
      "26\n",
      "28\n",
      "30\n",
      "32\n",
      "34\n",
      "36\n",
      "38\n",
      "40\n",
      "42\n",
      "44\n",
      "46\n",
      "48\n",
      "50\n"
     ]
    }
   ],
   "source": [
    "#5\n",
    " \n",
    "for i in range(1,51):\n",
    "    if i%2==0:\n",
    "        print(i)"
   ]
  },
  {
   "cell_type": "markdown",
   "metadata": {},
   "source": [
    "# Lists\n",
    "# 1 Take five numbers as input from the user and store them in a list, then print the sum of all numbers.\n",
    "# 2 Write a program that takes a list of numbers and finds the second largest number.\n",
    "# 3 Remove duplicates from a list and print the updated list.\n",
    "# 4 Reverse a list without using the .reverse() method.\n",
    "# 5 Merge two lists and remove any duplicates."
   ]
  },
  {
   "cell_type": "code",
   "execution_count": 5,
   "metadata": {},
   "outputs": [
    {
     "name": "stdout",
     "output_type": "stream",
     "text": [
      "List - [2.3, 34.5, 6.5, 10.0, 88.0]\n",
      "Sum - 141.3\n"
     ]
    }
   ],
   "source": [
    "#1\n",
    "a = []\n",
    "\n",
    "for i in range(1,6):\n",
    "    x=float(input(f\"Enter num {i} -\"))\n",
    "    a.append(x)\n",
    "print(f\"List - {a}\")\n",
    "\n",
    "s=0\n",
    "for i in range(1,6):\n",
    "    s=s+a[i-1]\n",
    "print(f\"Sum - {s}\")"
   ]
  },
  {
   "cell_type": "code",
   "execution_count": null,
   "metadata": {},
   "outputs": [
    {
     "name": "stdout",
     "output_type": "stream",
     "text": [
      "[3, 1, 2]\n",
      "[2]\n"
     ]
    }
   ],
   "source": [
    "#2\n",
    "\n",
    "n=int(input(\"Enter number of nums - \"))\n",
    "\n",
    "c=[]\n",
    "for i in range(1,n+1):\n",
    "    a=int(input(f\"Enter num {i}\"))\n",
    "    c.append(a)\n",
    "print(c)\n",
    "\n",
    "c.sort(reverse=True)\n",
    "print([c[1]])\n"
   ]
  }
 ],
 "metadata": {
  "kernelspec": {
   "display_name": "Python 3",
   "language": "python",
   "name": "python3"
  },
  "language_info": {
   "codemirror_mode": {
    "name": "ipython",
    "version": 3
   },
   "file_extension": ".py",
   "mimetype": "text/x-python",
   "name": "python",
   "nbconvert_exporter": "python",
   "pygments_lexer": "ipython3",
   "version": "3.12.9"
  }
 },
 "nbformat": 4,
 "nbformat_minor": 2
}
