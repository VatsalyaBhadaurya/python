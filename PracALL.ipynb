{
 "cells": [
  {
   "cell_type": "markdown",
   "metadata": {},
   "source": [
    "## Strings\n",
    "## 1 How do you find the length of a string in Python?\n",
    "## 2 What is string slicing? Provide an example.\n",
    "## 3 What will be the output of \"Python\"[::-1]?\n",
    "## 4 How do you check if a substring exists within a string?\n",
    "## 5 Differentiate between .find() and .index() methods in strings"
   ]
  },
  {
   "cell_type": "code",
   "execution_count": null,
   "metadata": {},
   "outputs": [
    {
     "name": "stdout",
     "output_type": "stream",
     "text": [
      "18\n"
     ]
    }
   ],
   "source": [
    "#1\n",
    "\n",
    "str = \"hello good morning\"\n",
    "\n",
    "print(len(str))"
   ]
  },
  {
   "cell_type": "code",
   "execution_count": null,
   "metadata": {},
   "outputs": [
    {
     "name": "stdout",
     "output_type": "stream",
     "text": [
      "Maut\n"
     ]
    }
   ],
   "source": [
    "#2\n",
    "\n",
    "a = \"seedheMaut\"\n",
    "\n",
    "print(a[6:])"
   ]
  },
  {
   "cell_type": "code",
   "execution_count": 7,
   "metadata": {},
   "outputs": [
    {
     "name": "stdout",
     "output_type": "stream",
     "text": [
      "nohtyp\n"
     ]
    }
   ],
   "source": [
    "#3\n",
    "\n",
    "a = \"python\"\n",
    "\n",
    "print(a[::-1])"
   ]
  },
  {
   "cell_type": "code",
   "execution_count": 12,
   "metadata": {},
   "outputs": [
    {
     "name": "stdout",
     "output_type": "stream",
     "text": [
      "chowk is a substring of chandani chowk\n"
     ]
    }
   ],
   "source": [
    "# 4\n",
    "\n",
    "a = \"Chandani CHowk\".lower()\n",
    "\n",
    "b = \"chowk\"\n",
    "\n",
    "if b in a:\n",
    "    print (f\"{b} is a substring of {a}\")"
   ]
  },
  {
   "cell_type": "code",
   "execution_count": 19,
   "metadata": {},
   "outputs": [
    {
     "name": "stdout",
     "output_type": "stream",
     "text": [
      "7\n",
      "4\n"
     ]
    }
   ],
   "source": [
    "#5\n",
    "\n",
    "a = \"hello huihiuhui\"\n",
    "\n",
    "\n",
    "print(a.find(\"ui\"))\n",
    "print(a.index(\"o\"))\n"
   ]
  }
 ],
 "metadata": {
  "kernelspec": {
   "display_name": "Python 3",
   "language": "python",
   "name": "python3"
  },
  "language_info": {
   "codemirror_mode": {
    "name": "ipython",
    "version": 3
   },
   "file_extension": ".py",
   "mimetype": "text/x-python",
   "name": "python",
   "nbconvert_exporter": "python",
   "pygments_lexer": "ipython3",
   "version": "3.12.9"
  }
 },
 "nbformat": 4,
 "nbformat_minor": 2
}
