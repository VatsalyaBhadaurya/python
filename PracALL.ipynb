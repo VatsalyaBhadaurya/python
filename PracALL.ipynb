{
 "cells": [
  {
   "cell_type": "markdown",
   "metadata": {},
   "source": [
    "## Strings\n",
    "## 1 How do you find the length of a string in Python?\n",
    "## 2 What is string slicing? Provide an example.\n",
    "## 3 What will be the output of \"Python\"[::-1]?\n",
    "## 4 How do you check if a substring exists within a string?\n",
    "## 5 Differentiate between .find() and .index() methods in strings"
   ]
  },
  {
   "cell_type": "code",
   "execution_count": null,
   "metadata": {},
   "outputs": [
    {
     "name": "stdout",
     "output_type": "stream",
     "text": [
      "18\n"
     ]
    }
   ],
   "source": [
    "#1\n",
    "\n",
    "str = \"hello good morning\"\n",
    "\n",
    "print(len(str))"
   ]
  },
  {
   "cell_type": "code",
   "execution_count": null,
   "metadata": {},
   "outputs": [
    {
     "name": "stdout",
     "output_type": "stream",
     "text": [
      "Maut\n"
     ]
    }
   ],
   "source": [
    "#2\n",
    "\n",
    "a = \"seedheMaut\"\n",
    "\n",
    "print(a[6:])"
   ]
  },
  {
   "cell_type": "code",
   "execution_count": 7,
   "metadata": {},
   "outputs": [
    {
     "name": "stdout",
     "output_type": "stream",
     "text": [
      "nohtyp\n"
     ]
    }
   ],
   "source": [
    "#3\n",
    "\n",
    "a = \"python\"\n",
    "\n",
    "print(a[::-1])"
   ]
  },
  {
   "cell_type": "code",
   "execution_count": 12,
   "metadata": {},
   "outputs": [
    {
     "name": "stdout",
     "output_type": "stream",
     "text": [
      "chowk is a substring of chandani chowk\n"
     ]
    }
   ],
   "source": [
    "# 4\n",
    "\n",
    "a = \"Chandani CHowk\".lower()\n",
    "\n",
    "b = \"chowk\"\n",
    "\n",
    "if b in a:\n",
    "    print (f\"{b} is a substring of {a}\")"
   ]
  },
  {
   "cell_type": "code",
   "execution_count": 19,
   "metadata": {},
   "outputs": [
    {
     "name": "stdout",
     "output_type": "stream",
     "text": [
      "7\n",
      "4\n"
     ]
    }
   ],
   "source": [
    "#5\n",
    "\n",
    "a = \"hello huihiuhui\"\n",
    "\n",
    "\n",
    "print(a.find(\"ui\"))\n",
    "print(a.index(\"o\"))\n"
   ]
  },
  {
   "cell_type": "markdown",
   "metadata": {},
   "source": [
    "## Input & Output\n",
    "## 1 Write a program that takes the user's name and age as input and prints: \"Hello [name], you are [age] years old!\"\n",
    "## 2 Take two integer inputs from the user, add them, and display the sum.\n",
    "## 3 Ask the user to enter three numbers and print the largest one.\n",
    "## 4 Write a program that asks the user for a sentence and counts the number of words in it."
   ]
  },
  {
   "cell_type": "code",
   "execution_count": 21,
   "metadata": {},
   "outputs": [
    {
     "name": "stdout",
     "output_type": "stream",
     "text": [
      "Hello ye, you are 78.0 years old!\n"
     ]
    }
   ],
   "source": [
    "#1 \n",
    "\n",
    "name = input(\"Enter your name - \")\n",
    "age = float(input(\"Enter yoour age - \"))\n",
    "\n",
    "print(f\"Hello {name}, you are {age} years old!\")"
   ]
  },
  {
   "cell_type": "code",
   "execution_count": 22,
   "metadata": {},
   "outputs": [
    {
     "name": "stdout",
     "output_type": "stream",
     "text": [
      "Sum of 34.43 and 23.0 is 57.43\n"
     ]
    }
   ],
   "source": [
    "#2\n",
    "\n",
    "a = float(input(\"Enter number 1 - \"))\n",
    "b = float(input(\"Enter number 2 -\"))\n",
    "\n",
    "print(f\"Sum of {a} and {b} is {a+b}\")"
   ]
  },
  {
   "cell_type": "code",
   "execution_count": null,
   "metadata": {},
   "outputs": [
    {
     "name": "stdout",
     "output_type": "stream",
     "text": [
      "Num1 - 344.0\n",
      "Num2 - 343.3\n",
      "Num3 - 22.0\n",
      "\n",
      "344.0 is largest\n"
     ]
    }
   ],
   "source": [
    "#3\n",
    "\n",
    "a = float(input(\"Enter number 1 -\"))\n",
    "b = float(input(\"Enter number 2 -\"))\n",
    "c = float(input(\"Enter number 3 -\"))\n",
    "\n",
    "print(f\"Num1 - {a}\\nNum2 - {b}\\nNum3 - {c}\\n\")\n",
    "\n",
    "if a>b and a>c:\n",
    "    print(f\"{a} is largest\")\n",
    "elif b>a and b>c:\n",
    "    print(f\"{b} is largest\")\n",
    "elif c>a and c>b:\n",
    "    print(f\"{c} is largest\")\n",
    "else:\n",
    "    print(\"All are equal!\")"
   ]
  },
  {
   "cell_type": "code",
   "execution_count": 40,
   "metadata": {},
   "outputs": [
    {
     "name": "stdout",
     "output_type": "stream",
     "text": [
      "Words - 4\n"
     ]
    }
   ],
   "source": [
    "#4\n",
    "\n",
    "a = \"hello pineapple good morning\"\n",
    "\n",
    "print(f\"Words - {len(a.split())}\")"
   ]
  }
 ],
 "metadata": {
  "kernelspec": {
   "display_name": "Python 3",
   "language": "python",
   "name": "python3"
  },
  "language_info": {
   "codemirror_mode": {
    "name": "ipython",
    "version": 3
   },
   "file_extension": ".py",
   "mimetype": "text/x-python",
   "name": "python",
   "nbconvert_exporter": "python",
   "pygments_lexer": "ipython3",
   "version": "3.12.9"
  }
 },
 "nbformat": 4,
 "nbformat_minor": 2
}
